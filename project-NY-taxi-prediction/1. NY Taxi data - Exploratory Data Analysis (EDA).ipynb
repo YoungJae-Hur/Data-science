{
 "cells": [
  {
   "cell_type": "markdown",
   "metadata": {},
   "source": [
    "### NYC NY taxi data EDA\n",
    "\n",
    "- Q1:Call numbers per hours?\n",
    "- Q2:Call numbers per weekdays?\n",
    "- Use GCP Bigquery, data visualization (seaborn, plotly)"
   ]
  },
  {
   "cell_type": "code",
   "execution_count": 3,
   "metadata": {},
   "outputs": [
    {
     "name": "stdout",
     "output_type": "stream",
     "text": [
      "Collecting chart-studio\n",
      "  Downloading chart_studio-1.1.0-py3-none-any.whl (64 kB)\n",
      "\u001b[K     |████████████████████████████████| 64 kB 496 kB/s eta 0:00:01\n",
      "\u001b[?25hRequirement already satisfied: cufflinks in /usr/local/lib/python3.7/site-packages (0.17.3)\n",
      "Requirement already satisfied: pandas in /usr/local/lib/python3.7/site-packages (0.25.3)\n",
      "Requirement already satisfied: numpy in /usr/local/lib/python3.7/site-packages (1.17.4)\n",
      "Requirement already satisfied: seaborn in /usr/local/lib/python3.7/site-packages (0.9.0)\n",
      "Requirement already satisfied: matplotlib in /usr/local/lib/python3.7/site-packages (3.1.2)\n",
      "Requirement already satisfied: pandas-gbq in /usr/local/lib/python3.7/site-packages (0.13.2)\n",
      "Requirement already satisfied: six in /usr/local/lib/python3.7/site-packages (from chart-studio) (1.13.0)\n",
      "Requirement already satisfied: plotly in /usr/local/lib/python3.7/site-packages (from chart-studio) (4.9.0)\n",
      "Requirement already satisfied: requests in /usr/local/lib/python3.7/site-packages (from chart-studio) (2.22.0)\n",
      "Requirement already satisfied: retrying>=1.3.3 in /usr/local/lib/python3.7/site-packages (from chart-studio) (1.3.3)\n",
      "Requirement already satisfied: ipywidgets>=7.0.0 in /usr/local/lib/python3.7/site-packages (from cufflinks) (7.5.1)\n",
      "Requirement already satisfied: colorlover>=0.2.1 in /usr/local/lib/python3.7/site-packages (from cufflinks) (0.3.0)\n",
      "Requirement already satisfied: setuptools>=34.4.1 in /usr/local/lib/python3.7/site-packages (from cufflinks) (42.0.1)\n",
      "Requirement already satisfied: ipython>=5.3.0 in /usr/local/lib/python3.7/site-packages (from cufflinks) (7.9.0)\n",
      "Requirement already satisfied: python-dateutil>=2.6.1 in /usr/local/lib/python3.7/site-packages (from pandas) (2.8.1)\n",
      "Requirement already satisfied: pytz>=2017.2 in /usr/local/lib/python3.7/site-packages (from pandas) (2019.3)\n",
      "Requirement already satisfied: scipy>=0.14.0 in /usr/local/lib/python3.7/site-packages (from seaborn) (1.3.3)\n",
      "Requirement already satisfied: kiwisolver>=1.0.1 in /usr/local/lib/python3.7/site-packages (from matplotlib) (1.1.0)\n",
      "Requirement already satisfied: pyparsing!=2.0.4,!=2.1.2,!=2.1.6,>=2.0.1 in /usr/local/lib/python3.7/site-packages (from matplotlib) (2.4.5)\n",
      "Requirement already satisfied: cycler>=0.10 in /usr/local/lib/python3.7/site-packages (from matplotlib) (0.10.0)\n",
      "Requirement already satisfied: google-cloud-bigquery>=1.11.1 in /usr/local/lib/python3.7/site-packages (from pandas-gbq) (1.26.1)\n",
      "Requirement already satisfied: google-auth-oauthlib in /usr/local/lib/python3.7/site-packages (from pandas-gbq) (0.4.1)\n",
      "Requirement already satisfied: pydata-google-auth in /usr/local/lib/python3.7/site-packages (from pandas-gbq) (1.1.0)\n",
      "Requirement already satisfied: google-auth in /usr/local/lib/python3.7/site-packages (from pandas-gbq) (1.7.1)\n",
      "Requirement already satisfied: chardet<3.1.0,>=3.0.2 in /usr/local/lib/python3.7/site-packages (from requests->chart-studio) (3.0.4)\n",
      "Requirement already satisfied: certifi>=2017.4.17 in /usr/local/lib/python3.7/site-packages (from requests->chart-studio) (2019.9.11)\n",
      "Requirement already satisfied: idna<2.9,>=2.5 in /usr/local/lib/python3.7/site-packages (from requests->chart-studio) (2.8)\n",
      "Requirement already satisfied: urllib3!=1.25.0,!=1.25.1,<1.26,>=1.21.1 in /usr/local/lib/python3.7/site-packages (from requests->chart-studio) (1.25.7)\n",
      "Requirement already satisfied: traitlets>=4.3.1 in /usr/local/lib/python3.7/site-packages (from ipywidgets>=7.0.0->cufflinks) (4.3.3)\n",
      "Requirement already satisfied: nbformat>=4.2.0 in /usr/local/lib/python3.7/site-packages (from ipywidgets>=7.0.0->cufflinks) (4.4.0)\n",
      "Requirement already satisfied: widgetsnbextension~=3.5.0 in /usr/local/lib/python3.7/site-packages (from ipywidgets>=7.0.0->cufflinks) (3.5.1)\n",
      "Requirement already satisfied: ipykernel>=4.5.1 in /usr/local/lib/python3.7/site-packages (from ipywidgets>=7.0.0->cufflinks) (5.1.3)\n",
      "Requirement already satisfied: backcall in /usr/local/lib/python3.7/site-packages (from ipython>=5.3.0->cufflinks) (0.1.0)\n",
      "Requirement already satisfied: pygments in /usr/local/lib/python3.7/site-packages (from ipython>=5.3.0->cufflinks) (2.4.2)\n",
      "Requirement already satisfied: pickleshare in /usr/local/lib/python3.7/site-packages (from ipython>=5.3.0->cufflinks) (0.7.5)\n",
      "Requirement already satisfied: pexpect; sys_platform != \"win32\" in /usr/local/lib/python3.7/site-packages (from ipython>=5.3.0->cufflinks) (4.7.0)\n",
      "Requirement already satisfied: jedi>=0.10 in /usr/local/lib/python3.7/site-packages (from ipython>=5.3.0->cufflinks) (0.15.1)\n",
      "Requirement already satisfied: prompt-toolkit<2.1.0,>=2.0.0 in /usr/local/lib/python3.7/site-packages (from ipython>=5.3.0->cufflinks) (2.0.10)\n",
      "Requirement already satisfied: decorator in /usr/local/lib/python3.7/site-packages (from ipython>=5.3.0->cufflinks) (4.4.1)\n",
      "Requirement already satisfied: google-api-core<2.0dev,>=1.21.0 in /usr/local/lib/python3.7/site-packages (from google-cloud-bigquery>=1.11.1->pandas-gbq) (1.22.0)\n",
      "Requirement already satisfied: google-cloud-core<2.0dev,>=1.1.0 in /usr/local/lib/python3.7/site-packages (from google-cloud-bigquery>=1.11.1->pandas-gbq) (1.4.1)\n",
      "Requirement already satisfied: google-resumable-media<2.0dev,>=0.5.0 in /usr/local/lib/python3.7/site-packages (from google-cloud-bigquery>=1.11.1->pandas-gbq) (0.7.1)\n",
      "Requirement already satisfied: requests-oauthlib>=0.7.0 in /usr/local/lib/python3.7/site-packages (from google-auth-oauthlib->pandas-gbq) (1.3.0)\n",
      "Requirement already satisfied: pyasn1-modules>=0.2.1 in /usr/local/lib/python3.7/site-packages (from google-auth->pandas-gbq) (0.2.7)\n",
      "Requirement already satisfied: cachetools<3.2,>=2.0.0 in /usr/local/lib/python3.7/site-packages (from google-auth->pandas-gbq) (3.1.1)\n",
      "Requirement already satisfied: rsa<4.1,>=3.1.4 in /usr/local/lib/python3.7/site-packages (from google-auth->pandas-gbq) (4.0)\n",
      "Requirement already satisfied: ipython-genutils in /usr/local/lib/python3.7/site-packages (from traitlets>=4.3.1->ipywidgets>=7.0.0->cufflinks) (0.2.0)\n",
      "Requirement already satisfied: jsonschema!=2.5.0,>=2.4 in /usr/local/lib/python3.7/site-packages (from nbformat>=4.2.0->ipywidgets>=7.0.0->cufflinks) (3.2.0)\n",
      "Requirement already satisfied: jupyter-core in /usr/local/lib/python3.7/site-packages (from nbformat>=4.2.0->ipywidgets>=7.0.0->cufflinks) (4.6.1)\n",
      "Requirement already satisfied: notebook>=4.4.1 in /usr/local/lib/python3.7/site-packages (from widgetsnbextension~=3.5.0->ipywidgets>=7.0.0->cufflinks) (6.0.2)\n",
      "Requirement already satisfied: tornado>=4.2 in /usr/local/lib/python3.7/site-packages (from ipykernel>=4.5.1->ipywidgets>=7.0.0->cufflinks) (6.0.3)\n",
      "Requirement already satisfied: jupyter-client in /usr/local/lib/python3.7/site-packages (from ipykernel>=4.5.1->ipywidgets>=7.0.0->cufflinks) (5.3.4)\n",
      "Requirement already satisfied: ptyprocess>=0.5 in /usr/local/lib/python3.7/site-packages (from pexpect; sys_platform != \"win32\"->ipython>=5.3.0->cufflinks) (0.6.0)\n",
      "Requirement already satisfied: parso>=0.5.0 in /usr/local/lib/python3.7/site-packages (from jedi>=0.10->ipython>=5.3.0->cufflinks) (0.5.1)\n",
      "Requirement already satisfied: wcwidth in /usr/local/lib/python3.7/site-packages (from prompt-toolkit<2.1.0,>=2.0.0->ipython>=5.3.0->cufflinks) (0.1.7)\n",
      "Requirement already satisfied: googleapis-common-protos<2.0dev,>=1.6.0 in /usr/local/lib/python3.7/site-packages (from google-api-core<2.0dev,>=1.21.0->google-cloud-bigquery>=1.11.1->pandas-gbq) (1.52.0)\n",
      "Requirement already satisfied: protobuf>=3.12.0 in /usr/local/lib/python3.7/site-packages (from google-api-core<2.0dev,>=1.21.0->google-cloud-bigquery>=1.11.1->pandas-gbq) (3.12.4)\n",
      "Requirement already satisfied: google-crc32c<0.2dev,>=0.1.0; python_version >= \"3.5\" in /usr/local/lib/python3.7/site-packages (from google-resumable-media<2.0dev,>=0.5.0->google-cloud-bigquery>=1.11.1->pandas-gbq) (0.1.0)\n",
      "Requirement already satisfied: oauthlib>=3.0.0 in /usr/local/lib/python3.7/site-packages (from requests-oauthlib>=0.7.0->google-auth-oauthlib->pandas-gbq) (3.1.0)\n",
      "Requirement already satisfied: pyasn1<0.5.0,>=0.4.6 in /usr/local/lib/python3.7/site-packages (from pyasn1-modules>=0.2.1->google-auth->pandas-gbq) (0.4.8)\n",
      "Requirement already satisfied: importlib-metadata; python_version < \"3.8\" in /usr/local/lib/python3.7/site-packages (from jsonschema!=2.5.0,>=2.4->nbformat>=4.2.0->ipywidgets>=7.0.0->cufflinks) (0.23)\n"
     ]
    },
    {
     "name": "stdout",
     "output_type": "stream",
     "text": [
      "Requirement already satisfied: attrs>=17.4.0 in /usr/local/lib/python3.7/site-packages (from jsonschema!=2.5.0,>=2.4->nbformat>=4.2.0->ipywidgets>=7.0.0->cufflinks) (19.3.0)\n",
      "Requirement already satisfied: pyrsistent>=0.14.0 in /usr/local/lib/python3.7/site-packages (from jsonschema!=2.5.0,>=2.4->nbformat>=4.2.0->ipywidgets>=7.0.0->cufflinks) (0.15.6)\n",
      "Requirement already satisfied: prometheus-client in /usr/local/lib/python3.7/site-packages (from notebook>=4.4.1->widgetsnbextension~=3.5.0->ipywidgets>=7.0.0->cufflinks) (0.7.1)\n",
      "Requirement already satisfied: jinja2 in /usr/local/lib/python3.7/site-packages (from notebook>=4.4.1->widgetsnbextension~=3.5.0->ipywidgets>=7.0.0->cufflinks) (2.10.3)\n",
      "Requirement already satisfied: Send2Trash in /usr/local/lib/python3.7/site-packages (from notebook>=4.4.1->widgetsnbextension~=3.5.0->ipywidgets>=7.0.0->cufflinks) (1.5.0)\n",
      "Requirement already satisfied: nbconvert in /usr/local/lib/python3.7/site-packages (from notebook>=4.4.1->widgetsnbextension~=3.5.0->ipywidgets>=7.0.0->cufflinks) (5.6.1)\n",
      "Requirement already satisfied: pyzmq>=17 in /usr/local/lib/python3.7/site-packages (from notebook>=4.4.1->widgetsnbextension~=3.5.0->ipywidgets>=7.0.0->cufflinks) (18.1.1)\n",
      "Requirement already satisfied: terminado>=0.8.1 in /usr/local/lib/python3.7/site-packages (from notebook>=4.4.1->widgetsnbextension~=3.5.0->ipywidgets>=7.0.0->cufflinks) (0.8.3)\n",
      "Requirement already satisfied: cffi>=1.0.0 in /usr/local/lib/python3.7/site-packages (from google-crc32c<0.2dev,>=0.1.0; python_version >= \"3.5\"->google-resumable-media<2.0dev,>=0.5.0->google-cloud-bigquery>=1.11.1->pandas-gbq) (1.14.0)\n",
      "Requirement already satisfied: zipp>=0.5 in /usr/local/lib/python3.7/site-packages (from importlib-metadata; python_version < \"3.8\"->jsonschema!=2.5.0,>=2.4->nbformat>=4.2.0->ipywidgets>=7.0.0->cufflinks) (0.6.0)\n",
      "Requirement already satisfied: MarkupSafe>=0.23 in /usr/local/lib/python3.7/site-packages (from jinja2->notebook>=4.4.1->widgetsnbextension~=3.5.0->ipywidgets>=7.0.0->cufflinks) (1.1.1)\n",
      "Requirement already satisfied: entrypoints>=0.2.2 in /usr/local/lib/python3.7/site-packages (from nbconvert->notebook>=4.4.1->widgetsnbextension~=3.5.0->ipywidgets>=7.0.0->cufflinks) (0.3)\n",
      "Requirement already satisfied: defusedxml in /usr/local/lib/python3.7/site-packages (from nbconvert->notebook>=4.4.1->widgetsnbextension~=3.5.0->ipywidgets>=7.0.0->cufflinks) (0.6.0)\n",
      "Requirement already satisfied: pandocfilters>=1.4.1 in /usr/local/lib/python3.7/site-packages (from nbconvert->notebook>=4.4.1->widgetsnbextension~=3.5.0->ipywidgets>=7.0.0->cufflinks) (1.4.2)\n",
      "Requirement already satisfied: bleach in /usr/local/lib/python3.7/site-packages (from nbconvert->notebook>=4.4.1->widgetsnbextension~=3.5.0->ipywidgets>=7.0.0->cufflinks) (3.1.0)\n",
      "Requirement already satisfied: testpath in /usr/local/lib/python3.7/site-packages (from nbconvert->notebook>=4.4.1->widgetsnbextension~=3.5.0->ipywidgets>=7.0.0->cufflinks) (0.4.4)\n",
      "Requirement already satisfied: mistune<2,>=0.8.1 in /usr/local/lib/python3.7/site-packages (from nbconvert->notebook>=4.4.1->widgetsnbextension~=3.5.0->ipywidgets>=7.0.0->cufflinks) (0.8.4)\n",
      "Requirement already satisfied: pycparser in /usr/local/lib/python3.7/site-packages (from cffi>=1.0.0->google-crc32c<0.2dev,>=0.1.0; python_version >= \"3.5\"->google-resumable-media<2.0dev,>=0.5.0->google-cloud-bigquery>=1.11.1->pandas-gbq) (2.20)\n",
      "Requirement already satisfied: more-itertools in /usr/local/lib/python3.7/site-packages (from zipp>=0.5->importlib-metadata; python_version < \"3.8\"->jsonschema!=2.5.0,>=2.4->nbformat>=4.2.0->ipywidgets>=7.0.0->cufflinks) (7.2.0)\n",
      "Requirement already satisfied: webencodings in /usr/local/lib/python3.7/site-packages (from bleach->nbconvert->notebook>=4.4.1->widgetsnbextension~=3.5.0->ipywidgets>=7.0.0->cufflinks) (0.5.1)\n",
      "Installing collected packages: chart-studio\n",
      "Successfully installed chart-studio-1.1.0\n",
      "\u001b[33mWARNING: You are using pip version 20.1.1; however, version 20.2.2 is available.\n",
      "You should consider upgrading via the '/usr/local/bin/python3.7 -m pip install --upgrade pip' command.\u001b[0m\n"
     ]
    }
   ],
   "source": [
    "# !pip3 install chart-studio cufflinks pandas numpy seaborn matplotlib pandas-gbq"
   ]
  },
  {
   "cell_type": "code",
   "execution_count": 1,
   "metadata": {},
   "outputs": [
    {
     "name": "stdout",
     "output_type": "stream",
     "text": [
      "0.17.3\n"
     ]
    },
    {
     "data": {
      "text/html": [
       "        <script type=\"text/javascript\">\n",
       "        window.PlotlyConfig = {MathJaxConfig: 'local'};\n",
       "        if (window.MathJax) {MathJax.Hub.Config({SVG: {font: \"STIX-Web\"}});}\n",
       "        if (typeof require !== 'undefined') {\n",
       "        require.undef(\"plotly\");\n",
       "        requirejs.config({\n",
       "            paths: {\n",
       "                'plotly': ['https://cdn.plot.ly/plotly-latest.min']\n",
       "            }\n",
       "        });\n",
       "        require(['plotly'], function(Plotly) {\n",
       "            window._Plotly = Plotly;\n",
       "        });\n",
       "        }\n",
       "        </script>\n",
       "        "
      ]
     },
     "metadata": {},
     "output_type": "display_data"
    }
   ],
   "source": [
    "import chart_studio.plotly as py\n",
    "import cufflinks as cf\n",
    "import pandas as pd\n",
    "import numpy as np\n",
    "import seaborn as sns\n",
    "import matplotlib.pyplot as plt\n",
    "import warnings\n",
    "warnings.filterwarnings(\"ignore\")\n",
    "\n",
    "plt.style.use('ggplot')\n",
    "print(cf.__version__)\n",
    "\n",
    "%config InlineBackend.figure_format = 'retina'\n",
    "cf.go_offline()"
   ]
  },
  {
   "cell_type": "markdown",
   "metadata": {},
   "source": [
    "### 1. Whole trip numbers in January"
   ]
  },
  {
   "cell_type": "code",
   "execution_count": 2,
   "metadata": {},
   "outputs": [],
   "source": [
    "import os\n",
    "os.environ['GOOGLE_APPLICATION_CREDENTIALS'] = '~/.config/gcloud/application_default_credentials.json'"
   ]
  },
  {
   "cell_type": "code",
   "execution_count": 3,
   "metadata": {},
   "outputs": [],
   "source": [
    "os.environ['GOOGLE_APPLICATION_CREDENTIALS'] = '/workspace/AI_Data_Science/mobility-285808-aa8e44818175.json'"
   ]
  },
  {
   "cell_type": "code",
   "execution_count": 4,
   "metadata": {},
   "outputs": [],
   "source": [
    "# import GCP Client library\n",
    "from google.cloud import bigquery"
   ]
  },
  {
   "cell_type": "code",
   "execution_count": 5,
   "metadata": {},
   "outputs": [
    {
     "data": {
      "text/plain": [
       "<google.cloud.bigquery.client.Client at 0x7fd97d95aa50>"
      ]
     },
     "execution_count": 5,
     "metadata": {},
     "output_type": "execute_result"
    }
   ],
   "source": [
    "#instantiate a client for bigquery service\n",
    "bigquery_client = bigquery.Client()\n",
    "bigquery_client"
   ]
  },
  {
   "cell_type": "code",
   "execution_count": 7,
   "metadata": {},
   "outputs": [],
   "source": [
    "# Query for Bigquery\n",
    "query = \"\"\"\n",
    "SELECT \n",
    "    DATETIME_TRUNC(pickup_datetime, hour) as pickup_hour,\n",
    "    count(*) as cnt\n",
    "FROM `bigquery-public-data.new_york_taxi_trips.tlc_yellow_trips_2018`\n",
    "WHERE EXTRACT(MONTH from pickup_datetime) = 1\n",
    "GROUP BY pickup_hour\n",
    "ORDER BY pickup_hour\n",
    "\"\"\""
   ]
  },
  {
   "cell_type": "code",
   "execution_count": 9,
   "metadata": {},
   "outputs": [],
   "source": [
    "# run query and get data from bigquery\n",
    "query_job = bigquery_client.query(query) #API request"
   ]
  },
  {
   "cell_type": "code",
   "execution_count": 10,
   "metadata": {},
   "outputs": [
    {
     "data": {
      "text/html": [
       "<div>\n",
       "<style scoped>\n",
       "    .dataframe tbody tr th:only-of-type {\n",
       "        vertical-align: middle;\n",
       "    }\n",
       "\n",
       "    .dataframe tbody tr th {\n",
       "        vertical-align: top;\n",
       "    }\n",
       "\n",
       "    .dataframe thead th {\n",
       "        text-align: right;\n",
       "    }\n",
       "</style>\n",
       "<table border=\"1\" class=\"dataframe\">\n",
       "  <thead>\n",
       "    <tr style=\"text-align: right;\">\n",
       "      <th></th>\n",
       "      <th>pickup_hour</th>\n",
       "      <th>cnt</th>\n",
       "    </tr>\n",
       "  </thead>\n",
       "  <tbody>\n",
       "    <tr>\n",
       "      <th>0</th>\n",
       "      <td>2001-01-01 00:00:00</td>\n",
       "      <td>10</td>\n",
       "    </tr>\n",
       "    <tr>\n",
       "      <th>1</th>\n",
       "      <td>2001-01-01 22:00:00</td>\n",
       "      <td>2</td>\n",
       "    </tr>\n",
       "    <tr>\n",
       "      <th>2</th>\n",
       "      <td>2001-01-05 11:00:00</td>\n",
       "      <td>1</td>\n",
       "    </tr>\n",
       "    <tr>\n",
       "      <th>3</th>\n",
       "      <td>2001-01-06 06:00:00</td>\n",
       "      <td>1</td>\n",
       "    </tr>\n",
       "    <tr>\n",
       "      <th>4</th>\n",
       "      <td>2003-01-01 00:00:00</td>\n",
       "      <td>13</td>\n",
       "    </tr>\n",
       "    <tr>\n",
       "      <th>...</th>\n",
       "      <td>...</td>\n",
       "      <td>...</td>\n",
       "    </tr>\n",
       "    <tr>\n",
       "      <th>95</th>\n",
       "      <td>2018-01-03 12:00:00</td>\n",
       "      <td>13959</td>\n",
       "    </tr>\n",
       "    <tr>\n",
       "      <th>96</th>\n",
       "      <td>2018-01-03 13:00:00</td>\n",
       "      <td>14262</td>\n",
       "    </tr>\n",
       "    <tr>\n",
       "      <th>97</th>\n",
       "      <td>2018-01-03 14:00:00</td>\n",
       "      <td>15405</td>\n",
       "    </tr>\n",
       "    <tr>\n",
       "      <th>98</th>\n",
       "      <td>2018-01-03 15:00:00</td>\n",
       "      <td>15111</td>\n",
       "    </tr>\n",
       "    <tr>\n",
       "      <th>99</th>\n",
       "      <td>2018-01-03 16:00:00</td>\n",
       "      <td>14598</td>\n",
       "    </tr>\n",
       "  </tbody>\n",
       "</table>\n",
       "<p>100 rows × 2 columns</p>\n",
       "</div>"
      ],
      "text/plain": [
       "           pickup_hour    cnt\n",
       "0  2001-01-01 00:00:00     10\n",
       "1  2001-01-01 22:00:00      2\n",
       "2  2001-01-05 11:00:00      1\n",
       "3  2001-01-06 06:00:00      1\n",
       "4  2003-01-01 00:00:00     13\n",
       "..                 ...    ...\n",
       "95 2018-01-03 12:00:00  13959\n",
       "96 2018-01-03 13:00:00  14262\n",
       "97 2018-01-03 14:00:00  15405\n",
       "98 2018-01-03 15:00:00  15111\n",
       "99 2018-01-03 16:00:00  14598\n",
       "\n",
       "[100 rows x 2 columns]"
      ]
     },
     "execution_count": 10,
     "metadata": {},
     "output_type": "execute_result"
    }
   ],
   "source": [
    "# data into dataframe\n",
    "df = query_job.to_dataframe()\n",
    "df.head(100)"
   ]
  },
  {
   "cell_type": "code",
   "execution_count": 11,
   "metadata": {},
   "outputs": [
    {
     "data": {
      "text/html": [
       "<div>\n",
       "<style scoped>\n",
       "    .dataframe tbody tr th:only-of-type {\n",
       "        vertical-align: middle;\n",
       "    }\n",
       "\n",
       "    .dataframe tbody tr th {\n",
       "        vertical-align: top;\n",
       "    }\n",
       "\n",
       "    .dataframe thead th {\n",
       "        text-align: right;\n",
       "    }\n",
       "</style>\n",
       "<table border=\"1\" class=\"dataframe\">\n",
       "  <thead>\n",
       "    <tr style=\"text-align: right;\">\n",
       "      <th></th>\n",
       "      <th>pickup_hour</th>\n",
       "      <th>cnt</th>\n",
       "    </tr>\n",
       "  </thead>\n",
       "  <tbody>\n",
       "    <tr>\n",
       "      <th>804</th>\n",
       "      <td>2019-01-22 22:00:00</td>\n",
       "      <td>4</td>\n",
       "    </tr>\n",
       "    <tr>\n",
       "      <th>805</th>\n",
       "      <td>2019-01-23 14:00:00</td>\n",
       "      <td>1</td>\n",
       "    </tr>\n",
       "    <tr>\n",
       "      <th>806</th>\n",
       "      <td>2019-01-23 15:00:00</td>\n",
       "      <td>1</td>\n",
       "    </tr>\n",
       "    <tr>\n",
       "      <th>807</th>\n",
       "      <td>2019-01-26 03:00:00</td>\n",
       "      <td>2</td>\n",
       "    </tr>\n",
       "    <tr>\n",
       "      <th>808</th>\n",
       "      <td>2019-01-29 06:00:00</td>\n",
       "      <td>3</td>\n",
       "    </tr>\n",
       "    <tr>\n",
       "      <th>809</th>\n",
       "      <td>2019-01-29 08:00:00</td>\n",
       "      <td>2</td>\n",
       "    </tr>\n",
       "    <tr>\n",
       "      <th>810</th>\n",
       "      <td>2019-01-29 09:00:00</td>\n",
       "      <td>1</td>\n",
       "    </tr>\n",
       "    <tr>\n",
       "      <th>811</th>\n",
       "      <td>2019-01-29 13:00:00</td>\n",
       "      <td>1</td>\n",
       "    </tr>\n",
       "    <tr>\n",
       "      <th>812</th>\n",
       "      <td>2019-01-29 14:00:00</td>\n",
       "      <td>1</td>\n",
       "    </tr>\n",
       "    <tr>\n",
       "      <th>813</th>\n",
       "      <td>2019-01-31 14:00:00</td>\n",
       "      <td>1</td>\n",
       "    </tr>\n",
       "  </tbody>\n",
       "</table>\n",
       "</div>"
      ],
      "text/plain": [
       "            pickup_hour  cnt\n",
       "804 2019-01-22 22:00:00    4\n",
       "805 2019-01-23 14:00:00    1\n",
       "806 2019-01-23 15:00:00    1\n",
       "807 2019-01-26 03:00:00    2\n",
       "808 2019-01-29 06:00:00    3\n",
       "809 2019-01-29 08:00:00    2\n",
       "810 2019-01-29 09:00:00    1\n",
       "811 2019-01-29 13:00:00    1\n",
       "812 2019-01-29 14:00:00    1\n",
       "813 2019-01-31 14:00:00    1"
      ]
     },
     "execution_count": 11,
     "metadata": {},
     "output_type": "execute_result"
    }
   ],
   "source": [
    "df.tail(10)"
   ]
  },
  {
   "cell_type": "code",
   "execution_count": 13,
   "metadata": {},
   "outputs": [
    {
     "name": "stdout",
     "output_type": "stream",
     "text": [
      "<class 'pandas.core.frame.DataFrame'>\n",
      "RangeIndex: 814 entries, 0 to 813\n",
      "Data columns (total 2 columns):\n",
      "pickup_hour    814 non-null datetime64[ns]\n",
      "cnt            814 non-null int64\n",
      "dtypes: datetime64[ns](1), int64(1)\n",
      "memory usage: 12.8 KB\n"
     ]
    }
   ],
   "source": [
    "df.info()"
   ]
  },
  {
   "cell_type": "code",
   "execution_count": 14,
   "metadata": {},
   "outputs": [
    {
     "data": {
      "text/html": [
       "<div>\n",
       "<style scoped>\n",
       "    .dataframe tbody tr th:only-of-type {\n",
       "        vertical-align: middle;\n",
       "    }\n",
       "\n",
       "    .dataframe tbody tr th {\n",
       "        vertical-align: top;\n",
       "    }\n",
       "\n",
       "    .dataframe thead th {\n",
       "        text-align: right;\n",
       "    }\n",
       "</style>\n",
       "<table border=\"1\" class=\"dataframe\">\n",
       "  <thead>\n",
       "    <tr style=\"text-align: right;\">\n",
       "      <th></th>\n",
       "      <th>pickup_hour</th>\n",
       "      <th>cnt</th>\n",
       "    </tr>\n",
       "  </thead>\n",
       "  <tbody>\n",
       "    <tr>\n",
       "      <th>0</th>\n",
       "      <td>2001-01-01 00:00:00</td>\n",
       "      <td>10</td>\n",
       "    </tr>\n",
       "    <tr>\n",
       "      <th>1</th>\n",
       "      <td>2001-01-01 22:00:00</td>\n",
       "      <td>2</td>\n",
       "    </tr>\n",
       "    <tr>\n",
       "      <th>2</th>\n",
       "      <td>2001-01-05 11:00:00</td>\n",
       "      <td>1</td>\n",
       "    </tr>\n",
       "    <tr>\n",
       "      <th>3</th>\n",
       "      <td>2001-01-06 06:00:00</td>\n",
       "      <td>1</td>\n",
       "    </tr>\n",
       "    <tr>\n",
       "      <th>4</th>\n",
       "      <td>2003-01-01 00:00:00</td>\n",
       "      <td>13</td>\n",
       "    </tr>\n",
       "    <tr>\n",
       "      <th>...</th>\n",
       "      <td>...</td>\n",
       "      <td>...</td>\n",
       "    </tr>\n",
       "    <tr>\n",
       "      <th>809</th>\n",
       "      <td>2019-01-29 08:00:00</td>\n",
       "      <td>2</td>\n",
       "    </tr>\n",
       "    <tr>\n",
       "      <th>810</th>\n",
       "      <td>2019-01-29 09:00:00</td>\n",
       "      <td>1</td>\n",
       "    </tr>\n",
       "    <tr>\n",
       "      <th>811</th>\n",
       "      <td>2019-01-29 13:00:00</td>\n",
       "      <td>1</td>\n",
       "    </tr>\n",
       "    <tr>\n",
       "      <th>812</th>\n",
       "      <td>2019-01-29 14:00:00</td>\n",
       "      <td>1</td>\n",
       "    </tr>\n",
       "    <tr>\n",
       "      <th>813</th>\n",
       "      <td>2019-01-31 14:00:00</td>\n",
       "      <td>1</td>\n",
       "    </tr>\n",
       "  </tbody>\n",
       "</table>\n",
       "<p>814 rows × 2 columns</p>\n",
       "</div>"
      ],
      "text/plain": [
       "            pickup_hour  cnt\n",
       "0   2001-01-01 00:00:00   10\n",
       "1   2001-01-01 22:00:00    2\n",
       "2   2001-01-05 11:00:00    1\n",
       "3   2001-01-06 06:00:00    1\n",
       "4   2003-01-01 00:00:00   13\n",
       "..                  ...  ...\n",
       "809 2019-01-29 08:00:00    2\n",
       "810 2019-01-29 09:00:00    1\n",
       "811 2019-01-29 13:00:00    1\n",
       "812 2019-01-29 14:00:00    1\n",
       "813 2019-01-31 14:00:00    1\n",
       "\n",
       "[814 rows x 2 columns]"
      ]
     },
     "execution_count": 14,
     "metadata": {},
     "output_type": "execute_result"
    }
   ],
   "source": [
    "df['pickup_hour'] = pd.to_datetime(df['pickup_hour'])\n",
    "df"
   ]
  },
  {
   "cell_type": "code",
   "execution_count": 15,
   "metadata": {},
   "outputs": [
    {
     "data": {
      "text/html": [
       "<div>\n",
       "<style scoped>\n",
       "    .dataframe tbody tr th:only-of-type {\n",
       "        vertical-align: middle;\n",
       "    }\n",
       "\n",
       "    .dataframe tbody tr th {\n",
       "        vertical-align: top;\n",
       "    }\n",
       "\n",
       "    .dataframe thead th {\n",
       "        text-align: right;\n",
       "    }\n",
       "</style>\n",
       "<table border=\"1\" class=\"dataframe\">\n",
       "  <thead>\n",
       "    <tr style=\"text-align: right;\">\n",
       "      <th></th>\n",
       "      <th>cnt</th>\n",
       "    </tr>\n",
       "    <tr>\n",
       "      <th>pickup_hour</th>\n",
       "      <th></th>\n",
       "    </tr>\n",
       "  </thead>\n",
       "  <tbody>\n",
       "    <tr>\n",
       "      <th>2001-01-01 00:00:00</th>\n",
       "      <td>10</td>\n",
       "    </tr>\n",
       "    <tr>\n",
       "      <th>2001-01-01 22:00:00</th>\n",
       "      <td>2</td>\n",
       "    </tr>\n",
       "    <tr>\n",
       "      <th>2001-01-05 11:00:00</th>\n",
       "      <td>1</td>\n",
       "    </tr>\n",
       "    <tr>\n",
       "      <th>2001-01-06 06:00:00</th>\n",
       "      <td>1</td>\n",
       "    </tr>\n",
       "    <tr>\n",
       "      <th>2003-01-01 00:00:00</th>\n",
       "      <td>13</td>\n",
       "    </tr>\n",
       "    <tr>\n",
       "      <th>...</th>\n",
       "      <td>...</td>\n",
       "    </tr>\n",
       "    <tr>\n",
       "      <th>2019-01-29 08:00:00</th>\n",
       "      <td>2</td>\n",
       "    </tr>\n",
       "    <tr>\n",
       "      <th>2019-01-29 09:00:00</th>\n",
       "      <td>1</td>\n",
       "    </tr>\n",
       "    <tr>\n",
       "      <th>2019-01-29 13:00:00</th>\n",
       "      <td>1</td>\n",
       "    </tr>\n",
       "    <tr>\n",
       "      <th>2019-01-29 14:00:00</th>\n",
       "      <td>1</td>\n",
       "    </tr>\n",
       "    <tr>\n",
       "      <th>2019-01-31 14:00:00</th>\n",
       "      <td>1</td>\n",
       "    </tr>\n",
       "  </tbody>\n",
       "</table>\n",
       "<p>814 rows × 1 columns</p>\n",
       "</div>"
      ],
      "text/plain": [
       "                     cnt\n",
       "pickup_hour             \n",
       "2001-01-01 00:00:00   10\n",
       "2001-01-01 22:00:00    2\n",
       "2001-01-05 11:00:00    1\n",
       "2001-01-06 06:00:00    1\n",
       "2003-01-01 00:00:00   13\n",
       "...                  ...\n",
       "2019-01-29 08:00:00    2\n",
       "2019-01-29 09:00:00    1\n",
       "2019-01-29 13:00:00    1\n",
       "2019-01-29 14:00:00    1\n",
       "2019-01-31 14:00:00    1\n",
       "\n",
       "[814 rows x 1 columns]"
      ]
     },
     "execution_count": 15,
     "metadata": {},
     "output_type": "execute_result"
    }
   ],
   "source": [
    "df = df.set_index('pickup_hour')\n",
    "df"
   ]
  },
  {
   "cell_type": "code",
   "execution_count": 17,
   "metadata": {},
   "outputs": [
    {
     "data": {
      "application/vnd.plotly.v1+json": {
       "config": {
        "linkText": "Export to plot.ly",
        "plotlyServerURL": "https://plot.ly",
        "showLink": true
       },
       "data": [
        {
         "line": {
          "color": "rgba(255, 153, 51, 1.0)",
          "dash": "solid",
          "shape": "linear",
          "width": 1.3
         },
         "mode": "lines",
         "name": "cnt",
         "text": "",
         "type": "scatter",
         "x": [
          "2001-01-01 00:00:00",
          "2001-01-01 22:00:00",
          "2001-01-05 11:00:00",
          "2001-01-06 06:00:00",
          "2003-01-01 00:00:00",
          "2003-01-01 01:00:00",
          "2003-01-01 04:00:00",
          "2003-01-01 23:00:00",
          "2009-01-01 00:00:00",
          "2009-01-01 01:00:00",
          "2009-01-01 02:00:00",
          "2009-01-01 03:00:00",
          "2009-01-01 04:00:00",
          "2009-01-01 05:00:00",
          "2009-01-01 06:00:00",
          "2009-01-01 07:00:00",
          "2009-01-01 08:00:00",
          "2009-01-01 09:00:00",
          "2009-01-01 10:00:00",
          "2009-01-01 11:00:00",
          "2009-01-01 12:00:00",
          "2009-01-01 13:00:00",
          "2009-01-01 14:00:00",
          "2009-01-01 15:00:00",
          "2009-01-01 16:00:00",
          "2009-01-01 17:00:00",
          "2009-01-01 18:00:00",
          "2009-01-01 19:00:00",
          "2009-01-01 20:00:00",
          "2009-01-01 21:00:00",
          "2009-01-01 22:00:00",
          "2009-01-01 23:00:00",
          "2009-01-02 00:00:00",
          "2017-01-02 08:00:00",
          "2017-01-03 22:00:00",
          "2018-01-01 00:00:00",
          "2018-01-01 01:00:00",
          "2018-01-01 02:00:00",
          "2018-01-01 03:00:00",
          "2018-01-01 04:00:00",
          "2018-01-01 05:00:00",
          "2018-01-01 06:00:00",
          "2018-01-01 07:00:00",
          "2018-01-01 08:00:00",
          "2018-01-01 09:00:00",
          "2018-01-01 10:00:00",
          "2018-01-01 11:00:00",
          "2018-01-01 12:00:00",
          "2018-01-01 13:00:00",
          "2018-01-01 14:00:00",
          "2018-01-01 15:00:00",
          "2018-01-01 16:00:00",
          "2018-01-01 17:00:00",
          "2018-01-01 18:00:00",
          "2018-01-01 19:00:00",
          "2018-01-01 20:00:00",
          "2018-01-01 21:00:00",
          "2018-01-01 22:00:00",
          "2018-01-01 23:00:00",
          "2018-01-02 00:00:00",
          "2018-01-02 01:00:00",
          "2018-01-02 02:00:00",
          "2018-01-02 03:00:00",
          "2018-01-02 04:00:00",
          "2018-01-02 05:00:00",
          "2018-01-02 06:00:00",
          "2018-01-02 07:00:00",
          "2018-01-02 08:00:00",
          "2018-01-02 09:00:00",
          "2018-01-02 10:00:00",
          "2018-01-02 11:00:00",
          "2018-01-02 12:00:00",
          "2018-01-02 13:00:00",
          "2018-01-02 14:00:00",
          "2018-01-02 15:00:00",
          "2018-01-02 16:00:00",
          "2018-01-02 17:00:00",
          "2018-01-02 18:00:00",
          "2018-01-02 19:00:00",
          "2018-01-02 20:00:00",
          "2018-01-02 21:00:00",
          "2018-01-02 22:00:00",
          "2018-01-02 23:00:00",
          "2018-01-03 00:00:00",
          "2018-01-03 01:00:00",
          "2018-01-03 02:00:00",
          "2018-01-03 03:00:00",
          "2018-01-03 04:00:00",
          "2018-01-03 05:00:00",
          "2018-01-03 06:00:00",
          "2018-01-03 07:00:00",
          "2018-01-03 08:00:00",
          "2018-01-03 09:00:00",
          "2018-01-03 10:00:00",
          "2018-01-03 11:00:00",
          "2018-01-03 12:00:00",
          "2018-01-03 13:00:00",
          "2018-01-03 14:00:00",
          "2018-01-03 15:00:00",
          "2018-01-03 16:00:00",
          "2018-01-03 17:00:00",
          "2018-01-03 18:00:00",
          "2018-01-03 19:00:00",
          "2018-01-03 20:00:00",
          "2018-01-03 21:00:00",
          "2018-01-03 22:00:00",
          "2018-01-03 23:00:00",
          "2018-01-04 00:00:00",
          "2018-01-04 01:00:00",
          "2018-01-04 02:00:00",
          "2018-01-04 03:00:00",
          "2018-01-04 04:00:00",
          "2018-01-04 05:00:00",
          "2018-01-04 06:00:00",
          "2018-01-04 07:00:00",
          "2018-01-04 08:00:00",
          "2018-01-04 09:00:00",
          "2018-01-04 10:00:00",
          "2018-01-04 11:00:00",
          "2018-01-04 12:00:00",
          "2018-01-04 13:00:00",
          "2018-01-04 14:00:00",
          "2018-01-04 15:00:00",
          "2018-01-04 16:00:00",
          "2018-01-04 17:00:00",
          "2018-01-04 18:00:00",
          "2018-01-04 19:00:00",
          "2018-01-04 20:00:00",
          "2018-01-04 21:00:00",
          "2018-01-04 22:00:00",
          "2018-01-04 23:00:00",
          "2018-01-05 00:00:00",
          "2018-01-05 01:00:00",
          "2018-01-05 02:00:00",
          "2018-01-05 03:00:00",
          "2018-01-05 04:00:00",
          "2018-01-05 05:00:00",
          "2018-01-05 06:00:00",
          "2018-01-05 07:00:00",
          "2018-01-05 08:00:00",
          "2018-01-05 09:00:00",
          "2018-01-05 10:00:00",
          "2018-01-05 11:00:00",
          "2018-01-05 12:00:00",
          "2018-01-05 13:00:00",
          "2018-01-05 14:00:00",
          "2018-01-05 15:00:00",
          "2018-01-05 16:00:00",
          "2018-01-05 17:00:00",
          "2018-01-05 18:00:00",
          "2018-01-05 19:00:00",
          "2018-01-05 20:00:00",
          "2018-01-05 21:00:00",
          "2018-01-05 22:00:00",
          "2018-01-05 23:00:00",
          "2018-01-06 00:00:00",
          "2018-01-06 01:00:00",
          "2018-01-06 02:00:00",
          "2018-01-06 03:00:00",
          "2018-01-06 04:00:00",
          "2018-01-06 05:00:00",
          "2018-01-06 06:00:00",
          "2018-01-06 07:00:00",
          "2018-01-06 08:00:00",
          "2018-01-06 09:00:00",
          "2018-01-06 10:00:00",
          "2018-01-06 11:00:00",
          "2018-01-06 12:00:00",
          "2018-01-06 13:00:00",
          "2018-01-06 14:00:00",
          "2018-01-06 15:00:00",
          "2018-01-06 16:00:00",
          "2018-01-06 17:00:00",
          "2018-01-06 18:00:00",
          "2018-01-06 19:00:00",
          "2018-01-06 20:00:00",
          "2018-01-06 21:00:00",
          "2018-01-06 22:00:00",
          "2018-01-06 23:00:00",
          "2018-01-07 00:00:00",
          "2018-01-07 01:00:00",
          "2018-01-07 02:00:00",
          "2018-01-07 03:00:00",
          "2018-01-07 04:00:00",
          "2018-01-07 05:00:00",
          "2018-01-07 06:00:00",
          "2018-01-07 07:00:00",
          "2018-01-07 08:00:00",
          "2018-01-07 09:00:00",
          "2018-01-07 10:00:00",
          "2018-01-07 11:00:00",
          "2018-01-07 12:00:00",
          "2018-01-07 13:00:00",
          "2018-01-07 14:00:00",
          "2018-01-07 15:00:00",
          "2018-01-07 16:00:00",
          "2018-01-07 17:00:00",
          "2018-01-07 18:00:00",
          "2018-01-07 19:00:00",
          "2018-01-07 20:00:00",
          "2018-01-07 21:00:00",
          "2018-01-07 22:00:00",
          "2018-01-07 23:00:00",
          "2018-01-08 00:00:00",
          "2018-01-08 01:00:00",
          "2018-01-08 02:00:00",
          "2018-01-08 03:00:00",
          "2018-01-08 04:00:00",
          "2018-01-08 05:00:00",
          "2018-01-08 06:00:00",
          "2018-01-08 07:00:00",
          "2018-01-08 08:00:00",
          "2018-01-08 09:00:00",
          "2018-01-08 10:00:00",
          "2018-01-08 11:00:00",
          "2018-01-08 12:00:00",
          "2018-01-08 13:00:00",
          "2018-01-08 14:00:00",
          "2018-01-08 15:00:00",
          "2018-01-08 16:00:00",
          "2018-01-08 17:00:00",
          "2018-01-08 18:00:00",
          "2018-01-08 19:00:00",
          "2018-01-08 20:00:00",
          "2018-01-08 21:00:00",
          "2018-01-08 22:00:00",
          "2018-01-08 23:00:00",
          "2018-01-09 00:00:00",
          "2018-01-09 01:00:00",
          "2018-01-09 02:00:00",
          "2018-01-09 03:00:00",
          "2018-01-09 04:00:00",
          "2018-01-09 05:00:00",
          "2018-01-09 06:00:00",
          "2018-01-09 07:00:00",
          "2018-01-09 08:00:00",
          "2018-01-09 09:00:00",
          "2018-01-09 10:00:00",
          "2018-01-09 11:00:00",
          "2018-01-09 12:00:00",
          "2018-01-09 13:00:00",
          "2018-01-09 14:00:00",
          "2018-01-09 15:00:00",
          "2018-01-09 16:00:00",
          "2018-01-09 17:00:00",
          "2018-01-09 18:00:00",
          "2018-01-09 19:00:00",
          "2018-01-09 20:00:00",
          "2018-01-09 21:00:00",
          "2018-01-09 22:00:00",
          "2018-01-09 23:00:00",
          "2018-01-10 00:00:00",
          "2018-01-10 01:00:00",
          "2018-01-10 02:00:00",
          "2018-01-10 03:00:00",
          "2018-01-10 04:00:00",
          "2018-01-10 05:00:00",
          "2018-01-10 06:00:00",
          "2018-01-10 07:00:00",
          "2018-01-10 08:00:00",
          "2018-01-10 09:00:00",
          "2018-01-10 10:00:00",
          "2018-01-10 11:00:00",
          "2018-01-10 12:00:00",
          "2018-01-10 13:00:00",
          "2018-01-10 14:00:00",
          "2018-01-10 15:00:00",
          "2018-01-10 16:00:00",
          "2018-01-10 17:00:00",
          "2018-01-10 18:00:00",
          "2018-01-10 19:00:00",
          "2018-01-10 20:00:00",
          "2018-01-10 21:00:00",
          "2018-01-10 22:00:00",
          "2018-01-10 23:00:00",
          "2018-01-11 00:00:00",
          "2018-01-11 01:00:00",
          "2018-01-11 02:00:00",
          "2018-01-11 03:00:00",
          "2018-01-11 04:00:00",
          "2018-01-11 05:00:00",
          "2018-01-11 06:00:00",
          "2018-01-11 07:00:00",
          "2018-01-11 08:00:00",
          "2018-01-11 09:00:00",
          "2018-01-11 10:00:00",
          "2018-01-11 11:00:00",
          "2018-01-11 12:00:00",
          "2018-01-11 13:00:00",
          "2018-01-11 14:00:00",
          "2018-01-11 15:00:00",
          "2018-01-11 16:00:00",
          "2018-01-11 17:00:00",
          "2018-01-11 18:00:00",
          "2018-01-11 19:00:00",
          "2018-01-11 20:00:00",
          "2018-01-11 21:00:00",
          "2018-01-11 22:00:00",
          "2018-01-11 23:00:00",
          "2018-01-12 00:00:00",
          "2018-01-12 01:00:00",
          "2018-01-12 02:00:00",
          "2018-01-12 03:00:00",
          "2018-01-12 04:00:00",
          "2018-01-12 05:00:00",
          "2018-01-12 06:00:00",
          "2018-01-12 07:00:00",
          "2018-01-12 08:00:00",
          "2018-01-12 09:00:00",
          "2018-01-12 10:00:00",
          "2018-01-12 11:00:00",
          "2018-01-12 12:00:00",
          "2018-01-12 13:00:00",
          "2018-01-12 14:00:00",
          "2018-01-12 15:00:00",
          "2018-01-12 16:00:00",
          "2018-01-12 17:00:00",
          "2018-01-12 18:00:00",
          "2018-01-12 19:00:00",
          "2018-01-12 20:00:00",
          "2018-01-12 21:00:00",
          "2018-01-12 22:00:00",
          "2018-01-12 23:00:00",
          "2018-01-13 00:00:00",
          "2018-01-13 01:00:00",
          "2018-01-13 02:00:00",
          "2018-01-13 03:00:00",
          "2018-01-13 04:00:00",
          "2018-01-13 05:00:00",
          "2018-01-13 06:00:00",
          "2018-01-13 07:00:00",
          "2018-01-13 08:00:00",
          "2018-01-13 09:00:00",
          "2018-01-13 10:00:00",
          "2018-01-13 11:00:00",
          "2018-01-13 12:00:00",
          "2018-01-13 13:00:00",
          "2018-01-13 14:00:00",
          "2018-01-13 15:00:00",
          "2018-01-13 16:00:00",
          "2018-01-13 17:00:00",
          "2018-01-13 18:00:00",
          "2018-01-13 19:00:00",
          "2018-01-13 20:00:00",
          "2018-01-13 21:00:00",
          "2018-01-13 22:00:00",
          "2018-01-13 23:00:00",
          "2018-01-14 00:00:00",
          "2018-01-14 01:00:00",
          "2018-01-14 02:00:00",
          "2018-01-14 03:00:00",
          "2018-01-14 04:00:00",
          "2018-01-14 05:00:00",
          "2018-01-14 06:00:00",
          "2018-01-14 07:00:00",
          "2018-01-14 08:00:00",
          "2018-01-14 09:00:00",
          "2018-01-14 10:00:00",
          "2018-01-14 11:00:00",
          "2018-01-14 12:00:00",
          "2018-01-14 13:00:00",
          "2018-01-14 14:00:00",
          "2018-01-14 15:00:00",
          "2018-01-14 16:00:00",
          "2018-01-14 17:00:00",
          "2018-01-14 18:00:00",
          "2018-01-14 19:00:00",
          "2018-01-14 20:00:00",
          "2018-01-14 21:00:00",
          "2018-01-14 22:00:00",
          "2018-01-14 23:00:00",
          "2018-01-15 00:00:00",
          "2018-01-15 01:00:00",
          "2018-01-15 02:00:00",
          "2018-01-15 03:00:00",
          "2018-01-15 04:00:00",
          "2018-01-15 05:00:00",
          "2018-01-15 06:00:00",
          "2018-01-15 07:00:00",
          "2018-01-15 08:00:00",
          "2018-01-15 09:00:00",
          "2018-01-15 10:00:00",
          "2018-01-15 11:00:00",
          "2018-01-15 12:00:00",
          "2018-01-15 13:00:00",
          "2018-01-15 14:00:00",
          "2018-01-15 15:00:00",
          "2018-01-15 16:00:00",
          "2018-01-15 17:00:00",
          "2018-01-15 18:00:00",
          "2018-01-15 19:00:00",
          "2018-01-15 20:00:00",
          "2018-01-15 21:00:00",
          "2018-01-15 22:00:00",
          "2018-01-15 23:00:00",
          "2018-01-16 00:00:00",
          "2018-01-16 01:00:00",
          "2018-01-16 02:00:00",
          "2018-01-16 03:00:00",
          "2018-01-16 04:00:00",
          "2018-01-16 05:00:00",
          "2018-01-16 06:00:00",
          "2018-01-16 07:00:00",
          "2018-01-16 08:00:00",
          "2018-01-16 09:00:00",
          "2018-01-16 10:00:00",
          "2018-01-16 11:00:00",
          "2018-01-16 12:00:00",
          "2018-01-16 13:00:00",
          "2018-01-16 14:00:00",
          "2018-01-16 15:00:00",
          "2018-01-16 16:00:00",
          "2018-01-16 17:00:00",
          "2018-01-16 18:00:00",
          "2018-01-16 19:00:00",
          "2018-01-16 20:00:00",
          "2018-01-16 21:00:00",
          "2018-01-16 22:00:00",
          "2018-01-16 23:00:00",
          "2018-01-17 00:00:00",
          "2018-01-17 01:00:00",
          "2018-01-17 02:00:00",
          "2018-01-17 03:00:00",
          "2018-01-17 04:00:00",
          "2018-01-17 05:00:00",
          "2018-01-17 06:00:00",
          "2018-01-17 07:00:00",
          "2018-01-17 08:00:00",
          "2018-01-17 09:00:00",
          "2018-01-17 10:00:00",
          "2018-01-17 11:00:00",
          "2018-01-17 12:00:00",
          "2018-01-17 13:00:00",
          "2018-01-17 14:00:00",
          "2018-01-17 15:00:00",
          "2018-01-17 16:00:00",
          "2018-01-17 17:00:00",
          "2018-01-17 18:00:00",
          "2018-01-17 19:00:00",
          "2018-01-17 20:00:00",
          "2018-01-17 21:00:00",
          "2018-01-17 22:00:00",
          "2018-01-17 23:00:00",
          "2018-01-18 00:00:00",
          "2018-01-18 01:00:00",
          "2018-01-18 02:00:00",
          "2018-01-18 03:00:00",
          "2018-01-18 04:00:00",
          "2018-01-18 05:00:00",
          "2018-01-18 06:00:00",
          "2018-01-18 07:00:00",
          "2018-01-18 08:00:00",
          "2018-01-18 09:00:00",
          "2018-01-18 10:00:00",
          "2018-01-18 11:00:00",
          "2018-01-18 12:00:00",
          "2018-01-18 13:00:00",
          "2018-01-18 14:00:00",
          "2018-01-18 15:00:00",
          "2018-01-18 16:00:00",
          "2018-01-18 17:00:00",
          "2018-01-18 18:00:00",
          "2018-01-18 19:00:00",
          "2018-01-18 20:00:00",
          "2018-01-18 21:00:00",
          "2018-01-18 22:00:00",
          "2018-01-18 23:00:00",
          "2018-01-19 00:00:00",
          "2018-01-19 01:00:00",
          "2018-01-19 02:00:00",
          "2018-01-19 03:00:00",
          "2018-01-19 04:00:00",
          "2018-01-19 05:00:00",
          "2018-01-19 06:00:00",
          "2018-01-19 07:00:00",
          "2018-01-19 08:00:00",
          "2018-01-19 09:00:00",
          "2018-01-19 10:00:00",
          "2018-01-19 11:00:00",
          "2018-01-19 12:00:00",
          "2018-01-19 13:00:00",
          "2018-01-19 14:00:00",
          "2018-01-19 15:00:00",
          "2018-01-19 16:00:00",
          "2018-01-19 17:00:00",
          "2018-01-19 18:00:00",
          "2018-01-19 19:00:00",
          "2018-01-19 20:00:00",
          "2018-01-19 21:00:00",
          "2018-01-19 22:00:00",
          "2018-01-19 23:00:00",
          "2018-01-20 00:00:00",
          "2018-01-20 01:00:00",
          "2018-01-20 02:00:00",
          "2018-01-20 03:00:00",
          "2018-01-20 04:00:00",
          "2018-01-20 05:00:00",
          "2018-01-20 06:00:00",
          "2018-01-20 07:00:00",
          "2018-01-20 08:00:00",
          "2018-01-20 09:00:00",
          "2018-01-20 10:00:00",
          "2018-01-20 11:00:00",
          "2018-01-20 12:00:00",
          "2018-01-20 13:00:00",
          "2018-01-20 14:00:00",
          "2018-01-20 15:00:00",
          "2018-01-20 16:00:00",
          "2018-01-20 17:00:00",
          "2018-01-20 18:00:00",
          "2018-01-20 19:00:00",
          "2018-01-20 20:00:00",
          "2018-01-20 21:00:00",
          "2018-01-20 22:00:00",
          "2018-01-20 23:00:00",
          "2018-01-21 00:00:00",
          "2018-01-21 01:00:00",
          "2018-01-21 02:00:00",
          "2018-01-21 03:00:00",
          "2018-01-21 04:00:00",
          "2018-01-21 05:00:00",
          "2018-01-21 06:00:00",
          "2018-01-21 07:00:00",
          "2018-01-21 08:00:00",
          "2018-01-21 09:00:00",
          "2018-01-21 10:00:00",
          "2018-01-21 11:00:00",
          "2018-01-21 12:00:00",
          "2018-01-21 13:00:00",
          "2018-01-21 14:00:00",
          "2018-01-21 15:00:00",
          "2018-01-21 16:00:00",
          "2018-01-21 17:00:00",
          "2018-01-21 18:00:00",
          "2018-01-21 19:00:00",
          "2018-01-21 20:00:00",
          "2018-01-21 21:00:00",
          "2018-01-21 22:00:00",
          "2018-01-21 23:00:00",
          "2018-01-22 00:00:00",
          "2018-01-22 01:00:00",
          "2018-01-22 02:00:00",
          "2018-01-22 03:00:00",
          "2018-01-22 04:00:00",
          "2018-01-22 05:00:00",
          "2018-01-22 06:00:00",
          "2018-01-22 07:00:00",
          "2018-01-22 08:00:00",
          "2018-01-22 09:00:00",
          "2018-01-22 10:00:00",
          "2018-01-22 11:00:00",
          "2018-01-22 12:00:00",
          "2018-01-22 13:00:00",
          "2018-01-22 14:00:00",
          "2018-01-22 15:00:00",
          "2018-01-22 16:00:00",
          "2018-01-22 17:00:00",
          "2018-01-22 18:00:00",
          "2018-01-22 19:00:00",
          "2018-01-22 20:00:00",
          "2018-01-22 21:00:00",
          "2018-01-22 22:00:00",
          "2018-01-22 23:00:00",
          "2018-01-23 00:00:00",
          "2018-01-23 01:00:00",
          "2018-01-23 02:00:00",
          "2018-01-23 03:00:00",
          "2018-01-23 04:00:00",
          "2018-01-23 05:00:00",
          "2018-01-23 06:00:00",
          "2018-01-23 07:00:00",
          "2018-01-23 08:00:00",
          "2018-01-23 09:00:00",
          "2018-01-23 10:00:00",
          "2018-01-23 11:00:00",
          "2018-01-23 12:00:00",
          "2018-01-23 13:00:00",
          "2018-01-23 14:00:00",
          "2018-01-23 15:00:00",
          "2018-01-23 16:00:00",
          "2018-01-23 17:00:00",
          "2018-01-23 18:00:00",
          "2018-01-23 19:00:00",
          "2018-01-23 20:00:00",
          "2018-01-23 21:00:00",
          "2018-01-23 22:00:00",
          "2018-01-23 23:00:00",
          "2018-01-24 00:00:00",
          "2018-01-24 01:00:00",
          "2018-01-24 02:00:00",
          "2018-01-24 03:00:00",
          "2018-01-24 04:00:00",
          "2018-01-24 05:00:00",
          "2018-01-24 06:00:00",
          "2018-01-24 07:00:00",
          "2018-01-24 08:00:00",
          "2018-01-24 09:00:00",
          "2018-01-24 10:00:00",
          "2018-01-24 11:00:00",
          "2018-01-24 12:00:00",
          "2018-01-24 13:00:00",
          "2018-01-24 14:00:00",
          "2018-01-24 15:00:00",
          "2018-01-24 16:00:00",
          "2018-01-24 17:00:00",
          "2018-01-24 18:00:00",
          "2018-01-24 19:00:00",
          "2018-01-24 20:00:00",
          "2018-01-24 21:00:00",
          "2018-01-24 22:00:00",
          "2018-01-24 23:00:00",
          "2018-01-25 00:00:00",
          "2018-01-25 01:00:00",
          "2018-01-25 02:00:00",
          "2018-01-25 03:00:00",
          "2018-01-25 04:00:00",
          "2018-01-25 05:00:00",
          "2018-01-25 06:00:00",
          "2018-01-25 07:00:00",
          "2018-01-25 08:00:00",
          "2018-01-25 09:00:00",
          "2018-01-25 10:00:00",
          "2018-01-25 11:00:00",
          "2018-01-25 12:00:00",
          "2018-01-25 13:00:00",
          "2018-01-25 14:00:00",
          "2018-01-25 15:00:00",
          "2018-01-25 16:00:00",
          "2018-01-25 17:00:00",
          "2018-01-25 18:00:00",
          "2018-01-25 19:00:00",
          "2018-01-25 20:00:00",
          "2018-01-25 21:00:00",
          "2018-01-25 22:00:00",
          "2018-01-25 23:00:00",
          "2018-01-26 00:00:00",
          "2018-01-26 01:00:00",
          "2018-01-26 02:00:00",
          "2018-01-26 03:00:00",
          "2018-01-26 04:00:00",
          "2018-01-26 05:00:00",
          "2018-01-26 06:00:00",
          "2018-01-26 07:00:00",
          "2018-01-26 08:00:00",
          "2018-01-26 09:00:00",
          "2018-01-26 10:00:00",
          "2018-01-26 11:00:00",
          "2018-01-26 12:00:00",
          "2018-01-26 13:00:00",
          "2018-01-26 14:00:00",
          "2018-01-26 15:00:00",
          "2018-01-26 16:00:00",
          "2018-01-26 17:00:00",
          "2018-01-26 18:00:00",
          "2018-01-26 19:00:00",
          "2018-01-26 20:00:00",
          "2018-01-26 21:00:00",
          "2018-01-26 22:00:00",
          "2018-01-26 23:00:00",
          "2018-01-27 00:00:00",
          "2018-01-27 01:00:00",
          "2018-01-27 02:00:00",
          "2018-01-27 03:00:00",
          "2018-01-27 04:00:00",
          "2018-01-27 05:00:00",
          "2018-01-27 06:00:00",
          "2018-01-27 07:00:00",
          "2018-01-27 08:00:00",
          "2018-01-27 09:00:00",
          "2018-01-27 10:00:00",
          "2018-01-27 11:00:00",
          "2018-01-27 12:00:00",
          "2018-01-27 13:00:00",
          "2018-01-27 14:00:00",
          "2018-01-27 15:00:00",
          "2018-01-27 16:00:00",
          "2018-01-27 17:00:00",
          "2018-01-27 18:00:00",
          "2018-01-27 19:00:00",
          "2018-01-27 20:00:00",
          "2018-01-27 21:00:00",
          "2018-01-27 22:00:00",
          "2018-01-27 23:00:00",
          "2018-01-28 00:00:00",
          "2018-01-28 01:00:00",
          "2018-01-28 02:00:00",
          "2018-01-28 03:00:00",
          "2018-01-28 04:00:00",
          "2018-01-28 05:00:00",
          "2018-01-28 06:00:00",
          "2018-01-28 07:00:00",
          "2018-01-28 08:00:00",
          "2018-01-28 09:00:00",
          "2018-01-28 10:00:00",
          "2018-01-28 11:00:00",
          "2018-01-28 12:00:00",
          "2018-01-28 13:00:00",
          "2018-01-28 14:00:00",
          "2018-01-28 15:00:00",
          "2018-01-28 16:00:00",
          "2018-01-28 17:00:00",
          "2018-01-28 18:00:00",
          "2018-01-28 19:00:00",
          "2018-01-28 20:00:00",
          "2018-01-28 21:00:00",
          "2018-01-28 22:00:00",
          "2018-01-28 23:00:00",
          "2018-01-29 00:00:00",
          "2018-01-29 01:00:00",
          "2018-01-29 02:00:00",
          "2018-01-29 03:00:00",
          "2018-01-29 04:00:00",
          "2018-01-29 05:00:00",
          "2018-01-29 06:00:00",
          "2018-01-29 07:00:00",
          "2018-01-29 08:00:00",
          "2018-01-29 09:00:00",
          "2018-01-29 10:00:00",
          "2018-01-29 11:00:00",
          "2018-01-29 12:00:00",
          "2018-01-29 13:00:00",
          "2018-01-29 14:00:00",
          "2018-01-29 15:00:00",
          "2018-01-29 16:00:00",
          "2018-01-29 17:00:00",
          "2018-01-29 18:00:00",
          "2018-01-29 19:00:00",
          "2018-01-29 20:00:00",
          "2018-01-29 21:00:00",
          "2018-01-29 22:00:00",
          "2018-01-29 23:00:00",
          "2018-01-30 00:00:00",
          "2018-01-30 01:00:00",
          "2018-01-30 02:00:00",
          "2018-01-30 03:00:00",
          "2018-01-30 04:00:00",
          "2018-01-30 05:00:00",
          "2018-01-30 06:00:00",
          "2018-01-30 07:00:00",
          "2018-01-30 08:00:00",
          "2018-01-30 09:00:00",
          "2018-01-30 10:00:00",
          "2018-01-30 11:00:00",
          "2018-01-30 12:00:00",
          "2018-01-30 13:00:00",
          "2018-01-30 14:00:00",
          "2018-01-30 15:00:00",
          "2018-01-30 16:00:00",
          "2018-01-30 17:00:00",
          "2018-01-30 18:00:00",
          "2018-01-30 19:00:00",
          "2018-01-30 20:00:00",
          "2018-01-30 21:00:00",
          "2018-01-30 22:00:00",
          "2018-01-30 23:00:00",
          "2018-01-31 00:00:00",
          "2018-01-31 01:00:00",
          "2018-01-31 02:00:00",
          "2018-01-31 03:00:00",
          "2018-01-31 04:00:00",
          "2018-01-31 05:00:00",
          "2018-01-31 06:00:00",
          "2018-01-31 07:00:00",
          "2018-01-31 08:00:00",
          "2018-01-31 09:00:00",
          "2018-01-31 10:00:00",
          "2018-01-31 11:00:00",
          "2018-01-31 12:00:00",
          "2018-01-31 13:00:00",
          "2018-01-31 14:00:00",
          "2018-01-31 15:00:00",
          "2018-01-31 16:00:00",
          "2018-01-31 17:00:00",
          "2018-01-31 18:00:00",
          "2018-01-31 19:00:00",
          "2018-01-31 20:00:00",
          "2018-01-31 21:00:00",
          "2018-01-31 22:00:00",
          "2018-01-31 23:00:00",
          "2019-01-01 00:00:00",
          "2019-01-01 04:00:00",
          "2019-01-01 13:00:00",
          "2019-01-01 14:00:00",
          "2019-01-02 00:00:00",
          "2019-01-02 06:00:00",
          "2019-01-04 19:00:00",
          "2019-01-07 22:00:00",
          "2019-01-08 00:00:00",
          "2019-01-08 05:00:00",
          "2019-01-08 06:00:00",
          "2019-01-10 06:00:00",
          "2019-01-10 07:00:00",
          "2019-01-12 00:00:00",
          "2019-01-12 13:00:00",
          "2019-01-13 15:00:00",
          "2019-01-16 15:00:00",
          "2019-01-18 08:00:00",
          "2019-01-18 09:00:00",
          "2019-01-19 07:00:00",
          "2019-01-19 08:00:00",
          "2019-01-19 11:00:00",
          "2019-01-20 08:00:00",
          "2019-01-20 20:00:00",
          "2019-01-22 12:00:00",
          "2019-01-22 22:00:00",
          "2019-01-23 14:00:00",
          "2019-01-23 15:00:00",
          "2019-01-26 03:00:00",
          "2019-01-29 06:00:00",
          "2019-01-29 08:00:00",
          "2019-01-29 09:00:00",
          "2019-01-29 13:00:00",
          "2019-01-29 14:00:00",
          "2019-01-31 14:00:00"
         ],
         "y": [
          10,
          2,
          1,
          1,
          13,
          1,
          1,
          2,
          275,
          75,
          40,
          20,
          10,
          9,
          7,
          13,
          9,
          10,
          11,
          3,
          3,
          6,
          9,
          21,
          4,
          11,
          6,
          9,
          1,
          2,
          9,
          20,
          2,
          1,
          1,
          16458,
          18985,
          16561,
          12611,
          8726,
          4220,
          3407,
          3420,
          3634,
          4930,
          6963,
          9981,
          11624,
          11890,
          12403,
          13256,
          12548,
          12748,
          11815,
          10449,
          8356,
          8850,
          7895,
          5389,
          3581,
          1724,
          1205,
          918,
          1214,
          2865,
          7049,
          10914,
          13731,
          13129,
          12049,
          12284,
          12901,
          13285,
          14140,
          14315,
          14045,
          16015,
          17349,
          14390,
          12371,
          11812,
          10276,
          6590,
          4547,
          2614,
          1537,
          1144,
          1368,
          2687,
          7539,
          12073,
          15021,
          14828,
          13613,
          13473,
          13959,
          14262,
          15405,
          15111,
          14598,
          17020,
          18909,
          17495,
          14808,
          13841,
          12758,
          8382,
          5356,
          2899,
          1908,
          1294,
          1386,
          2259,
          5172,
          6975,
          7567,
          6716,
          5849,
          5574,
          5256,
          5336,
          5278,
          5106,
          5076,
          5782,
          6956,
          6711,
          6313,
          6524,
          6022,
          4907,
          3619,
          2161,
          1348,
          1016,
          1145,
          2276,
          6279,
          11079,
          13669,
          13145,
          12280,
          12001,
          12959,
          13537,
          14704,
          14753,
          13904,
          16597,
          18808,
          18878,
          16121,
          15078,
          16007,
          13848,
          11282,
          8746,
          6675,
          4784,
          3405,
          1992,
          3043,
          4538,
          6657,
          10038,
          12527,
          14267,
          15646,
          16195,
          15758,
          18087,
          17433,
          17253,
          18455,
          18123,
          13751,
          13398,
          14347,
          14860,
          11981,
          9662,
          7595,
          5726,
          3446,
          1760,
          2503,
          3526,
          5846,
          8789,
          11682,
          13746,
          15614,
          15181,
          15164,
          15118,
          15615,
          15071,
          14494,
          12027,
          10231,
          9162,
          7250,
          6204,
          3968,
          2331,
          1671,
          1223,
          1479,
          3312,
          8132,
          13524,
          16322,
          15109,
          12957,
          12351,
          12872,
          13411,
          14869,
          15844,
          14389,
          16191,
          17571,
          16142,
          14548,
          12938,
          11074,
          7564,
          6174,
          2927,
          1778,
          1181,
          1446,
          2845,
          8080,
          14274,
          17158,
          16396,
          13884,
          13156,
          13688,
          13745,
          15035,
          15798,
          14459,
          16970,
          19685,
          18151,
          17465,
          16966,
          14207,
          9194,
          5470,
          3225,
          2002,
          1370,
          1439,
          2920,
          7979,
          14584,
          17588,
          15865,
          14269,
          13553,
          14351,
          14019,
          15464,
          16036,
          14513,
          16666,
          19675,
          18714,
          17411,
          17336,
          15670,
          10243,
          6384,
          3515,
          2252,
          1490,
          1611,
          2895,
          8046,
          14668,
          17555,
          15867,
          13893,
          13743,
          14990,
          15006,
          16297,
          16236,
          15003,
          17488,
          20776,
          19788,
          18300,
          18247,
          17320,
          13612,
          8866,
          5394,
          3346,
          2349,
          2081,
          3313,
          8111,
          14659,
          17471,
          16009,
          13972,
          14191,
          15443,
          15689,
          19012,
          17017,
          13868,
          16566,
          19452,
          21340,
          16666,
          18446,
          17506,
          16872,
          13353,
          11223,
          9485,
          6438,
          4037,
          2186,
          3220,
          4727,
          7349,
          11265,
          13864,
          15281,
          16900,
          17090,
          16611,
          18510,
          18570,
          19468,
          20965,
          21435,
          16852,
          16789,
          17902,
          18359,
          16127,
          13447,
          11137,
          8313,
          5111,
          2235,
          2564,
          4049,
          6442,
          9868,
          12964,
          14875,
          16890,
          17186,
          17064,
          17351,
          17177,
          17086,
          17367,
          14758,
          14490,
          13098,
          11781,
          9584,
          7163,
          4667,
          3108,
          2213,
          2108,
          2155,
          4244,
          6196,
          9820,
          11287,
          12106,
          13512,
          14654,
          14813,
          15234,
          15877,
          15551,
          16912,
          17259,
          14930,
          12305,
          11995,
          11013,
          7766,
          4415,
          2593,
          1464,
          1087,
          1384,
          3177,
          8593,
          15385,
          18752,
          17073,
          14884,
          14135,
          15068,
          15274,
          17023,
          16831,
          15429,
          17581,
          19938,
          17949,
          16989,
          17312,
          14432,
          8967,
          5678,
          3196,
          2028,
          1383,
          1618,
          3085,
          8793,
          16120,
          18368,
          16265,
          14368,
          13917,
          14481,
          14417,
          15668,
          16062,
          14684,
          18132,
          20711,
          19758,
          18811,
          19400,
          16870,
          11217,
          6738,
          3689,
          2240,
          1596,
          1626,
          3027,
          8710,
          16295,
          19325,
          17273,
          15213,
          15242,
          15815,
          15844,
          17466,
          17746,
          16452,
          19075,
          21996,
          21271,
          19968,
          20617,
          19265,
          14242,
          9398,
          5627,
          3814,
          2532,
          2092,
          2966,
          7955,
          14853,
          18125,
          16948,
          14811,
          14697,
          15431,
          15600,
          17243,
          17175,
          15860,
          18477,
          21136,
          21413,
          17806,
          17247,
          17683,
          16741,
          14447,
          11583,
          9513,
          6769,
          4218,
          2257,
          3097,
          4566,
          7766,
          11345,
          13315,
          14028,
          14176,
          13979,
          14412,
          16141,
          14967,
          17253,
          18874,
          18545,
          15016,
          15061,
          16571,
          16638,
          15509,
          13794,
          11521,
          8445,
          5161,
          2189,
          2465,
          4029,
          5829,
          8596,
          11763,
          13018,
          14630,
          14750,
          15130,
          15400,
          14682,
          14098,
          14888,
          11559,
          10404,
          10516,
          8061,
          5797,
          3797,
          2416,
          1505,
          1129,
          1441,
          2934,
          7927,
          13679,
          15908,
          14364,
          12476,
          12117,
          12702,
          13122,
          15148,
          15281,
          14852,
          16190,
          18281,
          16695,
          15115,
          14638,
          12179,
          7770,
          4402,
          2548,
          1587,
          1131,
          1315,
          2931,
          8507,
          14248,
          17778,
          17064,
          14188,
          13686,
          14419,
          12929,
          14471,
          14853,
          15768,
          16824,
          19666,
          18613,
          17756,
          17586,
          15638,
          9651,
          5544,
          3098,
          1926,
          1335,
          1480,
          3131,
          7897,
          14362,
          17536,
          16143,
          14397,
          14701,
          15054,
          15314,
          16542,
          17808,
          15805,
          18883,
          21748,
          21208,
          20625,
          20806,
          18259,
          11988,
          7050,
          3978,
          2538,
          1610,
          1586,
          3135,
          8602,
          15448,
          18871,
          16842,
          15349,
          15566,
          16003,
          16084,
          17485,
          17844,
          16160,
          18664,
          22121,
          21598,
          20318,
          20884,
          19528,
          14652,
          9990,
          5782,
          3816,
          2576,
          2201,
          3181,
          8162,
          14837,
          17849,
          16300,
          14502,
          14784,
          15493,
          16067,
          17200,
          17394,
          16170,
          19874,
          22688,
          21999,
          19277,
          18337,
          19146,
          17761,
          15612,
          12815,
          10171,
          7432,
          4790,
          2341,
          3273,
          4833,
          8186,
          12055,
          13500,
          15022,
          16106,
          16536,
          16008,
          16530,
          16315,
          17538,
          18752,
          18826,
          14849,
          14752,
          16914,
          16844,
          16624,
          14932,
          12469,
          9224,
          5670,
          2551,
          2500,
          3660,
          5825,
          9288,
          12909,
          14794,
          16366,
          15238,
          14877,
          14681,
          14417,
          14123,
          13777,
          11580,
          10017,
          9455,
          8043,
          6817,
          4422,
          3064,
          2275,
          1829,
          1865,
          3250,
          8136,
          13484,
          15801,
          14487,
          12355,
          12325,
          13159,
          13382,
          14866,
          15371,
          14406,
          16093,
          18429,
          17299,
          15444,
          14702,
          12076,
          8104,
          5198,
          2685,
          1607,
          1115,
          1378,
          3011,
          8508,
          15083,
          17690,
          15608,
          13979,
          13544,
          14394,
          14221,
          16293,
          16072,
          15236,
          18455,
          21480,
          20622,
          19640,
          19535,
          16425,
          11062,
          6111,
          3333,
          1997,
          1326,
          1526,
          3133,
          8503,
          15565,
          18854,
          17152,
          14960,
          15008,
          16054,
          16119,
          16981,
          17198,
          16024,
          18733,
          21614,
          20973,
          19639,
          19769,
          17351,
          11333,
          27,
          3,
          1,
          3,
          1,
          1,
          2,
          1,
          3,
          1,
          2,
          1,
          1,
          1,
          3,
          2,
          1,
          2,
          1,
          2,
          2,
          2,
          1,
          1,
          1,
          4,
          1,
          1,
          2,
          3,
          2,
          1,
          1,
          1,
          1
         ]
        }
       ],
       "layout": {
        "legend": {
         "bgcolor": "#F5F6F9",
         "font": {
          "color": "#4D5663"
         }
        },
        "paper_bgcolor": "#F5F6F9",
        "plot_bgcolor": "#F5F6F9",
        "template": {
         "data": {
          "bar": [
           {
            "error_x": {
             "color": "#2a3f5f"
            },
            "error_y": {
             "color": "#2a3f5f"
            },
            "marker": {
             "line": {
              "color": "#E5ECF6",
              "width": 0.5
             }
            },
            "type": "bar"
           }
          ],
          "barpolar": [
           {
            "marker": {
             "line": {
              "color": "#E5ECF6",
              "width": 0.5
             }
            },
            "type": "barpolar"
           }
          ],
          "carpet": [
           {
            "aaxis": {
             "endlinecolor": "#2a3f5f",
             "gridcolor": "white",
             "linecolor": "white",
             "minorgridcolor": "white",
             "startlinecolor": "#2a3f5f"
            },
            "baxis": {
             "endlinecolor": "#2a3f5f",
             "gridcolor": "white",
             "linecolor": "white",
             "minorgridcolor": "white",
             "startlinecolor": "#2a3f5f"
            },
            "type": "carpet"
           }
          ],
          "choropleth": [
           {
            "colorbar": {
             "outlinewidth": 0,
             "ticks": ""
            },
            "type": "choropleth"
           }
          ],
          "contour": [
           {
            "colorbar": {
             "outlinewidth": 0,
             "ticks": ""
            },
            "colorscale": [
             [
              0,
              "#0d0887"
             ],
             [
              0.1111111111111111,
              "#46039f"
             ],
             [
              0.2222222222222222,
              "#7201a8"
             ],
             [
              0.3333333333333333,
              "#9c179e"
             ],
             [
              0.4444444444444444,
              "#bd3786"
             ],
             [
              0.5555555555555556,
              "#d8576b"
             ],
             [
              0.6666666666666666,
              "#ed7953"
             ],
             [
              0.7777777777777778,
              "#fb9f3a"
             ],
             [
              0.8888888888888888,
              "#fdca26"
             ],
             [
              1,
              "#f0f921"
             ]
            ],
            "type": "contour"
           }
          ],
          "contourcarpet": [
           {
            "colorbar": {
             "outlinewidth": 0,
             "ticks": ""
            },
            "type": "contourcarpet"
           }
          ],
          "heatmap": [
           {
            "colorbar": {
             "outlinewidth": 0,
             "ticks": ""
            },
            "colorscale": [
             [
              0,
              "#0d0887"
             ],
             [
              0.1111111111111111,
              "#46039f"
             ],
             [
              0.2222222222222222,
              "#7201a8"
             ],
             [
              0.3333333333333333,
              "#9c179e"
             ],
             [
              0.4444444444444444,
              "#bd3786"
             ],
             [
              0.5555555555555556,
              "#d8576b"
             ],
             [
              0.6666666666666666,
              "#ed7953"
             ],
             [
              0.7777777777777778,
              "#fb9f3a"
             ],
             [
              0.8888888888888888,
              "#fdca26"
             ],
             [
              1,
              "#f0f921"
             ]
            ],
            "type": "heatmap"
           }
          ],
          "heatmapgl": [
           {
            "colorbar": {
             "outlinewidth": 0,
             "ticks": ""
            },
            "colorscale": [
             [
              0,
              "#0d0887"
             ],
             [
              0.1111111111111111,
              "#46039f"
             ],
             [
              0.2222222222222222,
              "#7201a8"
             ],
             [
              0.3333333333333333,
              "#9c179e"
             ],
             [
              0.4444444444444444,
              "#bd3786"
             ],
             [
              0.5555555555555556,
              "#d8576b"
             ],
             [
              0.6666666666666666,
              "#ed7953"
             ],
             [
              0.7777777777777778,
              "#fb9f3a"
             ],
             [
              0.8888888888888888,
              "#fdca26"
             ],
             [
              1,
              "#f0f921"
             ]
            ],
            "type": "heatmapgl"
           }
          ],
          "histogram": [
           {
            "marker": {
             "colorbar": {
              "outlinewidth": 0,
              "ticks": ""
             }
            },
            "type": "histogram"
           }
          ],
          "histogram2d": [
           {
            "colorbar": {
             "outlinewidth": 0,
             "ticks": ""
            },
            "colorscale": [
             [
              0,
              "#0d0887"
             ],
             [
              0.1111111111111111,
              "#46039f"
             ],
             [
              0.2222222222222222,
              "#7201a8"
             ],
             [
              0.3333333333333333,
              "#9c179e"
             ],
             [
              0.4444444444444444,
              "#bd3786"
             ],
             [
              0.5555555555555556,
              "#d8576b"
             ],
             [
              0.6666666666666666,
              "#ed7953"
             ],
             [
              0.7777777777777778,
              "#fb9f3a"
             ],
             [
              0.8888888888888888,
              "#fdca26"
             ],
             [
              1,
              "#f0f921"
             ]
            ],
            "type": "histogram2d"
           }
          ],
          "histogram2dcontour": [
           {
            "colorbar": {
             "outlinewidth": 0,
             "ticks": ""
            },
            "colorscale": [
             [
              0,
              "#0d0887"
             ],
             [
              0.1111111111111111,
              "#46039f"
             ],
             [
              0.2222222222222222,
              "#7201a8"
             ],
             [
              0.3333333333333333,
              "#9c179e"
             ],
             [
              0.4444444444444444,
              "#bd3786"
             ],
             [
              0.5555555555555556,
              "#d8576b"
             ],
             [
              0.6666666666666666,
              "#ed7953"
             ],
             [
              0.7777777777777778,
              "#fb9f3a"
             ],
             [
              0.8888888888888888,
              "#fdca26"
             ],
             [
              1,
              "#f0f921"
             ]
            ],
            "type": "histogram2dcontour"
           }
          ],
          "mesh3d": [
           {
            "colorbar": {
             "outlinewidth": 0,
             "ticks": ""
            },
            "type": "mesh3d"
           }
          ],
          "parcoords": [
           {
            "line": {
             "colorbar": {
              "outlinewidth": 0,
              "ticks": ""
             }
            },
            "type": "parcoords"
           }
          ],
          "pie": [
           {
            "automargin": true,
            "type": "pie"
           }
          ],
          "scatter": [
           {
            "marker": {
             "colorbar": {
              "outlinewidth": 0,
              "ticks": ""
             }
            },
            "type": "scatter"
           }
          ],
          "scatter3d": [
           {
            "line": {
             "colorbar": {
              "outlinewidth": 0,
              "ticks": ""
             }
            },
            "marker": {
             "colorbar": {
              "outlinewidth": 0,
              "ticks": ""
             }
            },
            "type": "scatter3d"
           }
          ],
          "scattercarpet": [
           {
            "marker": {
             "colorbar": {
              "outlinewidth": 0,
              "ticks": ""
             }
            },
            "type": "scattercarpet"
           }
          ],
          "scattergeo": [
           {
            "marker": {
             "colorbar": {
              "outlinewidth": 0,
              "ticks": ""
             }
            },
            "type": "scattergeo"
           }
          ],
          "scattergl": [
           {
            "marker": {
             "colorbar": {
              "outlinewidth": 0,
              "ticks": ""
             }
            },
            "type": "scattergl"
           }
          ],
          "scattermapbox": [
           {
            "marker": {
             "colorbar": {
              "outlinewidth": 0,
              "ticks": ""
             }
            },
            "type": "scattermapbox"
           }
          ],
          "scatterpolar": [
           {
            "marker": {
             "colorbar": {
              "outlinewidth": 0,
              "ticks": ""
             }
            },
            "type": "scatterpolar"
           }
          ],
          "scatterpolargl": [
           {
            "marker": {
             "colorbar": {
              "outlinewidth": 0,
              "ticks": ""
             }
            },
            "type": "scatterpolargl"
           }
          ],
          "scatterternary": [
           {
            "marker": {
             "colorbar": {
              "outlinewidth": 0,
              "ticks": ""
             }
            },
            "type": "scatterternary"
           }
          ],
          "surface": [
           {
            "colorbar": {
             "outlinewidth": 0,
             "ticks": ""
            },
            "colorscale": [
             [
              0,
              "#0d0887"
             ],
             [
              0.1111111111111111,
              "#46039f"
             ],
             [
              0.2222222222222222,
              "#7201a8"
             ],
             [
              0.3333333333333333,
              "#9c179e"
             ],
             [
              0.4444444444444444,
              "#bd3786"
             ],
             [
              0.5555555555555556,
              "#d8576b"
             ],
             [
              0.6666666666666666,
              "#ed7953"
             ],
             [
              0.7777777777777778,
              "#fb9f3a"
             ],
             [
              0.8888888888888888,
              "#fdca26"
             ],
             [
              1,
              "#f0f921"
             ]
            ],
            "type": "surface"
           }
          ],
          "table": [
           {
            "cells": {
             "fill": {
              "color": "#EBF0F8"
             },
             "line": {
              "color": "white"
             }
            },
            "header": {
             "fill": {
              "color": "#C8D4E3"
             },
             "line": {
              "color": "white"
             }
            },
            "type": "table"
           }
          ]
         },
         "layout": {
          "annotationdefaults": {
           "arrowcolor": "#2a3f5f",
           "arrowhead": 0,
           "arrowwidth": 1
          },
          "coloraxis": {
           "colorbar": {
            "outlinewidth": 0,
            "ticks": ""
           }
          },
          "colorscale": {
           "diverging": [
            [
             0,
             "#8e0152"
            ],
            [
             0.1,
             "#c51b7d"
            ],
            [
             0.2,
             "#de77ae"
            ],
            [
             0.3,
             "#f1b6da"
            ],
            [
             0.4,
             "#fde0ef"
            ],
            [
             0.5,
             "#f7f7f7"
            ],
            [
             0.6,
             "#e6f5d0"
            ],
            [
             0.7,
             "#b8e186"
            ],
            [
             0.8,
             "#7fbc41"
            ],
            [
             0.9,
             "#4d9221"
            ],
            [
             1,
             "#276419"
            ]
           ],
           "sequential": [
            [
             0,
             "#0d0887"
            ],
            [
             0.1111111111111111,
             "#46039f"
            ],
            [
             0.2222222222222222,
             "#7201a8"
            ],
            [
             0.3333333333333333,
             "#9c179e"
            ],
            [
             0.4444444444444444,
             "#bd3786"
            ],
            [
             0.5555555555555556,
             "#d8576b"
            ],
            [
             0.6666666666666666,
             "#ed7953"
            ],
            [
             0.7777777777777778,
             "#fb9f3a"
            ],
            [
             0.8888888888888888,
             "#fdca26"
            ],
            [
             1,
             "#f0f921"
            ]
           ],
           "sequentialminus": [
            [
             0,
             "#0d0887"
            ],
            [
             0.1111111111111111,
             "#46039f"
            ],
            [
             0.2222222222222222,
             "#7201a8"
            ],
            [
             0.3333333333333333,
             "#9c179e"
            ],
            [
             0.4444444444444444,
             "#bd3786"
            ],
            [
             0.5555555555555556,
             "#d8576b"
            ],
            [
             0.6666666666666666,
             "#ed7953"
            ],
            [
             0.7777777777777778,
             "#fb9f3a"
            ],
            [
             0.8888888888888888,
             "#fdca26"
            ],
            [
             1,
             "#f0f921"
            ]
           ]
          },
          "colorway": [
           "#636efa",
           "#EF553B",
           "#00cc96",
           "#ab63fa",
           "#FFA15A",
           "#19d3f3",
           "#FF6692",
           "#B6E880",
           "#FF97FF",
           "#FECB52"
          ],
          "font": {
           "color": "#2a3f5f"
          },
          "geo": {
           "bgcolor": "white",
           "lakecolor": "white",
           "landcolor": "#E5ECF6",
           "showlakes": true,
           "showland": true,
           "subunitcolor": "white"
          },
          "hoverlabel": {
           "align": "left"
          },
          "hovermode": "closest",
          "mapbox": {
           "style": "light"
          },
          "paper_bgcolor": "white",
          "plot_bgcolor": "#E5ECF6",
          "polar": {
           "angularaxis": {
            "gridcolor": "white",
            "linecolor": "white",
            "ticks": ""
           },
           "bgcolor": "#E5ECF6",
           "radialaxis": {
            "gridcolor": "white",
            "linecolor": "white",
            "ticks": ""
           }
          },
          "scene": {
           "xaxis": {
            "backgroundcolor": "#E5ECF6",
            "gridcolor": "white",
            "gridwidth": 2,
            "linecolor": "white",
            "showbackground": true,
            "ticks": "",
            "zerolinecolor": "white"
           },
           "yaxis": {
            "backgroundcolor": "#E5ECF6",
            "gridcolor": "white",
            "gridwidth": 2,
            "linecolor": "white",
            "showbackground": true,
            "ticks": "",
            "zerolinecolor": "white"
           },
           "zaxis": {
            "backgroundcolor": "#E5ECF6",
            "gridcolor": "white",
            "gridwidth": 2,
            "linecolor": "white",
            "showbackground": true,
            "ticks": "",
            "zerolinecolor": "white"
           }
          },
          "shapedefaults": {
           "line": {
            "color": "#2a3f5f"
           }
          },
          "ternary": {
           "aaxis": {
            "gridcolor": "white",
            "linecolor": "white",
            "ticks": ""
           },
           "baxis": {
            "gridcolor": "white",
            "linecolor": "white",
            "ticks": ""
           },
           "bgcolor": "#E5ECF6",
           "caxis": {
            "gridcolor": "white",
            "linecolor": "white",
            "ticks": ""
           }
          },
          "title": {
           "x": 0.05
          },
          "xaxis": {
           "automargin": true,
           "gridcolor": "white",
           "linecolor": "white",
           "ticks": "",
           "title": {
            "standoff": 15
           },
           "zerolinecolor": "white",
           "zerolinewidth": 2
          },
          "yaxis": {
           "automargin": true,
           "gridcolor": "white",
           "linecolor": "white",
           "ticks": "",
           "title": {
            "standoff": 15
           },
           "zerolinecolor": "white",
           "zerolinewidth": 2
          }
         }
        },
        "title": {
         "font": {
          "color": "#4D5663"
         },
         "text": "NYC Taxi Demand"
        },
        "xaxis": {
         "gridcolor": "#E1E5ED",
         "showgrid": true,
         "tickfont": {
          "color": "#4D5663"
         },
         "title": {
          "font": {
           "color": "#4D5663"
          },
          "text": "Datetimes"
         },
         "zerolinecolor": "#E1E5ED"
        },
        "yaxis": {
         "gridcolor": "#E1E5ED",
         "showgrid": true,
         "tickfont": {
          "color": "#4D5663"
         },
         "title": {
          "font": {
           "color": "#4D5663"
          },
          "text": "Demand"
         },
         "zerolinecolor": "#E1E5ED"
        }
       }
      },
      "text/html": [
       "<div>\n",
       "        \n",
       "        \n",
       "            <div id=\"0631c6fa-aefa-4687-bd64-bf86675df788\" class=\"plotly-graph-div\" style=\"height:525px; width:100%;\"></div>\n",
       "            <script type=\"text/javascript\">\n",
       "                require([\"plotly\"], function(Plotly) {\n",
       "                    window.PLOTLYENV=window.PLOTLYENV || {};\n",
       "                    window.PLOTLYENV.BASE_URL='https://plot.ly';\n",
       "                    \n",
       "                if (document.getElementById(\"0631c6fa-aefa-4687-bd64-bf86675df788\")) {\n",
       "                    Plotly.newPlot(\n",
       "                        '0631c6fa-aefa-4687-bd64-bf86675df788',\n",
       "                        [{\"line\": {\"color\": \"rgba(255, 153, 51, 1.0)\", \"dash\": \"solid\", \"shape\": \"linear\", \"width\": 1.3}, \"mode\": \"lines\", \"name\": \"cnt\", \"text\": \"\", \"type\": \"scatter\", \"x\": [\"2001-01-01 00:00:00\", \"2001-01-01 22:00:00\", \"2001-01-05 11:00:00\", \"2001-01-06 06:00:00\", \"2003-01-01 00:00:00\", \"2003-01-01 01:00:00\", \"2003-01-01 04:00:00\", \"2003-01-01 23:00:00\", \"2009-01-01 00:00:00\", \"2009-01-01 01:00:00\", \"2009-01-01 02:00:00\", \"2009-01-01 03:00:00\", \"2009-01-01 04:00:00\", \"2009-01-01 05:00:00\", \"2009-01-01 06:00:00\", \"2009-01-01 07:00:00\", \"2009-01-01 08:00:00\", \"2009-01-01 09:00:00\", \"2009-01-01 10:00:00\", \"2009-01-01 11:00:00\", \"2009-01-01 12:00:00\", \"2009-01-01 13:00:00\", \"2009-01-01 14:00:00\", \"2009-01-01 15:00:00\", \"2009-01-01 16:00:00\", \"2009-01-01 17:00:00\", \"2009-01-01 18:00:00\", \"2009-01-01 19:00:00\", \"2009-01-01 20:00:00\", \"2009-01-01 21:00:00\", \"2009-01-01 22:00:00\", \"2009-01-01 23:00:00\", \"2009-01-02 00:00:00\", \"2017-01-02 08:00:00\", \"2017-01-03 22:00:00\", \"2018-01-01 00:00:00\", \"2018-01-01 01:00:00\", \"2018-01-01 02:00:00\", \"2018-01-01 03:00:00\", \"2018-01-01 04:00:00\", \"2018-01-01 05:00:00\", \"2018-01-01 06:00:00\", \"2018-01-01 07:00:00\", \"2018-01-01 08:00:00\", \"2018-01-01 09:00:00\", \"2018-01-01 10:00:00\", \"2018-01-01 11:00:00\", \"2018-01-01 12:00:00\", \"2018-01-01 13:00:00\", \"2018-01-01 14:00:00\", \"2018-01-01 15:00:00\", \"2018-01-01 16:00:00\", \"2018-01-01 17:00:00\", \"2018-01-01 18:00:00\", \"2018-01-01 19:00:00\", \"2018-01-01 20:00:00\", \"2018-01-01 21:00:00\", \"2018-01-01 22:00:00\", \"2018-01-01 23:00:00\", \"2018-01-02 00:00:00\", \"2018-01-02 01:00:00\", \"2018-01-02 02:00:00\", \"2018-01-02 03:00:00\", \"2018-01-02 04:00:00\", \"2018-01-02 05:00:00\", \"2018-01-02 06:00:00\", \"2018-01-02 07:00:00\", \"2018-01-02 08:00:00\", \"2018-01-02 09:00:00\", \"2018-01-02 10:00:00\", \"2018-01-02 11:00:00\", \"2018-01-02 12:00:00\", \"2018-01-02 13:00:00\", \"2018-01-02 14:00:00\", \"2018-01-02 15:00:00\", \"2018-01-02 16:00:00\", \"2018-01-02 17:00:00\", \"2018-01-02 18:00:00\", \"2018-01-02 19:00:00\", \"2018-01-02 20:00:00\", \"2018-01-02 21:00:00\", \"2018-01-02 22:00:00\", \"2018-01-02 23:00:00\", \"2018-01-03 00:00:00\", \"2018-01-03 01:00:00\", \"2018-01-03 02:00:00\", \"2018-01-03 03:00:00\", \"2018-01-03 04:00:00\", \"2018-01-03 05:00:00\", \"2018-01-03 06:00:00\", \"2018-01-03 07:00:00\", \"2018-01-03 08:00:00\", \"2018-01-03 09:00:00\", \"2018-01-03 10:00:00\", \"2018-01-03 11:00:00\", \"2018-01-03 12:00:00\", \"2018-01-03 13:00:00\", \"2018-01-03 14:00:00\", \"2018-01-03 15:00:00\", \"2018-01-03 16:00:00\", \"2018-01-03 17:00:00\", \"2018-01-03 18:00:00\", \"2018-01-03 19:00:00\", \"2018-01-03 20:00:00\", \"2018-01-03 21:00:00\", \"2018-01-03 22:00:00\", \"2018-01-03 23:00:00\", \"2018-01-04 00:00:00\", \"2018-01-04 01:00:00\", \"2018-01-04 02:00:00\", \"2018-01-04 03:00:00\", \"2018-01-04 04:00:00\", \"2018-01-04 05:00:00\", \"2018-01-04 06:00:00\", \"2018-01-04 07:00:00\", \"2018-01-04 08:00:00\", \"2018-01-04 09:00:00\", \"2018-01-04 10:00:00\", \"2018-01-04 11:00:00\", \"2018-01-04 12:00:00\", \"2018-01-04 13:00:00\", \"2018-01-04 14:00:00\", \"2018-01-04 15:00:00\", \"2018-01-04 16:00:00\", \"2018-01-04 17:00:00\", \"2018-01-04 18:00:00\", \"2018-01-04 19:00:00\", \"2018-01-04 20:00:00\", \"2018-01-04 21:00:00\", \"2018-01-04 22:00:00\", \"2018-01-04 23:00:00\", \"2018-01-05 00:00:00\", \"2018-01-05 01:00:00\", \"2018-01-05 02:00:00\", \"2018-01-05 03:00:00\", \"2018-01-05 04:00:00\", \"2018-01-05 05:00:00\", \"2018-01-05 06:00:00\", \"2018-01-05 07:00:00\", \"2018-01-05 08:00:00\", \"2018-01-05 09:00:00\", \"2018-01-05 10:00:00\", \"2018-01-05 11:00:00\", \"2018-01-05 12:00:00\", \"2018-01-05 13:00:00\", \"2018-01-05 14:00:00\", \"2018-01-05 15:00:00\", \"2018-01-05 16:00:00\", \"2018-01-05 17:00:00\", \"2018-01-05 18:00:00\", \"2018-01-05 19:00:00\", \"2018-01-05 20:00:00\", \"2018-01-05 21:00:00\", \"2018-01-05 22:00:00\", \"2018-01-05 23:00:00\", \"2018-01-06 00:00:00\", \"2018-01-06 01:00:00\", \"2018-01-06 02:00:00\", \"2018-01-06 03:00:00\", \"2018-01-06 04:00:00\", \"2018-01-06 05:00:00\", \"2018-01-06 06:00:00\", \"2018-01-06 07:00:00\", \"2018-01-06 08:00:00\", \"2018-01-06 09:00:00\", \"2018-01-06 10:00:00\", \"2018-01-06 11:00:00\", \"2018-01-06 12:00:00\", \"2018-01-06 13:00:00\", \"2018-01-06 14:00:00\", \"2018-01-06 15:00:00\", \"2018-01-06 16:00:00\", \"2018-01-06 17:00:00\", \"2018-01-06 18:00:00\", \"2018-01-06 19:00:00\", \"2018-01-06 20:00:00\", \"2018-01-06 21:00:00\", \"2018-01-06 22:00:00\", \"2018-01-06 23:00:00\", \"2018-01-07 00:00:00\", \"2018-01-07 01:00:00\", \"2018-01-07 02:00:00\", \"2018-01-07 03:00:00\", \"2018-01-07 04:00:00\", \"2018-01-07 05:00:00\", \"2018-01-07 06:00:00\", \"2018-01-07 07:00:00\", \"2018-01-07 08:00:00\", \"2018-01-07 09:00:00\", \"2018-01-07 10:00:00\", \"2018-01-07 11:00:00\", \"2018-01-07 12:00:00\", \"2018-01-07 13:00:00\", \"2018-01-07 14:00:00\", \"2018-01-07 15:00:00\", \"2018-01-07 16:00:00\", \"2018-01-07 17:00:00\", \"2018-01-07 18:00:00\", \"2018-01-07 19:00:00\", \"2018-01-07 20:00:00\", \"2018-01-07 21:00:00\", \"2018-01-07 22:00:00\", \"2018-01-07 23:00:00\", \"2018-01-08 00:00:00\", \"2018-01-08 01:00:00\", \"2018-01-08 02:00:00\", \"2018-01-08 03:00:00\", \"2018-01-08 04:00:00\", \"2018-01-08 05:00:00\", \"2018-01-08 06:00:00\", \"2018-01-08 07:00:00\", \"2018-01-08 08:00:00\", \"2018-01-08 09:00:00\", \"2018-01-08 10:00:00\", \"2018-01-08 11:00:00\", \"2018-01-08 12:00:00\", \"2018-01-08 13:00:00\", \"2018-01-08 14:00:00\", \"2018-01-08 15:00:00\", \"2018-01-08 16:00:00\", \"2018-01-08 17:00:00\", \"2018-01-08 18:00:00\", \"2018-01-08 19:00:00\", \"2018-01-08 20:00:00\", \"2018-01-08 21:00:00\", \"2018-01-08 22:00:00\", \"2018-01-08 23:00:00\", \"2018-01-09 00:00:00\", \"2018-01-09 01:00:00\", \"2018-01-09 02:00:00\", \"2018-01-09 03:00:00\", \"2018-01-09 04:00:00\", \"2018-01-09 05:00:00\", \"2018-01-09 06:00:00\", \"2018-01-09 07:00:00\", \"2018-01-09 08:00:00\", \"2018-01-09 09:00:00\", \"2018-01-09 10:00:00\", \"2018-01-09 11:00:00\", \"2018-01-09 12:00:00\", \"2018-01-09 13:00:00\", \"2018-01-09 14:00:00\", \"2018-01-09 15:00:00\", \"2018-01-09 16:00:00\", \"2018-01-09 17:00:00\", \"2018-01-09 18:00:00\", \"2018-01-09 19:00:00\", \"2018-01-09 20:00:00\", \"2018-01-09 21:00:00\", \"2018-01-09 22:00:00\", \"2018-01-09 23:00:00\", \"2018-01-10 00:00:00\", \"2018-01-10 01:00:00\", \"2018-01-10 02:00:00\", \"2018-01-10 03:00:00\", \"2018-01-10 04:00:00\", \"2018-01-10 05:00:00\", \"2018-01-10 06:00:00\", \"2018-01-10 07:00:00\", \"2018-01-10 08:00:00\", \"2018-01-10 09:00:00\", \"2018-01-10 10:00:00\", \"2018-01-10 11:00:00\", \"2018-01-10 12:00:00\", \"2018-01-10 13:00:00\", \"2018-01-10 14:00:00\", \"2018-01-10 15:00:00\", \"2018-01-10 16:00:00\", \"2018-01-10 17:00:00\", \"2018-01-10 18:00:00\", \"2018-01-10 19:00:00\", \"2018-01-10 20:00:00\", \"2018-01-10 21:00:00\", \"2018-01-10 22:00:00\", \"2018-01-10 23:00:00\", \"2018-01-11 00:00:00\", \"2018-01-11 01:00:00\", \"2018-01-11 02:00:00\", \"2018-01-11 03:00:00\", \"2018-01-11 04:00:00\", \"2018-01-11 05:00:00\", \"2018-01-11 06:00:00\", \"2018-01-11 07:00:00\", \"2018-01-11 08:00:00\", \"2018-01-11 09:00:00\", \"2018-01-11 10:00:00\", \"2018-01-11 11:00:00\", \"2018-01-11 12:00:00\", \"2018-01-11 13:00:00\", \"2018-01-11 14:00:00\", \"2018-01-11 15:00:00\", \"2018-01-11 16:00:00\", \"2018-01-11 17:00:00\", \"2018-01-11 18:00:00\", \"2018-01-11 19:00:00\", \"2018-01-11 20:00:00\", \"2018-01-11 21:00:00\", \"2018-01-11 22:00:00\", \"2018-01-11 23:00:00\", \"2018-01-12 00:00:00\", \"2018-01-12 01:00:00\", \"2018-01-12 02:00:00\", \"2018-01-12 03:00:00\", \"2018-01-12 04:00:00\", \"2018-01-12 05:00:00\", \"2018-01-12 06:00:00\", \"2018-01-12 07:00:00\", \"2018-01-12 08:00:00\", \"2018-01-12 09:00:00\", \"2018-01-12 10:00:00\", \"2018-01-12 11:00:00\", \"2018-01-12 12:00:00\", \"2018-01-12 13:00:00\", \"2018-01-12 14:00:00\", \"2018-01-12 15:00:00\", \"2018-01-12 16:00:00\", \"2018-01-12 17:00:00\", \"2018-01-12 18:00:00\", \"2018-01-12 19:00:00\", \"2018-01-12 20:00:00\", \"2018-01-12 21:00:00\", \"2018-01-12 22:00:00\", \"2018-01-12 23:00:00\", \"2018-01-13 00:00:00\", \"2018-01-13 01:00:00\", \"2018-01-13 02:00:00\", \"2018-01-13 03:00:00\", \"2018-01-13 04:00:00\", \"2018-01-13 05:00:00\", \"2018-01-13 06:00:00\", \"2018-01-13 07:00:00\", \"2018-01-13 08:00:00\", \"2018-01-13 09:00:00\", \"2018-01-13 10:00:00\", \"2018-01-13 11:00:00\", \"2018-01-13 12:00:00\", \"2018-01-13 13:00:00\", \"2018-01-13 14:00:00\", \"2018-01-13 15:00:00\", \"2018-01-13 16:00:00\", \"2018-01-13 17:00:00\", \"2018-01-13 18:00:00\", \"2018-01-13 19:00:00\", \"2018-01-13 20:00:00\", \"2018-01-13 21:00:00\", \"2018-01-13 22:00:00\", \"2018-01-13 23:00:00\", \"2018-01-14 00:00:00\", \"2018-01-14 01:00:00\", \"2018-01-14 02:00:00\", \"2018-01-14 03:00:00\", \"2018-01-14 04:00:00\", \"2018-01-14 05:00:00\", \"2018-01-14 06:00:00\", \"2018-01-14 07:00:00\", \"2018-01-14 08:00:00\", \"2018-01-14 09:00:00\", \"2018-01-14 10:00:00\", \"2018-01-14 11:00:00\", \"2018-01-14 12:00:00\", \"2018-01-14 13:00:00\", \"2018-01-14 14:00:00\", \"2018-01-14 15:00:00\", \"2018-01-14 16:00:00\", \"2018-01-14 17:00:00\", \"2018-01-14 18:00:00\", \"2018-01-14 19:00:00\", \"2018-01-14 20:00:00\", \"2018-01-14 21:00:00\", \"2018-01-14 22:00:00\", \"2018-01-14 23:00:00\", \"2018-01-15 00:00:00\", \"2018-01-15 01:00:00\", \"2018-01-15 02:00:00\", \"2018-01-15 03:00:00\", \"2018-01-15 04:00:00\", \"2018-01-15 05:00:00\", \"2018-01-15 06:00:00\", \"2018-01-15 07:00:00\", \"2018-01-15 08:00:00\", \"2018-01-15 09:00:00\", \"2018-01-15 10:00:00\", \"2018-01-15 11:00:00\", \"2018-01-15 12:00:00\", \"2018-01-15 13:00:00\", \"2018-01-15 14:00:00\", \"2018-01-15 15:00:00\", \"2018-01-15 16:00:00\", \"2018-01-15 17:00:00\", \"2018-01-15 18:00:00\", \"2018-01-15 19:00:00\", \"2018-01-15 20:00:00\", \"2018-01-15 21:00:00\", \"2018-01-15 22:00:00\", \"2018-01-15 23:00:00\", \"2018-01-16 00:00:00\", \"2018-01-16 01:00:00\", \"2018-01-16 02:00:00\", \"2018-01-16 03:00:00\", \"2018-01-16 04:00:00\", \"2018-01-16 05:00:00\", \"2018-01-16 06:00:00\", \"2018-01-16 07:00:00\", \"2018-01-16 08:00:00\", \"2018-01-16 09:00:00\", \"2018-01-16 10:00:00\", \"2018-01-16 11:00:00\", \"2018-01-16 12:00:00\", \"2018-01-16 13:00:00\", \"2018-01-16 14:00:00\", \"2018-01-16 15:00:00\", \"2018-01-16 16:00:00\", \"2018-01-16 17:00:00\", \"2018-01-16 18:00:00\", \"2018-01-16 19:00:00\", \"2018-01-16 20:00:00\", \"2018-01-16 21:00:00\", \"2018-01-16 22:00:00\", \"2018-01-16 23:00:00\", \"2018-01-17 00:00:00\", \"2018-01-17 01:00:00\", \"2018-01-17 02:00:00\", \"2018-01-17 03:00:00\", \"2018-01-17 04:00:00\", \"2018-01-17 05:00:00\", \"2018-01-17 06:00:00\", \"2018-01-17 07:00:00\", \"2018-01-17 08:00:00\", \"2018-01-17 09:00:00\", \"2018-01-17 10:00:00\", \"2018-01-17 11:00:00\", \"2018-01-17 12:00:00\", \"2018-01-17 13:00:00\", \"2018-01-17 14:00:00\", \"2018-01-17 15:00:00\", \"2018-01-17 16:00:00\", \"2018-01-17 17:00:00\", \"2018-01-17 18:00:00\", \"2018-01-17 19:00:00\", \"2018-01-17 20:00:00\", \"2018-01-17 21:00:00\", \"2018-01-17 22:00:00\", \"2018-01-17 23:00:00\", \"2018-01-18 00:00:00\", \"2018-01-18 01:00:00\", \"2018-01-18 02:00:00\", \"2018-01-18 03:00:00\", \"2018-01-18 04:00:00\", \"2018-01-18 05:00:00\", \"2018-01-18 06:00:00\", \"2018-01-18 07:00:00\", \"2018-01-18 08:00:00\", \"2018-01-18 09:00:00\", \"2018-01-18 10:00:00\", \"2018-01-18 11:00:00\", \"2018-01-18 12:00:00\", \"2018-01-18 13:00:00\", \"2018-01-18 14:00:00\", \"2018-01-18 15:00:00\", \"2018-01-18 16:00:00\", \"2018-01-18 17:00:00\", \"2018-01-18 18:00:00\", \"2018-01-18 19:00:00\", \"2018-01-18 20:00:00\", \"2018-01-18 21:00:00\", \"2018-01-18 22:00:00\", \"2018-01-18 23:00:00\", \"2018-01-19 00:00:00\", \"2018-01-19 01:00:00\", \"2018-01-19 02:00:00\", \"2018-01-19 03:00:00\", \"2018-01-19 04:00:00\", \"2018-01-19 05:00:00\", \"2018-01-19 06:00:00\", \"2018-01-19 07:00:00\", \"2018-01-19 08:00:00\", \"2018-01-19 09:00:00\", \"2018-01-19 10:00:00\", \"2018-01-19 11:00:00\", \"2018-01-19 12:00:00\", \"2018-01-19 13:00:00\", \"2018-01-19 14:00:00\", \"2018-01-19 15:00:00\", \"2018-01-19 16:00:00\", \"2018-01-19 17:00:00\", \"2018-01-19 18:00:00\", \"2018-01-19 19:00:00\", \"2018-01-19 20:00:00\", \"2018-01-19 21:00:00\", \"2018-01-19 22:00:00\", \"2018-01-19 23:00:00\", \"2018-01-20 00:00:00\", \"2018-01-20 01:00:00\", \"2018-01-20 02:00:00\", \"2018-01-20 03:00:00\", \"2018-01-20 04:00:00\", \"2018-01-20 05:00:00\", \"2018-01-20 06:00:00\", \"2018-01-20 07:00:00\", \"2018-01-20 08:00:00\", \"2018-01-20 09:00:00\", \"2018-01-20 10:00:00\", \"2018-01-20 11:00:00\", \"2018-01-20 12:00:00\", \"2018-01-20 13:00:00\", \"2018-01-20 14:00:00\", \"2018-01-20 15:00:00\", \"2018-01-20 16:00:00\", \"2018-01-20 17:00:00\", \"2018-01-20 18:00:00\", \"2018-01-20 19:00:00\", \"2018-01-20 20:00:00\", \"2018-01-20 21:00:00\", \"2018-01-20 22:00:00\", \"2018-01-20 23:00:00\", \"2018-01-21 00:00:00\", \"2018-01-21 01:00:00\", \"2018-01-21 02:00:00\", \"2018-01-21 03:00:00\", \"2018-01-21 04:00:00\", \"2018-01-21 05:00:00\", \"2018-01-21 06:00:00\", \"2018-01-21 07:00:00\", \"2018-01-21 08:00:00\", \"2018-01-21 09:00:00\", \"2018-01-21 10:00:00\", \"2018-01-21 11:00:00\", \"2018-01-21 12:00:00\", \"2018-01-21 13:00:00\", \"2018-01-21 14:00:00\", \"2018-01-21 15:00:00\", \"2018-01-21 16:00:00\", \"2018-01-21 17:00:00\", \"2018-01-21 18:00:00\", \"2018-01-21 19:00:00\", \"2018-01-21 20:00:00\", \"2018-01-21 21:00:00\", \"2018-01-21 22:00:00\", \"2018-01-21 23:00:00\", \"2018-01-22 00:00:00\", \"2018-01-22 01:00:00\", \"2018-01-22 02:00:00\", \"2018-01-22 03:00:00\", \"2018-01-22 04:00:00\", \"2018-01-22 05:00:00\", \"2018-01-22 06:00:00\", \"2018-01-22 07:00:00\", \"2018-01-22 08:00:00\", \"2018-01-22 09:00:00\", \"2018-01-22 10:00:00\", \"2018-01-22 11:00:00\", \"2018-01-22 12:00:00\", \"2018-01-22 13:00:00\", \"2018-01-22 14:00:00\", \"2018-01-22 15:00:00\", \"2018-01-22 16:00:00\", \"2018-01-22 17:00:00\", \"2018-01-22 18:00:00\", \"2018-01-22 19:00:00\", \"2018-01-22 20:00:00\", \"2018-01-22 21:00:00\", \"2018-01-22 22:00:00\", \"2018-01-22 23:00:00\", \"2018-01-23 00:00:00\", \"2018-01-23 01:00:00\", \"2018-01-23 02:00:00\", \"2018-01-23 03:00:00\", \"2018-01-23 04:00:00\", \"2018-01-23 05:00:00\", \"2018-01-23 06:00:00\", \"2018-01-23 07:00:00\", \"2018-01-23 08:00:00\", \"2018-01-23 09:00:00\", \"2018-01-23 10:00:00\", \"2018-01-23 11:00:00\", \"2018-01-23 12:00:00\", \"2018-01-23 13:00:00\", \"2018-01-23 14:00:00\", \"2018-01-23 15:00:00\", \"2018-01-23 16:00:00\", \"2018-01-23 17:00:00\", \"2018-01-23 18:00:00\", \"2018-01-23 19:00:00\", \"2018-01-23 20:00:00\", \"2018-01-23 21:00:00\", \"2018-01-23 22:00:00\", \"2018-01-23 23:00:00\", \"2018-01-24 00:00:00\", \"2018-01-24 01:00:00\", \"2018-01-24 02:00:00\", \"2018-01-24 03:00:00\", \"2018-01-24 04:00:00\", \"2018-01-24 05:00:00\", \"2018-01-24 06:00:00\", \"2018-01-24 07:00:00\", \"2018-01-24 08:00:00\", \"2018-01-24 09:00:00\", \"2018-01-24 10:00:00\", \"2018-01-24 11:00:00\", \"2018-01-24 12:00:00\", \"2018-01-24 13:00:00\", \"2018-01-24 14:00:00\", \"2018-01-24 15:00:00\", \"2018-01-24 16:00:00\", \"2018-01-24 17:00:00\", \"2018-01-24 18:00:00\", \"2018-01-24 19:00:00\", \"2018-01-24 20:00:00\", \"2018-01-24 21:00:00\", \"2018-01-24 22:00:00\", \"2018-01-24 23:00:00\", \"2018-01-25 00:00:00\", \"2018-01-25 01:00:00\", \"2018-01-25 02:00:00\", \"2018-01-25 03:00:00\", \"2018-01-25 04:00:00\", \"2018-01-25 05:00:00\", \"2018-01-25 06:00:00\", \"2018-01-25 07:00:00\", \"2018-01-25 08:00:00\", \"2018-01-25 09:00:00\", \"2018-01-25 10:00:00\", \"2018-01-25 11:00:00\", \"2018-01-25 12:00:00\", \"2018-01-25 13:00:00\", \"2018-01-25 14:00:00\", \"2018-01-25 15:00:00\", \"2018-01-25 16:00:00\", \"2018-01-25 17:00:00\", \"2018-01-25 18:00:00\", \"2018-01-25 19:00:00\", \"2018-01-25 20:00:00\", \"2018-01-25 21:00:00\", \"2018-01-25 22:00:00\", \"2018-01-25 23:00:00\", \"2018-01-26 00:00:00\", \"2018-01-26 01:00:00\", \"2018-01-26 02:00:00\", \"2018-01-26 03:00:00\", \"2018-01-26 04:00:00\", \"2018-01-26 05:00:00\", \"2018-01-26 06:00:00\", \"2018-01-26 07:00:00\", \"2018-01-26 08:00:00\", \"2018-01-26 09:00:00\", \"2018-01-26 10:00:00\", \"2018-01-26 11:00:00\", \"2018-01-26 12:00:00\", \"2018-01-26 13:00:00\", \"2018-01-26 14:00:00\", \"2018-01-26 15:00:00\", \"2018-01-26 16:00:00\", \"2018-01-26 17:00:00\", \"2018-01-26 18:00:00\", \"2018-01-26 19:00:00\", \"2018-01-26 20:00:00\", \"2018-01-26 21:00:00\", \"2018-01-26 22:00:00\", \"2018-01-26 23:00:00\", \"2018-01-27 00:00:00\", \"2018-01-27 01:00:00\", \"2018-01-27 02:00:00\", \"2018-01-27 03:00:00\", \"2018-01-27 04:00:00\", \"2018-01-27 05:00:00\", \"2018-01-27 06:00:00\", \"2018-01-27 07:00:00\", \"2018-01-27 08:00:00\", \"2018-01-27 09:00:00\", \"2018-01-27 10:00:00\", \"2018-01-27 11:00:00\", \"2018-01-27 12:00:00\", \"2018-01-27 13:00:00\", \"2018-01-27 14:00:00\", \"2018-01-27 15:00:00\", \"2018-01-27 16:00:00\", \"2018-01-27 17:00:00\", \"2018-01-27 18:00:00\", \"2018-01-27 19:00:00\", \"2018-01-27 20:00:00\", \"2018-01-27 21:00:00\", \"2018-01-27 22:00:00\", \"2018-01-27 23:00:00\", \"2018-01-28 00:00:00\", \"2018-01-28 01:00:00\", \"2018-01-28 02:00:00\", \"2018-01-28 03:00:00\", \"2018-01-28 04:00:00\", \"2018-01-28 05:00:00\", \"2018-01-28 06:00:00\", \"2018-01-28 07:00:00\", \"2018-01-28 08:00:00\", \"2018-01-28 09:00:00\", \"2018-01-28 10:00:00\", \"2018-01-28 11:00:00\", \"2018-01-28 12:00:00\", \"2018-01-28 13:00:00\", \"2018-01-28 14:00:00\", \"2018-01-28 15:00:00\", \"2018-01-28 16:00:00\", \"2018-01-28 17:00:00\", \"2018-01-28 18:00:00\", \"2018-01-28 19:00:00\", \"2018-01-28 20:00:00\", \"2018-01-28 21:00:00\", \"2018-01-28 22:00:00\", \"2018-01-28 23:00:00\", \"2018-01-29 00:00:00\", \"2018-01-29 01:00:00\", \"2018-01-29 02:00:00\", \"2018-01-29 03:00:00\", \"2018-01-29 04:00:00\", \"2018-01-29 05:00:00\", \"2018-01-29 06:00:00\", \"2018-01-29 07:00:00\", \"2018-01-29 08:00:00\", \"2018-01-29 09:00:00\", \"2018-01-29 10:00:00\", \"2018-01-29 11:00:00\", \"2018-01-29 12:00:00\", \"2018-01-29 13:00:00\", \"2018-01-29 14:00:00\", \"2018-01-29 15:00:00\", \"2018-01-29 16:00:00\", \"2018-01-29 17:00:00\", \"2018-01-29 18:00:00\", \"2018-01-29 19:00:00\", \"2018-01-29 20:00:00\", \"2018-01-29 21:00:00\", \"2018-01-29 22:00:00\", \"2018-01-29 23:00:00\", \"2018-01-30 00:00:00\", \"2018-01-30 01:00:00\", \"2018-01-30 02:00:00\", \"2018-01-30 03:00:00\", \"2018-01-30 04:00:00\", \"2018-01-30 05:00:00\", \"2018-01-30 06:00:00\", \"2018-01-30 07:00:00\", \"2018-01-30 08:00:00\", \"2018-01-30 09:00:00\", \"2018-01-30 10:00:00\", \"2018-01-30 11:00:00\", \"2018-01-30 12:00:00\", \"2018-01-30 13:00:00\", \"2018-01-30 14:00:00\", \"2018-01-30 15:00:00\", \"2018-01-30 16:00:00\", \"2018-01-30 17:00:00\", \"2018-01-30 18:00:00\", \"2018-01-30 19:00:00\", \"2018-01-30 20:00:00\", \"2018-01-30 21:00:00\", \"2018-01-30 22:00:00\", \"2018-01-30 23:00:00\", \"2018-01-31 00:00:00\", \"2018-01-31 01:00:00\", \"2018-01-31 02:00:00\", \"2018-01-31 03:00:00\", \"2018-01-31 04:00:00\", \"2018-01-31 05:00:00\", \"2018-01-31 06:00:00\", \"2018-01-31 07:00:00\", \"2018-01-31 08:00:00\", \"2018-01-31 09:00:00\", \"2018-01-31 10:00:00\", \"2018-01-31 11:00:00\", \"2018-01-31 12:00:00\", \"2018-01-31 13:00:00\", \"2018-01-31 14:00:00\", \"2018-01-31 15:00:00\", \"2018-01-31 16:00:00\", \"2018-01-31 17:00:00\", \"2018-01-31 18:00:00\", \"2018-01-31 19:00:00\", \"2018-01-31 20:00:00\", \"2018-01-31 21:00:00\", \"2018-01-31 22:00:00\", \"2018-01-31 23:00:00\", \"2019-01-01 00:00:00\", \"2019-01-01 04:00:00\", \"2019-01-01 13:00:00\", \"2019-01-01 14:00:00\", \"2019-01-02 00:00:00\", \"2019-01-02 06:00:00\", \"2019-01-04 19:00:00\", \"2019-01-07 22:00:00\", \"2019-01-08 00:00:00\", \"2019-01-08 05:00:00\", \"2019-01-08 06:00:00\", \"2019-01-10 06:00:00\", \"2019-01-10 07:00:00\", \"2019-01-12 00:00:00\", \"2019-01-12 13:00:00\", \"2019-01-13 15:00:00\", \"2019-01-16 15:00:00\", \"2019-01-18 08:00:00\", \"2019-01-18 09:00:00\", \"2019-01-19 07:00:00\", \"2019-01-19 08:00:00\", \"2019-01-19 11:00:00\", \"2019-01-20 08:00:00\", \"2019-01-20 20:00:00\", \"2019-01-22 12:00:00\", \"2019-01-22 22:00:00\", \"2019-01-23 14:00:00\", \"2019-01-23 15:00:00\", \"2019-01-26 03:00:00\", \"2019-01-29 06:00:00\", \"2019-01-29 08:00:00\", \"2019-01-29 09:00:00\", \"2019-01-29 13:00:00\", \"2019-01-29 14:00:00\", \"2019-01-31 14:00:00\"], \"y\": [10, 2, 1, 1, 13, 1, 1, 2, 275, 75, 40, 20, 10, 9, 7, 13, 9, 10, 11, 3, 3, 6, 9, 21, 4, 11, 6, 9, 1, 2, 9, 20, 2, 1, 1, 16458, 18985, 16561, 12611, 8726, 4220, 3407, 3420, 3634, 4930, 6963, 9981, 11624, 11890, 12403, 13256, 12548, 12748, 11815, 10449, 8356, 8850, 7895, 5389, 3581, 1724, 1205, 918, 1214, 2865, 7049, 10914, 13731, 13129, 12049, 12284, 12901, 13285, 14140, 14315, 14045, 16015, 17349, 14390, 12371, 11812, 10276, 6590, 4547, 2614, 1537, 1144, 1368, 2687, 7539, 12073, 15021, 14828, 13613, 13473, 13959, 14262, 15405, 15111, 14598, 17020, 18909, 17495, 14808, 13841, 12758, 8382, 5356, 2899, 1908, 1294, 1386, 2259, 5172, 6975, 7567, 6716, 5849, 5574, 5256, 5336, 5278, 5106, 5076, 5782, 6956, 6711, 6313, 6524, 6022, 4907, 3619, 2161, 1348, 1016, 1145, 2276, 6279, 11079, 13669, 13145, 12280, 12001, 12959, 13537, 14704, 14753, 13904, 16597, 18808, 18878, 16121, 15078, 16007, 13848, 11282, 8746, 6675, 4784, 3405, 1992, 3043, 4538, 6657, 10038, 12527, 14267, 15646, 16195, 15758, 18087, 17433, 17253, 18455, 18123, 13751, 13398, 14347, 14860, 11981, 9662, 7595, 5726, 3446, 1760, 2503, 3526, 5846, 8789, 11682, 13746, 15614, 15181, 15164, 15118, 15615, 15071, 14494, 12027, 10231, 9162, 7250, 6204, 3968, 2331, 1671, 1223, 1479, 3312, 8132, 13524, 16322, 15109, 12957, 12351, 12872, 13411, 14869, 15844, 14389, 16191, 17571, 16142, 14548, 12938, 11074, 7564, 6174, 2927, 1778, 1181, 1446, 2845, 8080, 14274, 17158, 16396, 13884, 13156, 13688, 13745, 15035, 15798, 14459, 16970, 19685, 18151, 17465, 16966, 14207, 9194, 5470, 3225, 2002, 1370, 1439, 2920, 7979, 14584, 17588, 15865, 14269, 13553, 14351, 14019, 15464, 16036, 14513, 16666, 19675, 18714, 17411, 17336, 15670, 10243, 6384, 3515, 2252, 1490, 1611, 2895, 8046, 14668, 17555, 15867, 13893, 13743, 14990, 15006, 16297, 16236, 15003, 17488, 20776, 19788, 18300, 18247, 17320, 13612, 8866, 5394, 3346, 2349, 2081, 3313, 8111, 14659, 17471, 16009, 13972, 14191, 15443, 15689, 19012, 17017, 13868, 16566, 19452, 21340, 16666, 18446, 17506, 16872, 13353, 11223, 9485, 6438, 4037, 2186, 3220, 4727, 7349, 11265, 13864, 15281, 16900, 17090, 16611, 18510, 18570, 19468, 20965, 21435, 16852, 16789, 17902, 18359, 16127, 13447, 11137, 8313, 5111, 2235, 2564, 4049, 6442, 9868, 12964, 14875, 16890, 17186, 17064, 17351, 17177, 17086, 17367, 14758, 14490, 13098, 11781, 9584, 7163, 4667, 3108, 2213, 2108, 2155, 4244, 6196, 9820, 11287, 12106, 13512, 14654, 14813, 15234, 15877, 15551, 16912, 17259, 14930, 12305, 11995, 11013, 7766, 4415, 2593, 1464, 1087, 1384, 3177, 8593, 15385, 18752, 17073, 14884, 14135, 15068, 15274, 17023, 16831, 15429, 17581, 19938, 17949, 16989, 17312, 14432, 8967, 5678, 3196, 2028, 1383, 1618, 3085, 8793, 16120, 18368, 16265, 14368, 13917, 14481, 14417, 15668, 16062, 14684, 18132, 20711, 19758, 18811, 19400, 16870, 11217, 6738, 3689, 2240, 1596, 1626, 3027, 8710, 16295, 19325, 17273, 15213, 15242, 15815, 15844, 17466, 17746, 16452, 19075, 21996, 21271, 19968, 20617, 19265, 14242, 9398, 5627, 3814, 2532, 2092, 2966, 7955, 14853, 18125, 16948, 14811, 14697, 15431, 15600, 17243, 17175, 15860, 18477, 21136, 21413, 17806, 17247, 17683, 16741, 14447, 11583, 9513, 6769, 4218, 2257, 3097, 4566, 7766, 11345, 13315, 14028, 14176, 13979, 14412, 16141, 14967, 17253, 18874, 18545, 15016, 15061, 16571, 16638, 15509, 13794, 11521, 8445, 5161, 2189, 2465, 4029, 5829, 8596, 11763, 13018, 14630, 14750, 15130, 15400, 14682, 14098, 14888, 11559, 10404, 10516, 8061, 5797, 3797, 2416, 1505, 1129, 1441, 2934, 7927, 13679, 15908, 14364, 12476, 12117, 12702, 13122, 15148, 15281, 14852, 16190, 18281, 16695, 15115, 14638, 12179, 7770, 4402, 2548, 1587, 1131, 1315, 2931, 8507, 14248, 17778, 17064, 14188, 13686, 14419, 12929, 14471, 14853, 15768, 16824, 19666, 18613, 17756, 17586, 15638, 9651, 5544, 3098, 1926, 1335, 1480, 3131, 7897, 14362, 17536, 16143, 14397, 14701, 15054, 15314, 16542, 17808, 15805, 18883, 21748, 21208, 20625, 20806, 18259, 11988, 7050, 3978, 2538, 1610, 1586, 3135, 8602, 15448, 18871, 16842, 15349, 15566, 16003, 16084, 17485, 17844, 16160, 18664, 22121, 21598, 20318, 20884, 19528, 14652, 9990, 5782, 3816, 2576, 2201, 3181, 8162, 14837, 17849, 16300, 14502, 14784, 15493, 16067, 17200, 17394, 16170, 19874, 22688, 21999, 19277, 18337, 19146, 17761, 15612, 12815, 10171, 7432, 4790, 2341, 3273, 4833, 8186, 12055, 13500, 15022, 16106, 16536, 16008, 16530, 16315, 17538, 18752, 18826, 14849, 14752, 16914, 16844, 16624, 14932, 12469, 9224, 5670, 2551, 2500, 3660, 5825, 9288, 12909, 14794, 16366, 15238, 14877, 14681, 14417, 14123, 13777, 11580, 10017, 9455, 8043, 6817, 4422, 3064, 2275, 1829, 1865, 3250, 8136, 13484, 15801, 14487, 12355, 12325, 13159, 13382, 14866, 15371, 14406, 16093, 18429, 17299, 15444, 14702, 12076, 8104, 5198, 2685, 1607, 1115, 1378, 3011, 8508, 15083, 17690, 15608, 13979, 13544, 14394, 14221, 16293, 16072, 15236, 18455, 21480, 20622, 19640, 19535, 16425, 11062, 6111, 3333, 1997, 1326, 1526, 3133, 8503, 15565, 18854, 17152, 14960, 15008, 16054, 16119, 16981, 17198, 16024, 18733, 21614, 20973, 19639, 19769, 17351, 11333, 27, 3, 1, 3, 1, 1, 2, 1, 3, 1, 2, 1, 1, 1, 3, 2, 1, 2, 1, 2, 2, 2, 1, 1, 1, 4, 1, 1, 2, 3, 2, 1, 1, 1, 1]}],\n",
       "                        {\"legend\": {\"bgcolor\": \"#F5F6F9\", \"font\": {\"color\": \"#4D5663\"}}, \"paper_bgcolor\": \"#F5F6F9\", \"plot_bgcolor\": \"#F5F6F9\", \"template\": {\"data\": {\"bar\": [{\"error_x\": {\"color\": \"#2a3f5f\"}, \"error_y\": {\"color\": \"#2a3f5f\"}, \"marker\": {\"line\": {\"color\": \"#E5ECF6\", \"width\": 0.5}}, \"type\": \"bar\"}], \"barpolar\": [{\"marker\": {\"line\": {\"color\": \"#E5ECF6\", \"width\": 0.5}}, \"type\": \"barpolar\"}], \"carpet\": [{\"aaxis\": {\"endlinecolor\": \"#2a3f5f\", \"gridcolor\": \"white\", \"linecolor\": \"white\", \"minorgridcolor\": \"white\", \"startlinecolor\": \"#2a3f5f\"}, \"baxis\": {\"endlinecolor\": \"#2a3f5f\", \"gridcolor\": \"white\", \"linecolor\": \"white\", \"minorgridcolor\": \"white\", \"startlinecolor\": \"#2a3f5f\"}, \"type\": \"carpet\"}], \"choropleth\": [{\"colorbar\": {\"outlinewidth\": 0, \"ticks\": \"\"}, \"type\": \"choropleth\"}], \"contour\": [{\"colorbar\": {\"outlinewidth\": 0, \"ticks\": \"\"}, \"colorscale\": [[0.0, \"#0d0887\"], [0.1111111111111111, \"#46039f\"], [0.2222222222222222, \"#7201a8\"], [0.3333333333333333, \"#9c179e\"], [0.4444444444444444, \"#bd3786\"], [0.5555555555555556, \"#d8576b\"], [0.6666666666666666, \"#ed7953\"], [0.7777777777777778, \"#fb9f3a\"], [0.8888888888888888, \"#fdca26\"], [1.0, \"#f0f921\"]], \"type\": \"contour\"}], \"contourcarpet\": [{\"colorbar\": {\"outlinewidth\": 0, \"ticks\": \"\"}, \"type\": \"contourcarpet\"}], \"heatmap\": [{\"colorbar\": {\"outlinewidth\": 0, \"ticks\": \"\"}, \"colorscale\": [[0.0, \"#0d0887\"], [0.1111111111111111, \"#46039f\"], [0.2222222222222222, \"#7201a8\"], [0.3333333333333333, \"#9c179e\"], [0.4444444444444444, \"#bd3786\"], [0.5555555555555556, \"#d8576b\"], [0.6666666666666666, \"#ed7953\"], [0.7777777777777778, \"#fb9f3a\"], [0.8888888888888888, \"#fdca26\"], [1.0, \"#f0f921\"]], \"type\": \"heatmap\"}], \"heatmapgl\": [{\"colorbar\": {\"outlinewidth\": 0, \"ticks\": \"\"}, \"colorscale\": [[0.0, \"#0d0887\"], [0.1111111111111111, \"#46039f\"], [0.2222222222222222, \"#7201a8\"], [0.3333333333333333, \"#9c179e\"], [0.4444444444444444, \"#bd3786\"], [0.5555555555555556, \"#d8576b\"], [0.6666666666666666, \"#ed7953\"], [0.7777777777777778, \"#fb9f3a\"], [0.8888888888888888, \"#fdca26\"], [1.0, \"#f0f921\"]], \"type\": \"heatmapgl\"}], \"histogram\": [{\"marker\": {\"colorbar\": {\"outlinewidth\": 0, \"ticks\": \"\"}}, \"type\": \"histogram\"}], \"histogram2d\": [{\"colorbar\": {\"outlinewidth\": 0, \"ticks\": \"\"}, \"colorscale\": [[0.0, \"#0d0887\"], [0.1111111111111111, \"#46039f\"], [0.2222222222222222, \"#7201a8\"], [0.3333333333333333, \"#9c179e\"], [0.4444444444444444, \"#bd3786\"], [0.5555555555555556, \"#d8576b\"], [0.6666666666666666, \"#ed7953\"], [0.7777777777777778, \"#fb9f3a\"], [0.8888888888888888, \"#fdca26\"], [1.0, \"#f0f921\"]], \"type\": \"histogram2d\"}], \"histogram2dcontour\": [{\"colorbar\": {\"outlinewidth\": 0, \"ticks\": \"\"}, \"colorscale\": [[0.0, \"#0d0887\"], [0.1111111111111111, \"#46039f\"], [0.2222222222222222, \"#7201a8\"], [0.3333333333333333, \"#9c179e\"], [0.4444444444444444, \"#bd3786\"], [0.5555555555555556, \"#d8576b\"], [0.6666666666666666, \"#ed7953\"], [0.7777777777777778, \"#fb9f3a\"], [0.8888888888888888, \"#fdca26\"], [1.0, \"#f0f921\"]], \"type\": \"histogram2dcontour\"}], \"mesh3d\": [{\"colorbar\": {\"outlinewidth\": 0, \"ticks\": \"\"}, \"type\": \"mesh3d\"}], \"parcoords\": [{\"line\": {\"colorbar\": {\"outlinewidth\": 0, \"ticks\": \"\"}}, \"type\": \"parcoords\"}], \"pie\": [{\"automargin\": true, \"type\": \"pie\"}], \"scatter\": [{\"marker\": {\"colorbar\": {\"outlinewidth\": 0, \"ticks\": \"\"}}, \"type\": \"scatter\"}], \"scatter3d\": [{\"line\": {\"colorbar\": {\"outlinewidth\": 0, \"ticks\": \"\"}}, \"marker\": {\"colorbar\": {\"outlinewidth\": 0, \"ticks\": \"\"}}, \"type\": \"scatter3d\"}], \"scattercarpet\": [{\"marker\": {\"colorbar\": {\"outlinewidth\": 0, \"ticks\": \"\"}}, \"type\": \"scattercarpet\"}], \"scattergeo\": [{\"marker\": {\"colorbar\": {\"outlinewidth\": 0, \"ticks\": \"\"}}, \"type\": \"scattergeo\"}], \"scattergl\": [{\"marker\": {\"colorbar\": {\"outlinewidth\": 0, \"ticks\": \"\"}}, \"type\": \"scattergl\"}], \"scattermapbox\": [{\"marker\": {\"colorbar\": {\"outlinewidth\": 0, \"ticks\": \"\"}}, \"type\": \"scattermapbox\"}], \"scatterpolar\": [{\"marker\": {\"colorbar\": {\"outlinewidth\": 0, \"ticks\": \"\"}}, \"type\": \"scatterpolar\"}], \"scatterpolargl\": [{\"marker\": {\"colorbar\": {\"outlinewidth\": 0, \"ticks\": \"\"}}, \"type\": \"scatterpolargl\"}], \"scatterternary\": [{\"marker\": {\"colorbar\": {\"outlinewidth\": 0, \"ticks\": \"\"}}, \"type\": \"scatterternary\"}], \"surface\": [{\"colorbar\": {\"outlinewidth\": 0, \"ticks\": \"\"}, \"colorscale\": [[0.0, \"#0d0887\"], [0.1111111111111111, \"#46039f\"], [0.2222222222222222, \"#7201a8\"], [0.3333333333333333, \"#9c179e\"], [0.4444444444444444, \"#bd3786\"], [0.5555555555555556, \"#d8576b\"], [0.6666666666666666, \"#ed7953\"], [0.7777777777777778, \"#fb9f3a\"], [0.8888888888888888, \"#fdca26\"], [1.0, \"#f0f921\"]], \"type\": \"surface\"}], \"table\": [{\"cells\": {\"fill\": {\"color\": \"#EBF0F8\"}, \"line\": {\"color\": \"white\"}}, \"header\": {\"fill\": {\"color\": \"#C8D4E3\"}, \"line\": {\"color\": \"white\"}}, \"type\": \"table\"}]}, \"layout\": {\"annotationdefaults\": {\"arrowcolor\": \"#2a3f5f\", \"arrowhead\": 0, \"arrowwidth\": 1}, \"coloraxis\": {\"colorbar\": {\"outlinewidth\": 0, \"ticks\": \"\"}}, \"colorscale\": {\"diverging\": [[0, \"#8e0152\"], [0.1, \"#c51b7d\"], [0.2, \"#de77ae\"], [0.3, \"#f1b6da\"], [0.4, \"#fde0ef\"], [0.5, \"#f7f7f7\"], [0.6, \"#e6f5d0\"], [0.7, \"#b8e186\"], [0.8, \"#7fbc41\"], [0.9, \"#4d9221\"], [1, \"#276419\"]], \"sequential\": [[0.0, \"#0d0887\"], [0.1111111111111111, \"#46039f\"], [0.2222222222222222, \"#7201a8\"], [0.3333333333333333, \"#9c179e\"], [0.4444444444444444, \"#bd3786\"], [0.5555555555555556, \"#d8576b\"], [0.6666666666666666, \"#ed7953\"], [0.7777777777777778, \"#fb9f3a\"], [0.8888888888888888, \"#fdca26\"], [1.0, \"#f0f921\"]], \"sequentialminus\": [[0.0, \"#0d0887\"], [0.1111111111111111, \"#46039f\"], [0.2222222222222222, \"#7201a8\"], [0.3333333333333333, \"#9c179e\"], [0.4444444444444444, \"#bd3786\"], [0.5555555555555556, \"#d8576b\"], [0.6666666666666666, \"#ed7953\"], [0.7777777777777778, \"#fb9f3a\"], [0.8888888888888888, \"#fdca26\"], [1.0, \"#f0f921\"]]}, \"colorway\": [\"#636efa\", \"#EF553B\", \"#00cc96\", \"#ab63fa\", \"#FFA15A\", \"#19d3f3\", \"#FF6692\", \"#B6E880\", \"#FF97FF\", \"#FECB52\"], \"font\": {\"color\": \"#2a3f5f\"}, \"geo\": {\"bgcolor\": \"white\", \"lakecolor\": \"white\", \"landcolor\": \"#E5ECF6\", \"showlakes\": true, \"showland\": true, \"subunitcolor\": \"white\"}, \"hoverlabel\": {\"align\": \"left\"}, \"hovermode\": \"closest\", \"mapbox\": {\"style\": \"light\"}, \"paper_bgcolor\": \"white\", \"plot_bgcolor\": \"#E5ECF6\", \"polar\": {\"angularaxis\": {\"gridcolor\": \"white\", \"linecolor\": \"white\", \"ticks\": \"\"}, \"bgcolor\": \"#E5ECF6\", \"radialaxis\": {\"gridcolor\": \"white\", \"linecolor\": \"white\", \"ticks\": \"\"}}, \"scene\": {\"xaxis\": {\"backgroundcolor\": \"#E5ECF6\", \"gridcolor\": \"white\", \"gridwidth\": 2, \"linecolor\": \"white\", \"showbackground\": true, \"ticks\": \"\", \"zerolinecolor\": \"white\"}, \"yaxis\": {\"backgroundcolor\": \"#E5ECF6\", \"gridcolor\": \"white\", \"gridwidth\": 2, \"linecolor\": \"white\", \"showbackground\": true, \"ticks\": \"\", \"zerolinecolor\": \"white\"}, \"zaxis\": {\"backgroundcolor\": \"#E5ECF6\", \"gridcolor\": \"white\", \"gridwidth\": 2, \"linecolor\": \"white\", \"showbackground\": true, \"ticks\": \"\", \"zerolinecolor\": \"white\"}}, \"shapedefaults\": {\"line\": {\"color\": \"#2a3f5f\"}}, \"ternary\": {\"aaxis\": {\"gridcolor\": \"white\", \"linecolor\": \"white\", \"ticks\": \"\"}, \"baxis\": {\"gridcolor\": \"white\", \"linecolor\": \"white\", \"ticks\": \"\"}, \"bgcolor\": \"#E5ECF6\", \"caxis\": {\"gridcolor\": \"white\", \"linecolor\": \"white\", \"ticks\": \"\"}}, \"title\": {\"x\": 0.05}, \"xaxis\": {\"automargin\": true, \"gridcolor\": \"white\", \"linecolor\": \"white\", \"ticks\": \"\", \"title\": {\"standoff\": 15}, \"zerolinecolor\": \"white\", \"zerolinewidth\": 2}, \"yaxis\": {\"automargin\": true, \"gridcolor\": \"white\", \"linecolor\": \"white\", \"ticks\": \"\", \"title\": {\"standoff\": 15}, \"zerolinecolor\": \"white\", \"zerolinewidth\": 2}}}, \"title\": {\"font\": {\"color\": \"#4D5663\"}, \"text\": \"NYC Taxi Demand\"}, \"xaxis\": {\"gridcolor\": \"#E1E5ED\", \"showgrid\": true, \"tickfont\": {\"color\": \"#4D5663\"}, \"title\": {\"font\": {\"color\": \"#4D5663\"}, \"text\": \"Datetimes\"}, \"zerolinecolor\": \"#E1E5ED\"}, \"yaxis\": {\"gridcolor\": \"#E1E5ED\", \"showgrid\": true, \"tickfont\": {\"color\": \"#4D5663\"}, \"title\": {\"font\": {\"color\": \"#4D5663\"}, \"text\": \"Demand\"}, \"zerolinecolor\": \"#E1E5ED\"}},\n",
       "                        {\"showLink\": true, \"linkText\": \"Export to plot.ly\", \"plotlyServerURL\": \"https://plot.ly\", \"responsive\": true}\n",
       "                    ).then(function(){\n",
       "                            \n",
       "var gd = document.getElementById('0631c6fa-aefa-4687-bd64-bf86675df788');\n",
       "var x = new MutationObserver(function (mutations, observer) {{\n",
       "        var display = window.getComputedStyle(gd).display;\n",
       "        if (!display || display === 'none') {{\n",
       "            console.log([gd, 'removed!']);\n",
       "            Plotly.purge(gd);\n",
       "            observer.disconnect();\n",
       "        }}\n",
       "}});\n",
       "\n",
       "// Listen for the removal of the full notebook cells\n",
       "var notebookContainer = gd.closest('#notebook-container');\n",
       "if (notebookContainer) {{\n",
       "    x.observe(notebookContainer, {childList: true});\n",
       "}}\n",
       "\n",
       "// Listen for the clearing of the current output cell\n",
       "var outputEl = gd.closest('.output');\n",
       "if (outputEl) {{\n",
       "    x.observe(outputEl, {childList: true});\n",
       "}}\n",
       "\n",
       "                        })\n",
       "                };\n",
       "                });\n",
       "            </script>\n",
       "        </div>"
      ]
     },
     "metadata": {},
     "output_type": "display_data"
    }
   ],
   "source": [
    "df.iplot(kind='scatter', xTitle='Datetimes', yTitle='Demand', title='NYC Taxi Demand')"
   ]
  },
  {
   "cell_type": "markdown",
   "metadata": {},
   "source": [
    "## number of trips per date"
   ]
  },
  {
   "cell_type": "code",
   "execution_count": 21,
   "metadata": {},
   "outputs": [
    {
     "data": {
      "text/html": [
       "<div>\n",
       "<style scoped>\n",
       "    .dataframe tbody tr th:only-of-type {\n",
       "        vertical-align: middle;\n",
       "    }\n",
       "\n",
       "    .dataframe tbody tr th {\n",
       "        vertical-align: top;\n",
       "    }\n",
       "\n",
       "    .dataframe thead th {\n",
       "        text-align: right;\n",
       "    }\n",
       "</style>\n",
       "<table border=\"1\" class=\"dataframe\">\n",
       "  <thead>\n",
       "    <tr style=\"text-align: right;\">\n",
       "      <th></th>\n",
       "      <th>cnt</th>\n",
       "      <th>date</th>\n",
       "    </tr>\n",
       "    <tr>\n",
       "      <th>pickup_hour</th>\n",
       "      <th></th>\n",
       "      <th></th>\n",
       "    </tr>\n",
       "  </thead>\n",
       "  <tbody>\n",
       "    <tr>\n",
       "      <th>2001-01-01 00:00:00</th>\n",
       "      <td>10</td>\n",
       "      <td>2001-01-01</td>\n",
       "    </tr>\n",
       "    <tr>\n",
       "      <th>2001-01-01 22:00:00</th>\n",
       "      <td>2</td>\n",
       "      <td>2001-01-01</td>\n",
       "    </tr>\n",
       "    <tr>\n",
       "      <th>2001-01-05 11:00:00</th>\n",
       "      <td>1</td>\n",
       "      <td>2001-01-05</td>\n",
       "    </tr>\n",
       "    <tr>\n",
       "      <th>2001-01-06 06:00:00</th>\n",
       "      <td>1</td>\n",
       "      <td>2001-01-06</td>\n",
       "    </tr>\n",
       "    <tr>\n",
       "      <th>2003-01-01 00:00:00</th>\n",
       "      <td>13</td>\n",
       "      <td>2003-01-01</td>\n",
       "    </tr>\n",
       "    <tr>\n",
       "      <th>...</th>\n",
       "      <td>...</td>\n",
       "      <td>...</td>\n",
       "    </tr>\n",
       "    <tr>\n",
       "      <th>2019-01-29 08:00:00</th>\n",
       "      <td>2</td>\n",
       "      <td>2019-01-29</td>\n",
       "    </tr>\n",
       "    <tr>\n",
       "      <th>2019-01-29 09:00:00</th>\n",
       "      <td>1</td>\n",
       "      <td>2019-01-29</td>\n",
       "    </tr>\n",
       "    <tr>\n",
       "      <th>2019-01-29 13:00:00</th>\n",
       "      <td>1</td>\n",
       "      <td>2019-01-29</td>\n",
       "    </tr>\n",
       "    <tr>\n",
       "      <th>2019-01-29 14:00:00</th>\n",
       "      <td>1</td>\n",
       "      <td>2019-01-29</td>\n",
       "    </tr>\n",
       "    <tr>\n",
       "      <th>2019-01-31 14:00:00</th>\n",
       "      <td>1</td>\n",
       "      <td>2019-01-31</td>\n",
       "    </tr>\n",
       "  </tbody>\n",
       "</table>\n",
       "<p>814 rows × 2 columns</p>\n",
       "</div>"
      ],
      "text/plain": [
       "                     cnt        date\n",
       "pickup_hour                         \n",
       "2001-01-01 00:00:00   10  2001-01-01\n",
       "2001-01-01 22:00:00    2  2001-01-01\n",
       "2001-01-05 11:00:00    1  2001-01-05\n",
       "2001-01-06 06:00:00    1  2001-01-06\n",
       "2003-01-01 00:00:00   13  2003-01-01\n",
       "...                  ...         ...\n",
       "2019-01-29 08:00:00    2  2019-01-29\n",
       "2019-01-29 09:00:00    1  2019-01-29\n",
       "2019-01-29 13:00:00    1  2019-01-29\n",
       "2019-01-29 14:00:00    1  2019-01-29\n",
       "2019-01-31 14:00:00    1  2019-01-31\n",
       "\n",
       "[814 rows x 2 columns]"
      ]
     },
     "execution_count": 21,
     "metadata": {},
     "output_type": "execute_result"
    }
   ],
   "source": [
    "df['date'] = df.index.date\n",
    "df"
   ]
  },
  {
   "cell_type": "code",
   "execution_count": 23,
   "metadata": {},
   "outputs": [
    {
     "data": {
      "application/vnd.plotly.v1+json": {
       "config": {
        "linkText": "Export to plot.ly",
        "plotlyServerURL": "https://plot.ly",
        "showLink": true
       },
       "data": [
        {
         "line": {
          "color": "rgba(255, 153, 51, 1.0)",
          "dash": "solid",
          "shape": "linear",
          "width": 1.3
         },
         "mode": "lines",
         "name": "cnt",
         "text": "",
         "type": "scatter",
         "x": [
          "2001-01-01",
          "2001-01-05",
          "2001-01-06",
          "2003-01-01",
          "2009-01-01",
          "2009-01-02",
          "2017-01-02",
          "2017-01-03",
          "2018-01-01",
          "2018-01-02",
          "2018-01-03",
          "2018-01-04",
          "2018-01-05",
          "2018-01-06",
          "2018-01-07",
          "2018-01-08",
          "2018-01-09",
          "2018-01-10",
          "2018-01-11",
          "2018-01-12",
          "2018-01-13",
          "2018-01-14",
          "2018-01-15",
          "2018-01-16",
          "2018-01-17",
          "2018-01-18",
          "2018-01-19",
          "2018-01-20",
          "2018-01-21",
          "2018-01-22",
          "2018-01-23",
          "2018-01-24",
          "2018-01-25",
          "2018-01-26",
          "2018-01-27",
          "2018-01-28",
          "2018-01-29",
          "2018-01-30",
          "2018-01-31",
          "2019-01-01",
          "2019-01-02",
          "2019-01-04",
          "2019-01-07",
          "2019-01-08",
          "2019-01-10",
          "2019-01-12",
          "2019-01-13",
          "2019-01-16",
          "2019-01-18",
          "2019-01-19",
          "2019-01-20",
          "2019-01-22",
          "2019-01-23",
          "2019-01-26",
          "2019-01-29",
          "2019-01-31"
         ],
         "y": [
          12,
          1,
          1,
          17,
          583,
          2,
          1,
          1,
          237119,
          238152,
          266992,
          122222,
          265212,
          281260,
          237393,
          259792,
          284662,
          290362,
          304982,
          317639,
          321879,
          290964,
          246888,
          295735,
          305030,
          330731,
          325630,
          294537,
          252234,
          261666,
          287559,
          315590,
          331916,
          335386,
          310000,
          259837,
          266624,
          302841,
          319256,
          34,
          2,
          2,
          1,
          6,
          2,
          4,
          2,
          1,
          3,
          6,
          2,
          5,
          2,
          2,
          8,
          1
         ]
        }
       ],
       "layout": {
        "legend": {
         "bgcolor": "#F5F6F9",
         "font": {
          "color": "#4D5663"
         }
        },
        "paper_bgcolor": "#F5F6F9",
        "plot_bgcolor": "#F5F6F9",
        "template": {
         "data": {
          "bar": [
           {
            "error_x": {
             "color": "#2a3f5f"
            },
            "error_y": {
             "color": "#2a3f5f"
            },
            "marker": {
             "line": {
              "color": "#E5ECF6",
              "width": 0.5
             }
            },
            "type": "bar"
           }
          ],
          "barpolar": [
           {
            "marker": {
             "line": {
              "color": "#E5ECF6",
              "width": 0.5
             }
            },
            "type": "barpolar"
           }
          ],
          "carpet": [
           {
            "aaxis": {
             "endlinecolor": "#2a3f5f",
             "gridcolor": "white",
             "linecolor": "white",
             "minorgridcolor": "white",
             "startlinecolor": "#2a3f5f"
            },
            "baxis": {
             "endlinecolor": "#2a3f5f",
             "gridcolor": "white",
             "linecolor": "white",
             "minorgridcolor": "white",
             "startlinecolor": "#2a3f5f"
            },
            "type": "carpet"
           }
          ],
          "choropleth": [
           {
            "colorbar": {
             "outlinewidth": 0,
             "ticks": ""
            },
            "type": "choropleth"
           }
          ],
          "contour": [
           {
            "colorbar": {
             "outlinewidth": 0,
             "ticks": ""
            },
            "colorscale": [
             [
              0,
              "#0d0887"
             ],
             [
              0.1111111111111111,
              "#46039f"
             ],
             [
              0.2222222222222222,
              "#7201a8"
             ],
             [
              0.3333333333333333,
              "#9c179e"
             ],
             [
              0.4444444444444444,
              "#bd3786"
             ],
             [
              0.5555555555555556,
              "#d8576b"
             ],
             [
              0.6666666666666666,
              "#ed7953"
             ],
             [
              0.7777777777777778,
              "#fb9f3a"
             ],
             [
              0.8888888888888888,
              "#fdca26"
             ],
             [
              1,
              "#f0f921"
             ]
            ],
            "type": "contour"
           }
          ],
          "contourcarpet": [
           {
            "colorbar": {
             "outlinewidth": 0,
             "ticks": ""
            },
            "type": "contourcarpet"
           }
          ],
          "heatmap": [
           {
            "colorbar": {
             "outlinewidth": 0,
             "ticks": ""
            },
            "colorscale": [
             [
              0,
              "#0d0887"
             ],
             [
              0.1111111111111111,
              "#46039f"
             ],
             [
              0.2222222222222222,
              "#7201a8"
             ],
             [
              0.3333333333333333,
              "#9c179e"
             ],
             [
              0.4444444444444444,
              "#bd3786"
             ],
             [
              0.5555555555555556,
              "#d8576b"
             ],
             [
              0.6666666666666666,
              "#ed7953"
             ],
             [
              0.7777777777777778,
              "#fb9f3a"
             ],
             [
              0.8888888888888888,
              "#fdca26"
             ],
             [
              1,
              "#f0f921"
             ]
            ],
            "type": "heatmap"
           }
          ],
          "heatmapgl": [
           {
            "colorbar": {
             "outlinewidth": 0,
             "ticks": ""
            },
            "colorscale": [
             [
              0,
              "#0d0887"
             ],
             [
              0.1111111111111111,
              "#46039f"
             ],
             [
              0.2222222222222222,
              "#7201a8"
             ],
             [
              0.3333333333333333,
              "#9c179e"
             ],
             [
              0.4444444444444444,
              "#bd3786"
             ],
             [
              0.5555555555555556,
              "#d8576b"
             ],
             [
              0.6666666666666666,
              "#ed7953"
             ],
             [
              0.7777777777777778,
              "#fb9f3a"
             ],
             [
              0.8888888888888888,
              "#fdca26"
             ],
             [
              1,
              "#f0f921"
             ]
            ],
            "type": "heatmapgl"
           }
          ],
          "histogram": [
           {
            "marker": {
             "colorbar": {
              "outlinewidth": 0,
              "ticks": ""
             }
            },
            "type": "histogram"
           }
          ],
          "histogram2d": [
           {
            "colorbar": {
             "outlinewidth": 0,
             "ticks": ""
            },
            "colorscale": [
             [
              0,
              "#0d0887"
             ],
             [
              0.1111111111111111,
              "#46039f"
             ],
             [
              0.2222222222222222,
              "#7201a8"
             ],
             [
              0.3333333333333333,
              "#9c179e"
             ],
             [
              0.4444444444444444,
              "#bd3786"
             ],
             [
              0.5555555555555556,
              "#d8576b"
             ],
             [
              0.6666666666666666,
              "#ed7953"
             ],
             [
              0.7777777777777778,
              "#fb9f3a"
             ],
             [
              0.8888888888888888,
              "#fdca26"
             ],
             [
              1,
              "#f0f921"
             ]
            ],
            "type": "histogram2d"
           }
          ],
          "histogram2dcontour": [
           {
            "colorbar": {
             "outlinewidth": 0,
             "ticks": ""
            },
            "colorscale": [
             [
              0,
              "#0d0887"
             ],
             [
              0.1111111111111111,
              "#46039f"
             ],
             [
              0.2222222222222222,
              "#7201a8"
             ],
             [
              0.3333333333333333,
              "#9c179e"
             ],
             [
              0.4444444444444444,
              "#bd3786"
             ],
             [
              0.5555555555555556,
              "#d8576b"
             ],
             [
              0.6666666666666666,
              "#ed7953"
             ],
             [
              0.7777777777777778,
              "#fb9f3a"
             ],
             [
              0.8888888888888888,
              "#fdca26"
             ],
             [
              1,
              "#f0f921"
             ]
            ],
            "type": "histogram2dcontour"
           }
          ],
          "mesh3d": [
           {
            "colorbar": {
             "outlinewidth": 0,
             "ticks": ""
            },
            "type": "mesh3d"
           }
          ],
          "parcoords": [
           {
            "line": {
             "colorbar": {
              "outlinewidth": 0,
              "ticks": ""
             }
            },
            "type": "parcoords"
           }
          ],
          "pie": [
           {
            "automargin": true,
            "type": "pie"
           }
          ],
          "scatter": [
           {
            "marker": {
             "colorbar": {
              "outlinewidth": 0,
              "ticks": ""
             }
            },
            "type": "scatter"
           }
          ],
          "scatter3d": [
           {
            "line": {
             "colorbar": {
              "outlinewidth": 0,
              "ticks": ""
             }
            },
            "marker": {
             "colorbar": {
              "outlinewidth": 0,
              "ticks": ""
             }
            },
            "type": "scatter3d"
           }
          ],
          "scattercarpet": [
           {
            "marker": {
             "colorbar": {
              "outlinewidth": 0,
              "ticks": ""
             }
            },
            "type": "scattercarpet"
           }
          ],
          "scattergeo": [
           {
            "marker": {
             "colorbar": {
              "outlinewidth": 0,
              "ticks": ""
             }
            },
            "type": "scattergeo"
           }
          ],
          "scattergl": [
           {
            "marker": {
             "colorbar": {
              "outlinewidth": 0,
              "ticks": ""
             }
            },
            "type": "scattergl"
           }
          ],
          "scattermapbox": [
           {
            "marker": {
             "colorbar": {
              "outlinewidth": 0,
              "ticks": ""
             }
            },
            "type": "scattermapbox"
           }
          ],
          "scatterpolar": [
           {
            "marker": {
             "colorbar": {
              "outlinewidth": 0,
              "ticks": ""
             }
            },
            "type": "scatterpolar"
           }
          ],
          "scatterpolargl": [
           {
            "marker": {
             "colorbar": {
              "outlinewidth": 0,
              "ticks": ""
             }
            },
            "type": "scatterpolargl"
           }
          ],
          "scatterternary": [
           {
            "marker": {
             "colorbar": {
              "outlinewidth": 0,
              "ticks": ""
             }
            },
            "type": "scatterternary"
           }
          ],
          "surface": [
           {
            "colorbar": {
             "outlinewidth": 0,
             "ticks": ""
            },
            "colorscale": [
             [
              0,
              "#0d0887"
             ],
             [
              0.1111111111111111,
              "#46039f"
             ],
             [
              0.2222222222222222,
              "#7201a8"
             ],
             [
              0.3333333333333333,
              "#9c179e"
             ],
             [
              0.4444444444444444,
              "#bd3786"
             ],
             [
              0.5555555555555556,
              "#d8576b"
             ],
             [
              0.6666666666666666,
              "#ed7953"
             ],
             [
              0.7777777777777778,
              "#fb9f3a"
             ],
             [
              0.8888888888888888,
              "#fdca26"
             ],
             [
              1,
              "#f0f921"
             ]
            ],
            "type": "surface"
           }
          ],
          "table": [
           {
            "cells": {
             "fill": {
              "color": "#EBF0F8"
             },
             "line": {
              "color": "white"
             }
            },
            "header": {
             "fill": {
              "color": "#C8D4E3"
             },
             "line": {
              "color": "white"
             }
            },
            "type": "table"
           }
          ]
         },
         "layout": {
          "annotationdefaults": {
           "arrowcolor": "#2a3f5f",
           "arrowhead": 0,
           "arrowwidth": 1
          },
          "coloraxis": {
           "colorbar": {
            "outlinewidth": 0,
            "ticks": ""
           }
          },
          "colorscale": {
           "diverging": [
            [
             0,
             "#8e0152"
            ],
            [
             0.1,
             "#c51b7d"
            ],
            [
             0.2,
             "#de77ae"
            ],
            [
             0.3,
             "#f1b6da"
            ],
            [
             0.4,
             "#fde0ef"
            ],
            [
             0.5,
             "#f7f7f7"
            ],
            [
             0.6,
             "#e6f5d0"
            ],
            [
             0.7,
             "#b8e186"
            ],
            [
             0.8,
             "#7fbc41"
            ],
            [
             0.9,
             "#4d9221"
            ],
            [
             1,
             "#276419"
            ]
           ],
           "sequential": [
            [
             0,
             "#0d0887"
            ],
            [
             0.1111111111111111,
             "#46039f"
            ],
            [
             0.2222222222222222,
             "#7201a8"
            ],
            [
             0.3333333333333333,
             "#9c179e"
            ],
            [
             0.4444444444444444,
             "#bd3786"
            ],
            [
             0.5555555555555556,
             "#d8576b"
            ],
            [
             0.6666666666666666,
             "#ed7953"
            ],
            [
             0.7777777777777778,
             "#fb9f3a"
            ],
            [
             0.8888888888888888,
             "#fdca26"
            ],
            [
             1,
             "#f0f921"
            ]
           ],
           "sequentialminus": [
            [
             0,
             "#0d0887"
            ],
            [
             0.1111111111111111,
             "#46039f"
            ],
            [
             0.2222222222222222,
             "#7201a8"
            ],
            [
             0.3333333333333333,
             "#9c179e"
            ],
            [
             0.4444444444444444,
             "#bd3786"
            ],
            [
             0.5555555555555556,
             "#d8576b"
            ],
            [
             0.6666666666666666,
             "#ed7953"
            ],
            [
             0.7777777777777778,
             "#fb9f3a"
            ],
            [
             0.8888888888888888,
             "#fdca26"
            ],
            [
             1,
             "#f0f921"
            ]
           ]
          },
          "colorway": [
           "#636efa",
           "#EF553B",
           "#00cc96",
           "#ab63fa",
           "#FFA15A",
           "#19d3f3",
           "#FF6692",
           "#B6E880",
           "#FF97FF",
           "#FECB52"
          ],
          "font": {
           "color": "#2a3f5f"
          },
          "geo": {
           "bgcolor": "white",
           "lakecolor": "white",
           "landcolor": "#E5ECF6",
           "showlakes": true,
           "showland": true,
           "subunitcolor": "white"
          },
          "hoverlabel": {
           "align": "left"
          },
          "hovermode": "closest",
          "mapbox": {
           "style": "light"
          },
          "paper_bgcolor": "white",
          "plot_bgcolor": "#E5ECF6",
          "polar": {
           "angularaxis": {
            "gridcolor": "white",
            "linecolor": "white",
            "ticks": ""
           },
           "bgcolor": "#E5ECF6",
           "radialaxis": {
            "gridcolor": "white",
            "linecolor": "white",
            "ticks": ""
           }
          },
          "scene": {
           "xaxis": {
            "backgroundcolor": "#E5ECF6",
            "gridcolor": "white",
            "gridwidth": 2,
            "linecolor": "white",
            "showbackground": true,
            "ticks": "",
            "zerolinecolor": "white"
           },
           "yaxis": {
            "backgroundcolor": "#E5ECF6",
            "gridcolor": "white",
            "gridwidth": 2,
            "linecolor": "white",
            "showbackground": true,
            "ticks": "",
            "zerolinecolor": "white"
           },
           "zaxis": {
            "backgroundcolor": "#E5ECF6",
            "gridcolor": "white",
            "gridwidth": 2,
            "linecolor": "white",
            "showbackground": true,
            "ticks": "",
            "zerolinecolor": "white"
           }
          },
          "shapedefaults": {
           "line": {
            "color": "#2a3f5f"
           }
          },
          "ternary": {
           "aaxis": {
            "gridcolor": "white",
            "linecolor": "white",
            "ticks": ""
           },
           "baxis": {
            "gridcolor": "white",
            "linecolor": "white",
            "ticks": ""
           },
           "bgcolor": "#E5ECF6",
           "caxis": {
            "gridcolor": "white",
            "linecolor": "white",
            "ticks": ""
           }
          },
          "title": {
           "x": 0.05
          },
          "xaxis": {
           "automargin": true,
           "gridcolor": "white",
           "linecolor": "white",
           "ticks": "",
           "title": {
            "standoff": 15
           },
           "zerolinecolor": "white",
           "zerolinewidth": 2
          },
          "yaxis": {
           "automargin": true,
           "gridcolor": "white",
           "linecolor": "white",
           "ticks": "",
           "title": {
            "standoff": 15
           },
           "zerolinecolor": "white",
           "zerolinewidth": 2
          }
         }
        },
        "title": {
         "font": {
          "color": "#4D5663"
         }
        },
        "xaxis": {
         "gridcolor": "#E1E5ED",
         "showgrid": true,
         "tickfont": {
          "color": "#4D5663"
         },
         "title": {
          "font": {
           "color": "#4D5663"
          },
          "text": ""
         },
         "zerolinecolor": "#E1E5ED"
        },
        "yaxis": {
         "gridcolor": "#E1E5ED",
         "showgrid": true,
         "tickfont": {
          "color": "#4D5663"
         },
         "title": {
          "font": {
           "color": "#4D5663"
          },
          "text": ""
         },
         "zerolinecolor": "#E1E5ED"
        }
       }
      },
      "text/html": [
       "<div>\n",
       "        \n",
       "        \n",
       "            <div id=\"f09ad59e-b01b-4a34-8cb3-6f5215e1798d\" class=\"plotly-graph-div\" style=\"height:525px; width:100%;\"></div>\n",
       "            <script type=\"text/javascript\">\n",
       "                require([\"plotly\"], function(Plotly) {\n",
       "                    window.PLOTLYENV=window.PLOTLYENV || {};\n",
       "                    window.PLOTLYENV.BASE_URL='https://plot.ly';\n",
       "                    \n",
       "                if (document.getElementById(\"f09ad59e-b01b-4a34-8cb3-6f5215e1798d\")) {\n",
       "                    Plotly.newPlot(\n",
       "                        'f09ad59e-b01b-4a34-8cb3-6f5215e1798d',\n",
       "                        [{\"line\": {\"color\": \"rgba(255, 153, 51, 1.0)\", \"dash\": \"solid\", \"shape\": \"linear\", \"width\": 1.3}, \"mode\": \"lines\", \"name\": \"cnt\", \"text\": \"\", \"type\": \"scatter\", \"x\": [\"2001-01-01\", \"2001-01-05\", \"2001-01-06\", \"2003-01-01\", \"2009-01-01\", \"2009-01-02\", \"2017-01-02\", \"2017-01-03\", \"2018-01-01\", \"2018-01-02\", \"2018-01-03\", \"2018-01-04\", \"2018-01-05\", \"2018-01-06\", \"2018-01-07\", \"2018-01-08\", \"2018-01-09\", \"2018-01-10\", \"2018-01-11\", \"2018-01-12\", \"2018-01-13\", \"2018-01-14\", \"2018-01-15\", \"2018-01-16\", \"2018-01-17\", \"2018-01-18\", \"2018-01-19\", \"2018-01-20\", \"2018-01-21\", \"2018-01-22\", \"2018-01-23\", \"2018-01-24\", \"2018-01-25\", \"2018-01-26\", \"2018-01-27\", \"2018-01-28\", \"2018-01-29\", \"2018-01-30\", \"2018-01-31\", \"2019-01-01\", \"2019-01-02\", \"2019-01-04\", \"2019-01-07\", \"2019-01-08\", \"2019-01-10\", \"2019-01-12\", \"2019-01-13\", \"2019-01-16\", \"2019-01-18\", \"2019-01-19\", \"2019-01-20\", \"2019-01-22\", \"2019-01-23\", \"2019-01-26\", \"2019-01-29\", \"2019-01-31\"], \"y\": [12, 1, 1, 17, 583, 2, 1, 1, 237119, 238152, 266992, 122222, 265212, 281260, 237393, 259792, 284662, 290362, 304982, 317639, 321879, 290964, 246888, 295735, 305030, 330731, 325630, 294537, 252234, 261666, 287559, 315590, 331916, 335386, 310000, 259837, 266624, 302841, 319256, 34, 2, 2, 1, 6, 2, 4, 2, 1, 3, 6, 2, 5, 2, 2, 8, 1]}],\n",
       "                        {\"legend\": {\"bgcolor\": \"#F5F6F9\", \"font\": {\"color\": \"#4D5663\"}}, \"paper_bgcolor\": \"#F5F6F9\", \"plot_bgcolor\": \"#F5F6F9\", \"template\": {\"data\": {\"bar\": [{\"error_x\": {\"color\": \"#2a3f5f\"}, \"error_y\": {\"color\": \"#2a3f5f\"}, \"marker\": {\"line\": {\"color\": \"#E5ECF6\", \"width\": 0.5}}, \"type\": \"bar\"}], \"barpolar\": [{\"marker\": {\"line\": {\"color\": \"#E5ECF6\", \"width\": 0.5}}, \"type\": \"barpolar\"}], \"carpet\": [{\"aaxis\": {\"endlinecolor\": \"#2a3f5f\", \"gridcolor\": \"white\", \"linecolor\": \"white\", \"minorgridcolor\": \"white\", \"startlinecolor\": \"#2a3f5f\"}, \"baxis\": {\"endlinecolor\": \"#2a3f5f\", \"gridcolor\": \"white\", \"linecolor\": \"white\", \"minorgridcolor\": \"white\", \"startlinecolor\": \"#2a3f5f\"}, \"type\": \"carpet\"}], \"choropleth\": [{\"colorbar\": {\"outlinewidth\": 0, \"ticks\": \"\"}, \"type\": \"choropleth\"}], \"contour\": [{\"colorbar\": {\"outlinewidth\": 0, \"ticks\": \"\"}, \"colorscale\": [[0.0, \"#0d0887\"], [0.1111111111111111, \"#46039f\"], [0.2222222222222222, \"#7201a8\"], [0.3333333333333333, \"#9c179e\"], [0.4444444444444444, \"#bd3786\"], [0.5555555555555556, \"#d8576b\"], [0.6666666666666666, \"#ed7953\"], [0.7777777777777778, \"#fb9f3a\"], [0.8888888888888888, \"#fdca26\"], [1.0, \"#f0f921\"]], \"type\": \"contour\"}], \"contourcarpet\": [{\"colorbar\": {\"outlinewidth\": 0, \"ticks\": \"\"}, \"type\": \"contourcarpet\"}], \"heatmap\": [{\"colorbar\": {\"outlinewidth\": 0, \"ticks\": \"\"}, \"colorscale\": [[0.0, \"#0d0887\"], [0.1111111111111111, \"#46039f\"], [0.2222222222222222, \"#7201a8\"], [0.3333333333333333, \"#9c179e\"], [0.4444444444444444, \"#bd3786\"], [0.5555555555555556, \"#d8576b\"], [0.6666666666666666, \"#ed7953\"], [0.7777777777777778, \"#fb9f3a\"], [0.8888888888888888, \"#fdca26\"], [1.0, \"#f0f921\"]], \"type\": \"heatmap\"}], \"heatmapgl\": [{\"colorbar\": {\"outlinewidth\": 0, \"ticks\": \"\"}, \"colorscale\": [[0.0, \"#0d0887\"], [0.1111111111111111, \"#46039f\"], [0.2222222222222222, \"#7201a8\"], [0.3333333333333333, \"#9c179e\"], [0.4444444444444444, \"#bd3786\"], [0.5555555555555556, \"#d8576b\"], [0.6666666666666666, \"#ed7953\"], [0.7777777777777778, \"#fb9f3a\"], [0.8888888888888888, \"#fdca26\"], [1.0, \"#f0f921\"]], \"type\": \"heatmapgl\"}], \"histogram\": [{\"marker\": {\"colorbar\": {\"outlinewidth\": 0, \"ticks\": \"\"}}, \"type\": \"histogram\"}], \"histogram2d\": [{\"colorbar\": {\"outlinewidth\": 0, \"ticks\": \"\"}, \"colorscale\": [[0.0, \"#0d0887\"], [0.1111111111111111, \"#46039f\"], [0.2222222222222222, \"#7201a8\"], [0.3333333333333333, \"#9c179e\"], [0.4444444444444444, \"#bd3786\"], [0.5555555555555556, \"#d8576b\"], [0.6666666666666666, \"#ed7953\"], [0.7777777777777778, \"#fb9f3a\"], [0.8888888888888888, \"#fdca26\"], [1.0, \"#f0f921\"]], \"type\": \"histogram2d\"}], \"histogram2dcontour\": [{\"colorbar\": {\"outlinewidth\": 0, \"ticks\": \"\"}, \"colorscale\": [[0.0, \"#0d0887\"], [0.1111111111111111, \"#46039f\"], [0.2222222222222222, \"#7201a8\"], [0.3333333333333333, \"#9c179e\"], [0.4444444444444444, \"#bd3786\"], [0.5555555555555556, \"#d8576b\"], [0.6666666666666666, \"#ed7953\"], [0.7777777777777778, \"#fb9f3a\"], [0.8888888888888888, \"#fdca26\"], [1.0, \"#f0f921\"]], \"type\": \"histogram2dcontour\"}], \"mesh3d\": [{\"colorbar\": {\"outlinewidth\": 0, \"ticks\": \"\"}, \"type\": \"mesh3d\"}], \"parcoords\": [{\"line\": {\"colorbar\": {\"outlinewidth\": 0, \"ticks\": \"\"}}, \"type\": \"parcoords\"}], \"pie\": [{\"automargin\": true, \"type\": \"pie\"}], \"scatter\": [{\"marker\": {\"colorbar\": {\"outlinewidth\": 0, \"ticks\": \"\"}}, \"type\": \"scatter\"}], \"scatter3d\": [{\"line\": {\"colorbar\": {\"outlinewidth\": 0, \"ticks\": \"\"}}, \"marker\": {\"colorbar\": {\"outlinewidth\": 0, \"ticks\": \"\"}}, \"type\": \"scatter3d\"}], \"scattercarpet\": [{\"marker\": {\"colorbar\": {\"outlinewidth\": 0, \"ticks\": \"\"}}, \"type\": \"scattercarpet\"}], \"scattergeo\": [{\"marker\": {\"colorbar\": {\"outlinewidth\": 0, \"ticks\": \"\"}}, \"type\": \"scattergeo\"}], \"scattergl\": [{\"marker\": {\"colorbar\": {\"outlinewidth\": 0, \"ticks\": \"\"}}, \"type\": \"scattergl\"}], \"scattermapbox\": [{\"marker\": {\"colorbar\": {\"outlinewidth\": 0, \"ticks\": \"\"}}, \"type\": \"scattermapbox\"}], \"scatterpolar\": [{\"marker\": {\"colorbar\": {\"outlinewidth\": 0, \"ticks\": \"\"}}, \"type\": \"scatterpolar\"}], \"scatterpolargl\": [{\"marker\": {\"colorbar\": {\"outlinewidth\": 0, \"ticks\": \"\"}}, \"type\": \"scatterpolargl\"}], \"scatterternary\": [{\"marker\": {\"colorbar\": {\"outlinewidth\": 0, \"ticks\": \"\"}}, \"type\": \"scatterternary\"}], \"surface\": [{\"colorbar\": {\"outlinewidth\": 0, \"ticks\": \"\"}, \"colorscale\": [[0.0, \"#0d0887\"], [0.1111111111111111, \"#46039f\"], [0.2222222222222222, \"#7201a8\"], [0.3333333333333333, \"#9c179e\"], [0.4444444444444444, \"#bd3786\"], [0.5555555555555556, \"#d8576b\"], [0.6666666666666666, \"#ed7953\"], [0.7777777777777778, \"#fb9f3a\"], [0.8888888888888888, \"#fdca26\"], [1.0, \"#f0f921\"]], \"type\": \"surface\"}], \"table\": [{\"cells\": {\"fill\": {\"color\": \"#EBF0F8\"}, \"line\": {\"color\": \"white\"}}, \"header\": {\"fill\": {\"color\": \"#C8D4E3\"}, \"line\": {\"color\": \"white\"}}, \"type\": \"table\"}]}, \"layout\": {\"annotationdefaults\": {\"arrowcolor\": \"#2a3f5f\", \"arrowhead\": 0, \"arrowwidth\": 1}, \"coloraxis\": {\"colorbar\": {\"outlinewidth\": 0, \"ticks\": \"\"}}, \"colorscale\": {\"diverging\": [[0, \"#8e0152\"], [0.1, \"#c51b7d\"], [0.2, \"#de77ae\"], [0.3, \"#f1b6da\"], [0.4, \"#fde0ef\"], [0.5, \"#f7f7f7\"], [0.6, \"#e6f5d0\"], [0.7, \"#b8e186\"], [0.8, \"#7fbc41\"], [0.9, \"#4d9221\"], [1, \"#276419\"]], \"sequential\": [[0.0, \"#0d0887\"], [0.1111111111111111, \"#46039f\"], [0.2222222222222222, \"#7201a8\"], [0.3333333333333333, \"#9c179e\"], [0.4444444444444444, \"#bd3786\"], [0.5555555555555556, \"#d8576b\"], [0.6666666666666666, \"#ed7953\"], [0.7777777777777778, \"#fb9f3a\"], [0.8888888888888888, \"#fdca26\"], [1.0, \"#f0f921\"]], \"sequentialminus\": [[0.0, \"#0d0887\"], [0.1111111111111111, \"#46039f\"], [0.2222222222222222, \"#7201a8\"], [0.3333333333333333, \"#9c179e\"], [0.4444444444444444, \"#bd3786\"], [0.5555555555555556, \"#d8576b\"], [0.6666666666666666, \"#ed7953\"], [0.7777777777777778, \"#fb9f3a\"], [0.8888888888888888, \"#fdca26\"], [1.0, \"#f0f921\"]]}, \"colorway\": [\"#636efa\", \"#EF553B\", \"#00cc96\", \"#ab63fa\", \"#FFA15A\", \"#19d3f3\", \"#FF6692\", \"#B6E880\", \"#FF97FF\", \"#FECB52\"], \"font\": {\"color\": \"#2a3f5f\"}, \"geo\": {\"bgcolor\": \"white\", \"lakecolor\": \"white\", \"landcolor\": \"#E5ECF6\", \"showlakes\": true, \"showland\": true, \"subunitcolor\": \"white\"}, \"hoverlabel\": {\"align\": \"left\"}, \"hovermode\": \"closest\", \"mapbox\": {\"style\": \"light\"}, \"paper_bgcolor\": \"white\", \"plot_bgcolor\": \"#E5ECF6\", \"polar\": {\"angularaxis\": {\"gridcolor\": \"white\", \"linecolor\": \"white\", \"ticks\": \"\"}, \"bgcolor\": \"#E5ECF6\", \"radialaxis\": {\"gridcolor\": \"white\", \"linecolor\": \"white\", \"ticks\": \"\"}}, \"scene\": {\"xaxis\": {\"backgroundcolor\": \"#E5ECF6\", \"gridcolor\": \"white\", \"gridwidth\": 2, \"linecolor\": \"white\", \"showbackground\": true, \"ticks\": \"\", \"zerolinecolor\": \"white\"}, \"yaxis\": {\"backgroundcolor\": \"#E5ECF6\", \"gridcolor\": \"white\", \"gridwidth\": 2, \"linecolor\": \"white\", \"showbackground\": true, \"ticks\": \"\", \"zerolinecolor\": \"white\"}, \"zaxis\": {\"backgroundcolor\": \"#E5ECF6\", \"gridcolor\": \"white\", \"gridwidth\": 2, \"linecolor\": \"white\", \"showbackground\": true, \"ticks\": \"\", \"zerolinecolor\": \"white\"}}, \"shapedefaults\": {\"line\": {\"color\": \"#2a3f5f\"}}, \"ternary\": {\"aaxis\": {\"gridcolor\": \"white\", \"linecolor\": \"white\", \"ticks\": \"\"}, \"baxis\": {\"gridcolor\": \"white\", \"linecolor\": \"white\", \"ticks\": \"\"}, \"bgcolor\": \"#E5ECF6\", \"caxis\": {\"gridcolor\": \"white\", \"linecolor\": \"white\", \"ticks\": \"\"}}, \"title\": {\"x\": 0.05}, \"xaxis\": {\"automargin\": true, \"gridcolor\": \"white\", \"linecolor\": \"white\", \"ticks\": \"\", \"title\": {\"standoff\": 15}, \"zerolinecolor\": \"white\", \"zerolinewidth\": 2}, \"yaxis\": {\"automargin\": true, \"gridcolor\": \"white\", \"linecolor\": \"white\", \"ticks\": \"\", \"title\": {\"standoff\": 15}, \"zerolinecolor\": \"white\", \"zerolinewidth\": 2}}}, \"title\": {\"font\": {\"color\": \"#4D5663\"}}, \"xaxis\": {\"gridcolor\": \"#E1E5ED\", \"showgrid\": true, \"tickfont\": {\"color\": \"#4D5663\"}, \"title\": {\"font\": {\"color\": \"#4D5663\"}, \"text\": \"\"}, \"zerolinecolor\": \"#E1E5ED\"}, \"yaxis\": {\"gridcolor\": \"#E1E5ED\", \"showgrid\": true, \"tickfont\": {\"color\": \"#4D5663\"}, \"title\": {\"font\": {\"color\": \"#4D5663\"}, \"text\": \"\"}, \"zerolinecolor\": \"#E1E5ED\"}},\n",
       "                        {\"showLink\": true, \"linkText\": \"Export to plot.ly\", \"plotlyServerURL\": \"https://plot.ly\", \"responsive\": true}\n",
       "                    ).then(function(){\n",
       "                            \n",
       "var gd = document.getElementById('f09ad59e-b01b-4a34-8cb3-6f5215e1798d');\n",
       "var x = new MutationObserver(function (mutations, observer) {{\n",
       "        var display = window.getComputedStyle(gd).display;\n",
       "        if (!display || display === 'none') {{\n",
       "            console.log([gd, 'removed!']);\n",
       "            Plotly.purge(gd);\n",
       "            observer.disconnect();\n",
       "        }}\n",
       "}});\n",
       "\n",
       "// Listen for the removal of the full notebook cells\n",
       "var notebookContainer = gd.closest('#notebook-container');\n",
       "if (notebookContainer) {{\n",
       "    x.observe(notebookContainer, {childList: true});\n",
       "}}\n",
       "\n",
       "// Listen for the clearing of the current output cell\n",
       "var outputEl = gd.closest('.output');\n",
       "if (outputEl) {{\n",
       "    x.observe(outputEl, {childList: true});\n",
       "}}\n",
       "\n",
       "                        })\n",
       "                };\n",
       "                });\n",
       "            </script>\n",
       "        </div>"
      ]
     },
     "metadata": {},
     "output_type": "display_data"
    }
   ],
   "source": [
    "df.groupby(['date'])[['cnt']].sum().iplot()"
   ]
  },
  {
   "cell_type": "markdown",
   "metadata": {},
   "source": [
    "## Trip numbers per weekdays for every hours"
   ]
  },
  {
   "cell_type": "code",
   "execution_count": 24,
   "metadata": {},
   "outputs": [
    {
     "data": {
      "text/html": [
       "<div>\n",
       "<style scoped>\n",
       "    .dataframe tbody tr th:only-of-type {\n",
       "        vertical-align: middle;\n",
       "    }\n",
       "\n",
       "    .dataframe tbody tr th {\n",
       "        vertical-align: top;\n",
       "    }\n",
       "\n",
       "    .dataframe thead th {\n",
       "        text-align: right;\n",
       "    }\n",
       "</style>\n",
       "<table border=\"1\" class=\"dataframe\">\n",
       "  <thead>\n",
       "    <tr style=\"text-align: right;\">\n",
       "      <th></th>\n",
       "      <th>cnt</th>\n",
       "      <th>date</th>\n",
       "    </tr>\n",
       "    <tr>\n",
       "      <th>pickup_hour</th>\n",
       "      <th></th>\n",
       "      <th></th>\n",
       "    </tr>\n",
       "  </thead>\n",
       "  <tbody>\n",
       "    <tr>\n",
       "      <th>2001-01-01 00:00:00</th>\n",
       "      <td>10</td>\n",
       "      <td>2001-01-01</td>\n",
       "    </tr>\n",
       "    <tr>\n",
       "      <th>2001-01-01 22:00:00</th>\n",
       "      <td>2</td>\n",
       "      <td>2001-01-01</td>\n",
       "    </tr>\n",
       "    <tr>\n",
       "      <th>2001-01-05 11:00:00</th>\n",
       "      <td>1</td>\n",
       "      <td>2001-01-05</td>\n",
       "    </tr>\n",
       "    <tr>\n",
       "      <th>2001-01-06 06:00:00</th>\n",
       "      <td>1</td>\n",
       "      <td>2001-01-06</td>\n",
       "    </tr>\n",
       "    <tr>\n",
       "      <th>2003-01-01 00:00:00</th>\n",
       "      <td>13</td>\n",
       "      <td>2003-01-01</td>\n",
       "    </tr>\n",
       "  </tbody>\n",
       "</table>\n",
       "</div>"
      ],
      "text/plain": [
       "                     cnt        date\n",
       "pickup_hour                         \n",
       "2001-01-01 00:00:00   10  2001-01-01\n",
       "2001-01-01 22:00:00    2  2001-01-01\n",
       "2001-01-05 11:00:00    1  2001-01-05\n",
       "2001-01-06 06:00:00    1  2001-01-06\n",
       "2003-01-01 00:00:00   13  2003-01-01"
      ]
     },
     "execution_count": 24,
     "metadata": {},
     "output_type": "execute_result"
    }
   ],
   "source": [
    "df.head()"
   ]
  },
  {
   "cell_type": "code",
   "execution_count": 26,
   "metadata": {},
   "outputs": [
    {
     "data": {
      "text/html": [
       "<div>\n",
       "<style scoped>\n",
       "    .dataframe tbody tr th:only-of-type {\n",
       "        vertical-align: middle;\n",
       "    }\n",
       "\n",
       "    .dataframe tbody tr th {\n",
       "        vertical-align: top;\n",
       "    }\n",
       "\n",
       "    .dataframe thead th {\n",
       "        text-align: right;\n",
       "    }\n",
       "</style>\n",
       "<table border=\"1\" class=\"dataframe\">\n",
       "  <thead>\n",
       "    <tr style=\"text-align: right;\">\n",
       "      <th></th>\n",
       "      <th>cnt</th>\n",
       "      <th>date</th>\n",
       "      <th>weekday</th>\n",
       "      <th>hour</th>\n",
       "      <th>weeknum</th>\n",
       "    </tr>\n",
       "    <tr>\n",
       "      <th>pickup_hour</th>\n",
       "      <th></th>\n",
       "      <th></th>\n",
       "      <th></th>\n",
       "      <th></th>\n",
       "      <th></th>\n",
       "    </tr>\n",
       "  </thead>\n",
       "  <tbody>\n",
       "    <tr>\n",
       "      <th>2001-01-01 00:00:00</th>\n",
       "      <td>10</td>\n",
       "      <td>2001-01-01</td>\n",
       "      <td>0</td>\n",
       "      <td>0</td>\n",
       "      <td>1</td>\n",
       "    </tr>\n",
       "    <tr>\n",
       "      <th>2001-01-01 22:00:00</th>\n",
       "      <td>2</td>\n",
       "      <td>2001-01-01</td>\n",
       "      <td>0</td>\n",
       "      <td>22</td>\n",
       "      <td>1</td>\n",
       "    </tr>\n",
       "    <tr>\n",
       "      <th>2001-01-05 11:00:00</th>\n",
       "      <td>1</td>\n",
       "      <td>2001-01-05</td>\n",
       "      <td>4</td>\n",
       "      <td>11</td>\n",
       "      <td>1</td>\n",
       "    </tr>\n",
       "    <tr>\n",
       "      <th>2001-01-06 06:00:00</th>\n",
       "      <td>1</td>\n",
       "      <td>2001-01-06</td>\n",
       "      <td>5</td>\n",
       "      <td>6</td>\n",
       "      <td>1</td>\n",
       "    </tr>\n",
       "    <tr>\n",
       "      <th>2003-01-01 00:00:00</th>\n",
       "      <td>13</td>\n",
       "      <td>2003-01-01</td>\n",
       "      <td>2</td>\n",
       "      <td>0</td>\n",
       "      <td>1</td>\n",
       "    </tr>\n",
       "    <tr>\n",
       "      <th>...</th>\n",
       "      <td>...</td>\n",
       "      <td>...</td>\n",
       "      <td>...</td>\n",
       "      <td>...</td>\n",
       "      <td>...</td>\n",
       "    </tr>\n",
       "    <tr>\n",
       "      <th>2019-01-29 08:00:00</th>\n",
       "      <td>2</td>\n",
       "      <td>2019-01-29</td>\n",
       "      <td>1</td>\n",
       "      <td>8</td>\n",
       "      <td>5</td>\n",
       "    </tr>\n",
       "    <tr>\n",
       "      <th>2019-01-29 09:00:00</th>\n",
       "      <td>1</td>\n",
       "      <td>2019-01-29</td>\n",
       "      <td>1</td>\n",
       "      <td>9</td>\n",
       "      <td>5</td>\n",
       "    </tr>\n",
       "    <tr>\n",
       "      <th>2019-01-29 13:00:00</th>\n",
       "      <td>1</td>\n",
       "      <td>2019-01-29</td>\n",
       "      <td>1</td>\n",
       "      <td>13</td>\n",
       "      <td>5</td>\n",
       "    </tr>\n",
       "    <tr>\n",
       "      <th>2019-01-29 14:00:00</th>\n",
       "      <td>1</td>\n",
       "      <td>2019-01-29</td>\n",
       "      <td>1</td>\n",
       "      <td>14</td>\n",
       "      <td>5</td>\n",
       "    </tr>\n",
       "    <tr>\n",
       "      <th>2019-01-31 14:00:00</th>\n",
       "      <td>1</td>\n",
       "      <td>2019-01-31</td>\n",
       "      <td>3</td>\n",
       "      <td>14</td>\n",
       "      <td>5</td>\n",
       "    </tr>\n",
       "  </tbody>\n",
       "</table>\n",
       "<p>814 rows × 5 columns</p>\n",
       "</div>"
      ],
      "text/plain": [
       "                     cnt        date  weekday  hour  weeknum\n",
       "pickup_hour                                                 \n",
       "2001-01-01 00:00:00   10  2001-01-01        0     0        1\n",
       "2001-01-01 22:00:00    2  2001-01-01        0    22        1\n",
       "2001-01-05 11:00:00    1  2001-01-05        4    11        1\n",
       "2001-01-06 06:00:00    1  2001-01-06        5     6        1\n",
       "2003-01-01 00:00:00   13  2003-01-01        2     0        1\n",
       "...                  ...         ...      ...   ...      ...\n",
       "2019-01-29 08:00:00    2  2019-01-29        1     8        5\n",
       "2019-01-29 09:00:00    1  2019-01-29        1     9        5\n",
       "2019-01-29 13:00:00    1  2019-01-29        1    13        5\n",
       "2019-01-29 14:00:00    1  2019-01-29        1    14        5\n",
       "2019-01-31 14:00:00    1  2019-01-31        3    14        5\n",
       "\n",
       "[814 rows x 5 columns]"
      ]
     },
     "execution_count": 26,
     "metadata": {},
     "output_type": "execute_result"
    }
   ],
   "source": [
    "df['weekday'] = df.index.weekday\n",
    "df['hour'] = df.index.hour\n",
    "df['weeknum'] = df.index.week\n",
    "df"
   ]
  },
  {
   "cell_type": "code",
   "execution_count": 32,
   "metadata": {},
   "outputs": [
    {
     "data": {
      "text/plain": [
       "<matplotlib.axes._subplots.AxesSubplot at 0x7fd979d1e510>"
      ]
     },
     "execution_count": 32,
     "metadata": {},
     "output_type": "execute_result"
    },
    {
     "data": {
      "image/png": "[encoded data removed]",
      "text/plain": [
       "<Figure size 1080x360 with 1 Axes>"
      ]
     },
     "metadata": {
      "image/png": {
       "height": 322,
       "width": 896
      },
      "needs_background": "light"
     },
     "output_type": "display_data"
    }
   ],
   "source": [
    "df.groupby('hour')['cnt'].sum().plot(x='hour', y=['cnt'], kind='line', style='-o', figsize=(15,5))"
   ]
  },
  {
   "cell_type": "markdown",
   "metadata": {},
   "source": [
    "- Pick time : 18 ~ 19 PM\n",
    "- lowest time : 5 AM"
   ]
  },
  {
   "cell_type": "code",
   "execution_count": 30,
   "metadata": {},
   "outputs": [
    {
     "data": {
      "text/plain": [
       "hour\n",
       "0     259596\n",
       "1     188729\n",
       "2     142119\n",
       "3     102611\n",
       "4      79367\n",
       "5      86229\n",
       "6     197011\n",
       "7     335669\n",
       "8     418310\n",
       "9     420056\n",
       "10    405852\n",
       "11    418578\n",
       "12    447102\n",
       "13    449532\n",
       "14    479266\n",
       "15    490827\n",
       "16    463980\n",
       "17    517837\n",
       "18    575641\n",
       "19    543250\n",
       "20    481664\n",
       "21    475099\n",
       "22    439486\n",
       "23    342980\n",
       "Name: cnt, dtype: int64"
      ]
     },
     "execution_count": 30,
     "metadata": {},
     "output_type": "execute_result"
    }
   ],
   "source": [
    "df2= df.groupby('hour')['cnt'].sum()\n",
    "df2"
   ]
  },
  {
   "cell_type": "code",
   "execution_count": 33,
   "metadata": {},
   "outputs": [
    {
     "data": {
      "application/vnd.plotly.v1+json": {
       "config": {
        "linkText": "Export to plot.ly",
        "plotlyServerURL": "https://plot.ly",
        "showLink": true
       },
       "data": [
        {
         "line": {
          "color": "rgba(255, 153, 51, 1.0)",
          "dash": "solid",
          "shape": "linear",
          "width": 1.3
         },
         "mode": "lines",
         "name": "0",
         "text": "",
         "type": "scatter",
         "x": [
          0,
          1,
          2,
          3,
          4,
          5,
          6,
          7,
          8,
          9,
          10,
          11,
          12,
          13,
          14,
          15,
          16,
          17,
          18,
          19,
          20,
          21,
          22,
          23
         ],
         "y": [
          5969.666666666667,
          6292.6,
          5024,
          3801,
          3123.8,
          3174.2,
          6369.2,
          10060.6,
          10247.666666666666,
          12035.4,
          11371.4,
          12057.2,
          13002.2,
          13323.6,
          14504,
          15125.8,
          14349.2,
          15626.8,
          16671,
          15103,
          13153.6,
          12624.6,
          7748.571428571428,
          7318.6
         ]
        },
        {
         "line": {
          "color": "rgba(55, 128, 191, 1.0)",
          "dash": "solid",
          "shape": "linear",
          "width": 1.3
         },
         "mode": "lines",
         "name": "1",
         "text": "",
         "type": "scatter",
         "x": [
          0,
          1,
          2,
          3,
          4,
          5,
          6,
          7,
          8,
          9,
          10,
          11,
          12,
          13,
          14,
          15,
          16,
          17,
          18,
          19,
          20,
          21,
          22,
          23
         ],
         "y": [
          3400,
          2495.4,
          1528.2,
          1086.4,
          1123.3333333333333,
          2471.6666666666665,
          5820.285714285715,
          13980.8,
          14185.166666666666,
          13211.833333333334,
          13796.8,
          13361,
          11745.166666666666,
          9922.285714285714,
          10995.142857142857,
          15573.8,
          14987.4,
          17169,
          19623.6,
          17945,
          16844.2,
          16642.2,
          10140.42857142857,
          9092.8
         ]
        },
        {
         "line": {
          "color": "rgba(50, 171, 96, 1.0)",
          "dash": "solid",
          "shape": "linear",
          "width": 1.3
         },
         "mode": "lines",
         "name": "2",
         "text": "",
         "type": "scatter",
         "x": [
          0,
          1,
          2,
          3,
          4,
          5,
          6,
          7,
          8,
          9,
          10,
          11,
          12,
          13,
          14,
          15,
          16,
          17,
          18,
          19,
          20,
          21,
          22,
          23
         ],
         "y": [
          3909.1428571428573,
          2577.8333333333335,
          1898,
          1311.6,
          1238.6666666666667,
          2991.2,
          6785.333333333333,
          14540.8,
          17473.4,
          16050.6,
          14321.4,
          14130.4,
          14779.8,
          14826.2,
          13343.5,
          11745.285714285714,
          15124.8,
          17886.8,
          20531.4,
          19629.6,
          18258.8,
          18230.4,
          16181.6,
          8860.833333333334
         ]
        },
        {
         "line": {
          "color": "rgba(128, 0, 128, 1.0)",
          "dash": "solid",
          "shape": "linear",
          "width": 1.3
         },
         "mode": "lines",
         "name": "3",
         "text": "",
         "type": "scatter",
         "x": [
          0,
          1,
          2,
          3,
          4,
          5,
          6,
          7,
          8,
          9,
          10,
          11,
          12,
          13,
          14,
          15,
          16,
          17,
          18,
          19,
          20,
          21,
          22,
          23
         ],
         "y": [
          5160.6,
          2831.2,
          1795.6,
          1202,
          1243.8,
          2265,
          5089.666666666667,
          8900,
          12665.4,
          11341.6,
          10063,
          10025.6,
          10413.4,
          10455.2,
          9422.666666666666,
          11390.6,
          10539,
          12204,
          14371,
          13875.4,
          12980,
          13254.8,
          12428.8,
          9486.6
         ]
        },
        {
         "line": {
          "color": "rgba(219, 64, 82, 1.0)",
          "dash": "solid",
          "shape": "linear",
          "width": 1.3
         },
         "mode": "lines",
         "name": "4",
         "text": "",
         "type": "scatter",
         "x": [
          0,
          1,
          2,
          3,
          4,
          5,
          6,
          7,
          8,
          9,
          10,
          11,
          12,
          13,
          14,
          15,
          16,
          17,
          18,
          19,
          20,
          21,
          22,
          23
         ],
         "y": [
          6375,
          4741,
          3081,
          2118.25,
          1879.75,
          2934,
          7626.75,
          13857,
          13423.2,
          12480.6,
          13891.25,
          11134.8,
          14831.5,
          15223.25,
          17039.75,
          16584.75,
          14950.5,
          17878.5,
          20521,
          16726.4,
          17467.5,
          17277,
          17585.5,
          16305.5
         ]
        },
        {
         "line": {
          "color": "rgba(0, 128, 128, 1.0)",
          "dash": "solid",
          "shape": "linear",
          "width": 1.3
         },
         "mode": "lines",
         "name": "5",
         "text": "",
         "type": "scatter",
         "x": [
          0,
          1,
          2,
          3,
          4,
          5,
          6,
          7,
          8,
          9,
          10,
          11,
          12,
          13,
          14,
          15,
          16,
          17,
          18,
          19,
          20,
          21,
          22,
          23
         ],
         "y": [
          10939,
          11091.75,
          8961,
          5085,
          4112.5,
          2194,
          2526.8,
          3733.2,
          5992,
          11175.75,
          13301.5,
          11720,
          15707,
          12760.6,
          15697.25,
          17317,
          16821.25,
          17878,
          19261.5,
          19232.25,
          15117,
          15000,
          16433.5,
          16675.25
         ]
        },
        {
         "line": {
          "color": "rgba(255, 255, 51, 1.0)",
          "dash": "solid",
          "shape": "linear",
          "width": 1.3
         },
         "mode": "lines",
         "name": "6",
         "text": "",
         "type": "scatter",
         "x": [
          0,
          1,
          2,
          3,
          4,
          5,
          6,
          7,
          8,
          9,
          10,
          11,
          12,
          13,
          14,
          15,
          16,
          17,
          18,
          19,
          20,
          21,
          22,
          23
         ],
         "y": [
          15060.25,
          12958.75,
          10680.5,
          7927,
          4847,
          2183.75,
          2508,
          3816,
          4788.6,
          9135.25,
          12329.5,
          14108.25,
          15875,
          15588.75,
          15558.75,
          12510.4,
          15472.75,
          15094.5,
          15131.5,
          12481,
          9028.6,
          10557.75,
          8783.75,
          7100.5
         ]
        }
       ],
       "layout": {
        "legend": {
         "bgcolor": "#F5F6F9",
         "font": {
          "color": "#4D5663"
         }
        },
        "paper_bgcolor": "#F5F6F9",
        "plot_bgcolor": "#F5F6F9",
        "template": {
         "data": {
          "bar": [
           {
            "error_x": {
             "color": "#2a3f5f"
            },
            "error_y": {
             "color": "#2a3f5f"
            },
            "marker": {
             "line": {
              "color": "#E5ECF6",
              "width": 0.5
             }
            },
            "type": "bar"
           }
          ],
          "barpolar": [
           {
            "marker": {
             "line": {
              "color": "#E5ECF6",
              "width": 0.5
             }
            },
            "type": "barpolar"
           }
          ],
          "carpet": [
           {
            "aaxis": {
             "endlinecolor": "#2a3f5f",
             "gridcolor": "white",
             "linecolor": "white",
             "minorgridcolor": "white",
             "startlinecolor": "#2a3f5f"
            },
            "baxis": {
             "endlinecolor": "#2a3f5f",
             "gridcolor": "white",
             "linecolor": "white",
             "minorgridcolor": "white",
             "startlinecolor": "#2a3f5f"
            },
            "type": "carpet"
           }
          ],
          "choropleth": [
           {
            "colorbar": {
             "outlinewidth": 0,
             "ticks": ""
            },
            "type": "choropleth"
           }
          ],
          "contour": [
           {
            "colorbar": {
             "outlinewidth": 0,
             "ticks": ""
            },
            "colorscale": [
             [
              0,
              "#0d0887"
             ],
             [
              0.1111111111111111,
              "#46039f"
             ],
             [
              0.2222222222222222,
              "#7201a8"
             ],
             [
              0.3333333333333333,
              "#9c179e"
             ],
             [
              0.4444444444444444,
              "#bd3786"
             ],
             [
              0.5555555555555556,
              "#d8576b"
             ],
             [
              0.6666666666666666,
              "#ed7953"
             ],
             [
              0.7777777777777778,
              "#fb9f3a"
             ],
             [
              0.8888888888888888,
              "#fdca26"
             ],
             [
              1,
              "#f0f921"
             ]
            ],
            "type": "contour"
           }
          ],
          "contourcarpet": [
           {
            "colorbar": {
             "outlinewidth": 0,
             "ticks": ""
            },
            "type": "contourcarpet"
           }
          ],
          "heatmap": [
           {
            "colorbar": {
             "outlinewidth": 0,
             "ticks": ""
            },
            "colorscale": [
             [
              0,
              "#0d0887"
             ],
             [
              0.1111111111111111,
              "#46039f"
             ],
             [
              0.2222222222222222,
              "#7201a8"
             ],
             [
              0.3333333333333333,
              "#9c179e"
             ],
             [
              0.4444444444444444,
              "#bd3786"
             ],
             [
              0.5555555555555556,
              "#d8576b"
             ],
             [
              0.6666666666666666,
              "#ed7953"
             ],
             [
              0.7777777777777778,
              "#fb9f3a"
             ],
             [
              0.8888888888888888,
              "#fdca26"
             ],
             [
              1,
              "#f0f921"
             ]
            ],
            "type": "heatmap"
           }
          ],
          "heatmapgl": [
           {
            "colorbar": {
             "outlinewidth": 0,
             "ticks": ""
            },
            "colorscale": [
             [
              0,
              "#0d0887"
             ],
             [
              0.1111111111111111,
              "#46039f"
             ],
             [
              0.2222222222222222,
              "#7201a8"
             ],
             [
              0.3333333333333333,
              "#9c179e"
             ],
             [
              0.4444444444444444,
              "#bd3786"
             ],
             [
              0.5555555555555556,
              "#d8576b"
             ],
             [
              0.6666666666666666,
              "#ed7953"
             ],
             [
              0.7777777777777778,
              "#fb9f3a"
             ],
             [
              0.8888888888888888,
              "#fdca26"
             ],
             [
              1,
              "#f0f921"
             ]
            ],
            "type": "heatmapgl"
           }
          ],
          "histogram": [
           {
            "marker": {
             "colorbar": {
              "outlinewidth": 0,
              "ticks": ""
             }
            },
            "type": "histogram"
           }
          ],
          "histogram2d": [
           {
            "colorbar": {
             "outlinewidth": 0,
             "ticks": ""
            },
            "colorscale": [
             [
              0,
              "#0d0887"
             ],
             [
              0.1111111111111111,
              "#46039f"
             ],
             [
              0.2222222222222222,
              "#7201a8"
             ],
             [
              0.3333333333333333,
              "#9c179e"
             ],
             [
              0.4444444444444444,
              "#bd3786"
             ],
             [
              0.5555555555555556,
              "#d8576b"
             ],
             [
              0.6666666666666666,
              "#ed7953"
             ],
             [
              0.7777777777777778,
              "#fb9f3a"
             ],
             [
              0.8888888888888888,
              "#fdca26"
             ],
             [
              1,
              "#f0f921"
             ]
            ],
            "type": "histogram2d"
           }
          ],
          "histogram2dcontour": [
           {
            "colorbar": {
             "outlinewidth": 0,
             "ticks": ""
            },
            "colorscale": [
             [
              0,
              "#0d0887"
             ],
             [
              0.1111111111111111,
              "#46039f"
             ],
             [
              0.2222222222222222,
              "#7201a8"
             ],
             [
              0.3333333333333333,
              "#9c179e"
             ],
             [
              0.4444444444444444,
              "#bd3786"
             ],
             [
              0.5555555555555556,
              "#d8576b"
             ],
             [
              0.6666666666666666,
              "#ed7953"
             ],
             [
              0.7777777777777778,
              "#fb9f3a"
             ],
             [
              0.8888888888888888,
              "#fdca26"
             ],
             [
              1,
              "#f0f921"
             ]
            ],
            "type": "histogram2dcontour"
           }
          ],
          "mesh3d": [
           {
            "colorbar": {
             "outlinewidth": 0,
             "ticks": ""
            },
            "type": "mesh3d"
           }
          ],
          "parcoords": [
           {
            "line": {
             "colorbar": {
              "outlinewidth": 0,
              "ticks": ""
             }
            },
            "type": "parcoords"
           }
          ],
          "pie": [
           {
            "automargin": true,
            "type": "pie"
           }
          ],
          "scatter": [
           {
            "marker": {
             "colorbar": {
              "outlinewidth": 0,
              "ticks": ""
             }
            },
            "type": "scatter"
           }
          ],
          "scatter3d": [
           {
            "line": {
             "colorbar": {
              "outlinewidth": 0,
              "ticks": ""
             }
            },
            "marker": {
             "colorbar": {
              "outlinewidth": 0,
              "ticks": ""
             }
            },
            "type": "scatter3d"
           }
          ],
          "scattercarpet": [
           {
            "marker": {
             "colorbar": {
              "outlinewidth": 0,
              "ticks": ""
             }
            },
            "type": "scattercarpet"
           }
          ],
          "scattergeo": [
           {
            "marker": {
             "colorbar": {
              "outlinewidth": 0,
              "ticks": ""
             }
            },
            "type": "scattergeo"
           }
          ],
          "scattergl": [
           {
            "marker": {
             "colorbar": {
              "outlinewidth": 0,
              "ticks": ""
             }
            },
            "type": "scattergl"
           }
          ],
          "scattermapbox": [
           {
            "marker": {
             "colorbar": {
              "outlinewidth": 0,
              "ticks": ""
             }
            },
            "type": "scattermapbox"
           }
          ],
          "scatterpolar": [
           {
            "marker": {
             "colorbar": {
              "outlinewidth": 0,
              "ticks": ""
             }
            },
            "type": "scatterpolar"
           }
          ],
          "scatterpolargl": [
           {
            "marker": {
             "colorbar": {
              "outlinewidth": 0,
              "ticks": ""
             }
            },
            "type": "scatterpolargl"
           }
          ],
          "scatterternary": [
           {
            "marker": {
             "colorbar": {
              "outlinewidth": 0,
              "ticks": ""
             }
            },
            "type": "scatterternary"
           }
          ],
          "surface": [
           {
            "colorbar": {
             "outlinewidth": 0,
             "ticks": ""
            },
            "colorscale": [
             [
              0,
              "#0d0887"
             ],
             [
              0.1111111111111111,
              "#46039f"
             ],
             [
              0.2222222222222222,
              "#7201a8"
             ],
             [
              0.3333333333333333,
              "#9c179e"
             ],
             [
              0.4444444444444444,
              "#bd3786"
             ],
             [
              0.5555555555555556,
              "#d8576b"
             ],
             [
              0.6666666666666666,
              "#ed7953"
             ],
             [
              0.7777777777777778,
              "#fb9f3a"
             ],
             [
              0.8888888888888888,
              "#fdca26"
             ],
             [
              1,
              "#f0f921"
             ]
            ],
            "type": "surface"
           }
          ],
          "table": [
           {
            "cells": {
             "fill": {
              "color": "#EBF0F8"
             },
             "line": {
              "color": "white"
             }
            },
            "header": {
             "fill": {
              "color": "#C8D4E3"
             },
             "line": {
              "color": "white"
             }
            },
            "type": "table"
           }
          ]
         },
         "layout": {
          "annotationdefaults": {
           "arrowcolor": "#2a3f5f",
           "arrowhead": 0,
           "arrowwidth": 1
          },
          "coloraxis": {
           "colorbar": {
            "outlinewidth": 0,
            "ticks": ""
           }
          },
          "colorscale": {
           "diverging": [
            [
             0,
             "#8e0152"
            ],
            [
             0.1,
             "#c51b7d"
            ],
            [
             0.2,
             "#de77ae"
            ],
            [
             0.3,
             "#f1b6da"
            ],
            [
             0.4,
             "#fde0ef"
            ],
            [
             0.5,
             "#f7f7f7"
            ],
            [
             0.6,
             "#e6f5d0"
            ],
            [
             0.7,
             "#b8e186"
            ],
            [
             0.8,
             "#7fbc41"
            ],
            [
             0.9,
             "#4d9221"
            ],
            [
             1,
             "#276419"
            ]
           ],
           "sequential": [
            [
             0,
             "#0d0887"
            ],
            [
             0.1111111111111111,
             "#46039f"
            ],
            [
             0.2222222222222222,
             "#7201a8"
            ],
            [
             0.3333333333333333,
             "#9c179e"
            ],
            [
             0.4444444444444444,
             "#bd3786"
            ],
            [
             0.5555555555555556,
             "#d8576b"
            ],
            [
             0.6666666666666666,
             "#ed7953"
            ],
            [
             0.7777777777777778,
             "#fb9f3a"
            ],
            [
             0.8888888888888888,
             "#fdca26"
            ],
            [
             1,
             "#f0f921"
            ]
           ],
           "sequentialminus": [
            [
             0,
             "#0d0887"
            ],
            [
             0.1111111111111111,
             "#46039f"
            ],
            [
             0.2222222222222222,
             "#7201a8"
            ],
            [
             0.3333333333333333,
             "#9c179e"
            ],
            [
             0.4444444444444444,
             "#bd3786"
            ],
            [
             0.5555555555555556,
             "#d8576b"
            ],
            [
             0.6666666666666666,
             "#ed7953"
            ],
            [
             0.7777777777777778,
             "#fb9f3a"
            ],
            [
             0.8888888888888888,
             "#fdca26"
            ],
            [
             1,
             "#f0f921"
            ]
           ]
          },
          "colorway": [
           "#636efa",
           "#EF553B",
           "#00cc96",
           "#ab63fa",
           "#FFA15A",
           "#19d3f3",
           "#FF6692",
           "#B6E880",
           "#FF97FF",
           "#FECB52"
          ],
          "font": {
           "color": "#2a3f5f"
          },
          "geo": {
           "bgcolor": "white",
           "lakecolor": "white",
           "landcolor": "#E5ECF6",
           "showlakes": true,
           "showland": true,
           "subunitcolor": "white"
          },
          "hoverlabel": {
           "align": "left"
          },
          "hovermode": "closest",
          "mapbox": {
           "style": "light"
          },
          "paper_bgcolor": "white",
          "plot_bgcolor": "#E5ECF6",
          "polar": {
           "angularaxis": {
            "gridcolor": "white",
            "linecolor": "white",
            "ticks": ""
           },
           "bgcolor": "#E5ECF6",
           "radialaxis": {
            "gridcolor": "white",
            "linecolor": "white",
            "ticks": ""
           }
          },
          "scene": {
           "xaxis": {
            "backgroundcolor": "#E5ECF6",
            "gridcolor": "white",
            "gridwidth": 2,
            "linecolor": "white",
            "showbackground": true,
            "ticks": "",
            "zerolinecolor": "white"
           },
           "yaxis": {
            "backgroundcolor": "#E5ECF6",
            "gridcolor": "white",
            "gridwidth": 2,
            "linecolor": "white",
            "showbackground": true,
            "ticks": "",
            "zerolinecolor": "white"
           },
           "zaxis": {
            "backgroundcolor": "#E5ECF6",
            "gridcolor": "white",
            "gridwidth": 2,
            "linecolor": "white",
            "showbackground": true,
            "ticks": "",
            "zerolinecolor": "white"
           }
          },
          "shapedefaults": {
           "line": {
            "color": "#2a3f5f"
           }
          },
          "ternary": {
           "aaxis": {
            "gridcolor": "white",
            "linecolor": "white",
            "ticks": ""
           },
           "baxis": {
            "gridcolor": "white",
            "linecolor": "white",
            "ticks": ""
           },
           "bgcolor": "#E5ECF6",
           "caxis": {
            "gridcolor": "white",
            "linecolor": "white",
            "ticks": ""
           }
          },
          "title": {
           "x": 0.05
          },
          "xaxis": {
           "automargin": true,
           "gridcolor": "white",
           "linecolor": "white",
           "ticks": "",
           "title": {
            "standoff": 15
           },
           "zerolinecolor": "white",
           "zerolinewidth": 2
          },
          "yaxis": {
           "automargin": true,
           "gridcolor": "white",
           "linecolor": "white",
           "ticks": "",
           "title": {
            "standoff": 15
           },
           "zerolinecolor": "white",
           "zerolinewidth": 2
          }
         }
        },
        "title": {
         "font": {
          "color": "#4D5663"
         }
        },
        "xaxis": {
         "gridcolor": "#E1E5ED",
         "showgrid": true,
         "tickfont": {
          "color": "#4D5663"
         },
         "title": {
          "font": {
           "color": "#4D5663"
          },
          "text": ""
         },
         "zerolinecolor": "#E1E5ED"
        },
        "yaxis": {
         "gridcolor": "#E1E5ED",
         "showgrid": true,
         "tickfont": {
          "color": "#4D5663"
         },
         "title": {
          "font": {
           "color": "#4D5663"
          },
          "text": ""
         },
         "zerolinecolor": "#E1E5ED"
        }
       }
      },
      "text/html": [
       "<div>\n",
       "        \n",
       "        \n",
       "            <div id=\"9cfa4735-3ccb-46bd-b590-2c88bf345c28\" class=\"plotly-graph-div\" style=\"height:525px; width:100%;\"></div>\n",
       "            <script type=\"text/javascript\">\n",
       "                require([\"plotly\"], function(Plotly) {\n",
       "                    window.PLOTLYENV=window.PLOTLYENV || {};\n",
       "                    window.PLOTLYENV.BASE_URL='https://plot.ly';\n",
       "                    \n",
       "                if (document.getElementById(\"9cfa4735-3ccb-46bd-b590-2c88bf345c28\")) {\n",
       "                    Plotly.newPlot(\n",
       "                        '9cfa4735-3ccb-46bd-b590-2c88bf345c28',\n",
       "                        [{\"line\": {\"color\": \"rgba(255, 153, 51, 1.0)\", \"dash\": \"solid\", \"shape\": \"linear\", \"width\": 1.3}, \"mode\": \"lines\", \"name\": \"0\", \"text\": \"\", \"type\": \"scatter\", \"x\": [0, 1, 2, 3, 4, 5, 6, 7, 8, 9, 10, 11, 12, 13, 14, 15, 16, 17, 18, 19, 20, 21, 22, 23], \"y\": [5969.666666666667, 6292.6, 5024.0, 3801.0, 3123.8, 3174.2, 6369.2, 10060.6, 10247.666666666666, 12035.4, 11371.4, 12057.2, 13002.2, 13323.6, 14504.0, 15125.8, 14349.2, 15626.8, 16671.0, 15103.0, 13153.6, 12624.6, 7748.571428571428, 7318.6]}, {\"line\": {\"color\": \"rgba(55, 128, 191, 1.0)\", \"dash\": \"solid\", \"shape\": \"linear\", \"width\": 1.3}, \"mode\": \"lines\", \"name\": \"1\", \"text\": \"\", \"type\": \"scatter\", \"x\": [0, 1, 2, 3, 4, 5, 6, 7, 8, 9, 10, 11, 12, 13, 14, 15, 16, 17, 18, 19, 20, 21, 22, 23], \"y\": [3400.0, 2495.4, 1528.2, 1086.4, 1123.3333333333333, 2471.6666666666665, 5820.285714285715, 13980.8, 14185.166666666666, 13211.833333333334, 13796.8, 13361.0, 11745.166666666666, 9922.285714285714, 10995.142857142857, 15573.8, 14987.4, 17169.0, 19623.6, 17945.0, 16844.2, 16642.2, 10140.42857142857, 9092.8]}, {\"line\": {\"color\": \"rgba(50, 171, 96, 1.0)\", \"dash\": \"solid\", \"shape\": \"linear\", \"width\": 1.3}, \"mode\": \"lines\", \"name\": \"2\", \"text\": \"\", \"type\": \"scatter\", \"x\": [0, 1, 2, 3, 4, 5, 6, 7, 8, 9, 10, 11, 12, 13, 14, 15, 16, 17, 18, 19, 20, 21, 22, 23], \"y\": [3909.1428571428573, 2577.8333333333335, 1898.0, 1311.6, 1238.6666666666667, 2991.2, 6785.333333333333, 14540.8, 17473.4, 16050.6, 14321.4, 14130.4, 14779.8, 14826.2, 13343.5, 11745.285714285714, 15124.8, 17886.8, 20531.4, 19629.6, 18258.8, 18230.4, 16181.6, 8860.833333333334]}, {\"line\": {\"color\": \"rgba(128, 0, 128, 1.0)\", \"dash\": \"solid\", \"shape\": \"linear\", \"width\": 1.3}, \"mode\": \"lines\", \"name\": \"3\", \"text\": \"\", \"type\": \"scatter\", \"x\": [0, 1, 2, 3, 4, 5, 6, 7, 8, 9, 10, 11, 12, 13, 14, 15, 16, 17, 18, 19, 20, 21, 22, 23], \"y\": [5160.6, 2831.2, 1795.6, 1202.0, 1243.8, 2265.0, 5089.666666666667, 8900.0, 12665.4, 11341.6, 10063.0, 10025.6, 10413.4, 10455.2, 9422.666666666666, 11390.6, 10539.0, 12204.0, 14371.0, 13875.4, 12980.0, 13254.8, 12428.8, 9486.6]}, {\"line\": {\"color\": \"rgba(219, 64, 82, 1.0)\", \"dash\": \"solid\", \"shape\": \"linear\", \"width\": 1.3}, \"mode\": \"lines\", \"name\": \"4\", \"text\": \"\", \"type\": \"scatter\", \"x\": [0, 1, 2, 3, 4, 5, 6, 7, 8, 9, 10, 11, 12, 13, 14, 15, 16, 17, 18, 19, 20, 21, 22, 23], \"y\": [6375.0, 4741.0, 3081.0, 2118.25, 1879.75, 2934.0, 7626.75, 13857.0, 13423.2, 12480.6, 13891.25, 11134.8, 14831.5, 15223.25, 17039.75, 16584.75, 14950.5, 17878.5, 20521.0, 16726.4, 17467.5, 17277.0, 17585.5, 16305.5]}, {\"line\": {\"color\": \"rgba(0, 128, 128, 1.0)\", \"dash\": \"solid\", \"shape\": \"linear\", \"width\": 1.3}, \"mode\": \"lines\", \"name\": \"5\", \"text\": \"\", \"type\": \"scatter\", \"x\": [0, 1, 2, 3, 4, 5, 6, 7, 8, 9, 10, 11, 12, 13, 14, 15, 16, 17, 18, 19, 20, 21, 22, 23], \"y\": [10939.0, 11091.75, 8961.0, 5085.0, 4112.5, 2194.0, 2526.8, 3733.2, 5992.0, 11175.75, 13301.5, 11720.0, 15707.0, 12760.6, 15697.25, 17317.0, 16821.25, 17878.0, 19261.5, 19232.25, 15117.0, 15000.0, 16433.5, 16675.25]}, {\"line\": {\"color\": \"rgba(255, 255, 51, 1.0)\", \"dash\": \"solid\", \"shape\": \"linear\", \"width\": 1.3}, \"mode\": \"lines\", \"name\": \"6\", \"text\": \"\", \"type\": \"scatter\", \"x\": [0, 1, 2, 3, 4, 5, 6, 7, 8, 9, 10, 11, 12, 13, 14, 15, 16, 17, 18, 19, 20, 21, 22, 23], \"y\": [15060.25, 12958.75, 10680.5, 7927.0, 4847.0, 2183.75, 2508.0, 3816.0, 4788.6, 9135.25, 12329.5, 14108.25, 15875.0, 15588.75, 15558.75, 12510.4, 15472.75, 15094.5, 15131.5, 12481.0, 9028.6, 10557.75, 8783.75, 7100.5]}],\n",
       "                        {\"legend\": {\"bgcolor\": \"#F5F6F9\", \"font\": {\"color\": \"#4D5663\"}}, \"paper_bgcolor\": \"#F5F6F9\", \"plot_bgcolor\": \"#F5F6F9\", \"template\": {\"data\": {\"bar\": [{\"error_x\": {\"color\": \"#2a3f5f\"}, \"error_y\": {\"color\": \"#2a3f5f\"}, \"marker\": {\"line\": {\"color\": \"#E5ECF6\", \"width\": 0.5}}, \"type\": \"bar\"}], \"barpolar\": [{\"marker\": {\"line\": {\"color\": \"#E5ECF6\", \"width\": 0.5}}, \"type\": \"barpolar\"}], \"carpet\": [{\"aaxis\": {\"endlinecolor\": \"#2a3f5f\", \"gridcolor\": \"white\", \"linecolor\": \"white\", \"minorgridcolor\": \"white\", \"startlinecolor\": \"#2a3f5f\"}, \"baxis\": {\"endlinecolor\": \"#2a3f5f\", \"gridcolor\": \"white\", \"linecolor\": \"white\", \"minorgridcolor\": \"white\", \"startlinecolor\": \"#2a3f5f\"}, \"type\": \"carpet\"}], \"choropleth\": [{\"colorbar\": {\"outlinewidth\": 0, \"ticks\": \"\"}, \"type\": \"choropleth\"}], \"contour\": [{\"colorbar\": {\"outlinewidth\": 0, \"ticks\": \"\"}, \"colorscale\": [[0.0, \"#0d0887\"], [0.1111111111111111, \"#46039f\"], [0.2222222222222222, \"#7201a8\"], [0.3333333333333333, \"#9c179e\"], [0.4444444444444444, \"#bd3786\"], [0.5555555555555556, \"#d8576b\"], [0.6666666666666666, \"#ed7953\"], [0.7777777777777778, \"#fb9f3a\"], [0.8888888888888888, \"#fdca26\"], [1.0, \"#f0f921\"]], \"type\": \"contour\"}], \"contourcarpet\": [{\"colorbar\": {\"outlinewidth\": 0, \"ticks\": \"\"}, \"type\": \"contourcarpet\"}], \"heatmap\": [{\"colorbar\": {\"outlinewidth\": 0, \"ticks\": \"\"}, \"colorscale\": [[0.0, \"#0d0887\"], [0.1111111111111111, \"#46039f\"], [0.2222222222222222, \"#7201a8\"], [0.3333333333333333, \"#9c179e\"], [0.4444444444444444, \"#bd3786\"], [0.5555555555555556, \"#d8576b\"], [0.6666666666666666, \"#ed7953\"], [0.7777777777777778, \"#fb9f3a\"], [0.8888888888888888, \"#fdca26\"], [1.0, \"#f0f921\"]], \"type\": \"heatmap\"}], \"heatmapgl\": [{\"colorbar\": {\"outlinewidth\": 0, \"ticks\": \"\"}, \"colorscale\": [[0.0, \"#0d0887\"], [0.1111111111111111, \"#46039f\"], [0.2222222222222222, \"#7201a8\"], [0.3333333333333333, \"#9c179e\"], [0.4444444444444444, \"#bd3786\"], [0.5555555555555556, \"#d8576b\"], [0.6666666666666666, \"#ed7953\"], [0.7777777777777778, \"#fb9f3a\"], [0.8888888888888888, \"#fdca26\"], [1.0, \"#f0f921\"]], \"type\": \"heatmapgl\"}], \"histogram\": [{\"marker\": {\"colorbar\": {\"outlinewidth\": 0, \"ticks\": \"\"}}, \"type\": \"histogram\"}], \"histogram2d\": [{\"colorbar\": {\"outlinewidth\": 0, \"ticks\": \"\"}, \"colorscale\": [[0.0, \"#0d0887\"], [0.1111111111111111, \"#46039f\"], [0.2222222222222222, \"#7201a8\"], [0.3333333333333333, \"#9c179e\"], [0.4444444444444444, \"#bd3786\"], [0.5555555555555556, \"#d8576b\"], [0.6666666666666666, \"#ed7953\"], [0.7777777777777778, \"#fb9f3a\"], [0.8888888888888888, \"#fdca26\"], [1.0, \"#f0f921\"]], \"type\": \"histogram2d\"}], \"histogram2dcontour\": [{\"colorbar\": {\"outlinewidth\": 0, \"ticks\": \"\"}, \"colorscale\": [[0.0, \"#0d0887\"], [0.1111111111111111, \"#46039f\"], [0.2222222222222222, \"#7201a8\"], [0.3333333333333333, \"#9c179e\"], [0.4444444444444444, \"#bd3786\"], [0.5555555555555556, \"#d8576b\"], [0.6666666666666666, \"#ed7953\"], [0.7777777777777778, \"#fb9f3a\"], [0.8888888888888888, \"#fdca26\"], [1.0, \"#f0f921\"]], \"type\": \"histogram2dcontour\"}], \"mesh3d\": [{\"colorbar\": {\"outlinewidth\": 0, \"ticks\": \"\"}, \"type\": \"mesh3d\"}], \"parcoords\": [{\"line\": {\"colorbar\": {\"outlinewidth\": 0, \"ticks\": \"\"}}, \"type\": \"parcoords\"}], \"pie\": [{\"automargin\": true, \"type\": \"pie\"}], \"scatter\": [{\"marker\": {\"colorbar\": {\"outlinewidth\": 0, \"ticks\": \"\"}}, \"type\": \"scatter\"}], \"scatter3d\": [{\"line\": {\"colorbar\": {\"outlinewidth\": 0, \"ticks\": \"\"}}, \"marker\": {\"colorbar\": {\"outlinewidth\": 0, \"ticks\": \"\"}}, \"type\": \"scatter3d\"}], \"scattercarpet\": [{\"marker\": {\"colorbar\": {\"outlinewidth\": 0, \"ticks\": \"\"}}, \"type\": \"scattercarpet\"}], \"scattergeo\": [{\"marker\": {\"colorbar\": {\"outlinewidth\": 0, \"ticks\": \"\"}}, \"type\": \"scattergeo\"}], \"scattergl\": [{\"marker\": {\"colorbar\": {\"outlinewidth\": 0, \"ticks\": \"\"}}, \"type\": \"scattergl\"}], \"scattermapbox\": [{\"marker\": {\"colorbar\": {\"outlinewidth\": 0, \"ticks\": \"\"}}, \"type\": \"scattermapbox\"}], \"scatterpolar\": [{\"marker\": {\"colorbar\": {\"outlinewidth\": 0, \"ticks\": \"\"}}, \"type\": \"scatterpolar\"}], \"scatterpolargl\": [{\"marker\": {\"colorbar\": {\"outlinewidth\": 0, \"ticks\": \"\"}}, \"type\": \"scatterpolargl\"}], \"scatterternary\": [{\"marker\": {\"colorbar\": {\"outlinewidth\": 0, \"ticks\": \"\"}}, \"type\": \"scatterternary\"}], \"surface\": [{\"colorbar\": {\"outlinewidth\": 0, \"ticks\": \"\"}, \"colorscale\": [[0.0, \"#0d0887\"], [0.1111111111111111, \"#46039f\"], [0.2222222222222222, \"#7201a8\"], [0.3333333333333333, \"#9c179e\"], [0.4444444444444444, \"#bd3786\"], [0.5555555555555556, \"#d8576b\"], [0.6666666666666666, \"#ed7953\"], [0.7777777777777778, \"#fb9f3a\"], [0.8888888888888888, \"#fdca26\"], [1.0, \"#f0f921\"]], \"type\": \"surface\"}], \"table\": [{\"cells\": {\"fill\": {\"color\": \"#EBF0F8\"}, \"line\": {\"color\": \"white\"}}, \"header\": {\"fill\": {\"color\": \"#C8D4E3\"}, \"line\": {\"color\": \"white\"}}, \"type\": \"table\"}]}, \"layout\": {\"annotationdefaults\": {\"arrowcolor\": \"#2a3f5f\", \"arrowhead\": 0, \"arrowwidth\": 1}, \"coloraxis\": {\"colorbar\": {\"outlinewidth\": 0, \"ticks\": \"\"}}, \"colorscale\": {\"diverging\": [[0, \"#8e0152\"], [0.1, \"#c51b7d\"], [0.2, \"#de77ae\"], [0.3, \"#f1b6da\"], [0.4, \"#fde0ef\"], [0.5, \"#f7f7f7\"], [0.6, \"#e6f5d0\"], [0.7, \"#b8e186\"], [0.8, \"#7fbc41\"], [0.9, \"#4d9221\"], [1, \"#276419\"]], \"sequential\": [[0.0, \"#0d0887\"], [0.1111111111111111, \"#46039f\"], [0.2222222222222222, \"#7201a8\"], [0.3333333333333333, \"#9c179e\"], [0.4444444444444444, \"#bd3786\"], [0.5555555555555556, \"#d8576b\"], [0.6666666666666666, \"#ed7953\"], [0.7777777777777778, \"#fb9f3a\"], [0.8888888888888888, \"#fdca26\"], [1.0, \"#f0f921\"]], \"sequentialminus\": [[0.0, \"#0d0887\"], [0.1111111111111111, \"#46039f\"], [0.2222222222222222, \"#7201a8\"], [0.3333333333333333, \"#9c179e\"], [0.4444444444444444, \"#bd3786\"], [0.5555555555555556, \"#d8576b\"], [0.6666666666666666, \"#ed7953\"], [0.7777777777777778, \"#fb9f3a\"], [0.8888888888888888, \"#fdca26\"], [1.0, \"#f0f921\"]]}, \"colorway\": [\"#636efa\", \"#EF553B\", \"#00cc96\", \"#ab63fa\", \"#FFA15A\", \"#19d3f3\", \"#FF6692\", \"#B6E880\", \"#FF97FF\", \"#FECB52\"], \"font\": {\"color\": \"#2a3f5f\"}, \"geo\": {\"bgcolor\": \"white\", \"lakecolor\": \"white\", \"landcolor\": \"#E5ECF6\", \"showlakes\": true, \"showland\": true, \"subunitcolor\": \"white\"}, \"hoverlabel\": {\"align\": \"left\"}, \"hovermode\": \"closest\", \"mapbox\": {\"style\": \"light\"}, \"paper_bgcolor\": \"white\", \"plot_bgcolor\": \"#E5ECF6\", \"polar\": {\"angularaxis\": {\"gridcolor\": \"white\", \"linecolor\": \"white\", \"ticks\": \"\"}, \"bgcolor\": \"#E5ECF6\", \"radialaxis\": {\"gridcolor\": \"white\", \"linecolor\": \"white\", \"ticks\": \"\"}}, \"scene\": {\"xaxis\": {\"backgroundcolor\": \"#E5ECF6\", \"gridcolor\": \"white\", \"gridwidth\": 2, \"linecolor\": \"white\", \"showbackground\": true, \"ticks\": \"\", \"zerolinecolor\": \"white\"}, \"yaxis\": {\"backgroundcolor\": \"#E5ECF6\", \"gridcolor\": \"white\", \"gridwidth\": 2, \"linecolor\": \"white\", \"showbackground\": true, \"ticks\": \"\", \"zerolinecolor\": \"white\"}, \"zaxis\": {\"backgroundcolor\": \"#E5ECF6\", \"gridcolor\": \"white\", \"gridwidth\": 2, \"linecolor\": \"white\", \"showbackground\": true, \"ticks\": \"\", \"zerolinecolor\": \"white\"}}, \"shapedefaults\": {\"line\": {\"color\": \"#2a3f5f\"}}, \"ternary\": {\"aaxis\": {\"gridcolor\": \"white\", \"linecolor\": \"white\", \"ticks\": \"\"}, \"baxis\": {\"gridcolor\": \"white\", \"linecolor\": \"white\", \"ticks\": \"\"}, \"bgcolor\": \"#E5ECF6\", \"caxis\": {\"gridcolor\": \"white\", \"linecolor\": \"white\", \"ticks\": \"\"}}, \"title\": {\"x\": 0.05}, \"xaxis\": {\"automargin\": true, \"gridcolor\": \"white\", \"linecolor\": \"white\", \"ticks\": \"\", \"title\": {\"standoff\": 15}, \"zerolinecolor\": \"white\", \"zerolinewidth\": 2}, \"yaxis\": {\"automargin\": true, \"gridcolor\": \"white\", \"linecolor\": \"white\", \"ticks\": \"\", \"title\": {\"standoff\": 15}, \"zerolinecolor\": \"white\", \"zerolinewidth\": 2}}}, \"title\": {\"font\": {\"color\": \"#4D5663\"}}, \"xaxis\": {\"gridcolor\": \"#E1E5ED\", \"showgrid\": true, \"tickfont\": {\"color\": \"#4D5663\"}, \"title\": {\"font\": {\"color\": \"#4D5663\"}, \"text\": \"\"}, \"zerolinecolor\": \"#E1E5ED\"}, \"yaxis\": {\"gridcolor\": \"#E1E5ED\", \"showgrid\": true, \"tickfont\": {\"color\": \"#4D5663\"}, \"title\": {\"font\": {\"color\": \"#4D5663\"}, \"text\": \"\"}, \"zerolinecolor\": \"#E1E5ED\"}},\n",
       "                        {\"showLink\": true, \"linkText\": \"Export to plot.ly\", \"plotlyServerURL\": \"https://plot.ly\", \"responsive\": true}\n",
       "                    ).then(function(){\n",
       "                            \n",
       "var gd = document.getElementById('9cfa4735-3ccb-46bd-b590-2c88bf345c28');\n",
       "var x = new MutationObserver(function (mutations, observer) {{\n",
       "        var display = window.getComputedStyle(gd).display;\n",
       "        if (!display || display === 'none') {{\n",
       "            console.log([gd, 'removed!']);\n",
       "            Plotly.purge(gd);\n",
       "            observer.disconnect();\n",
       "        }}\n",
       "}});\n",
       "\n",
       "// Listen for the removal of the full notebook cells\n",
       "var notebookContainer = gd.closest('#notebook-container');\n",
       "if (notebookContainer) {{\n",
       "    x.observe(notebookContainer, {childList: true});\n",
       "}}\n",
       "\n",
       "// Listen for the clearing of the current output cell\n",
       "var outputEl = gd.closest('.output');\n",
       "if (outputEl) {{\n",
       "    x.observe(outputEl, {childList: true});\n",
       "}}\n",
       "\n",
       "                        })\n",
       "                };\n",
       "                });\n",
       "            </script>\n",
       "        </div>"
      ]
     },
     "metadata": {},
     "output_type": "display_data"
    }
   ],
   "source": [
    "# trip numbers for each hours per weekdays\n",
    "df.groupby(['hour', 'weekday'])['cnt'].mean().unstack().iplot()\n",
    "# Wed, Fri have highest trip numbers"
   ]
  },
  {
   "cell_type": "code",
   "execution_count": 34,
   "metadata": {},
   "outputs": [
    {
     "data": {
      "application/vnd.plotly.v1+json": {
       "config": {
        "linkText": "Export to plot.ly",
        "plotlyServerURL": "https://plot.ly",
        "showLink": true
       },
       "data": [
        {
         "line": {
          "color": "rgba(255, 153, 51, 1.0)",
          "dash": "solid",
          "shape": "linear",
          "width": 1.3
         },
         "mode": "lines",
         "name": "0",
         "text": "",
         "type": "scatter",
         "x": [
          0,
          1,
          2,
          3,
          4,
          5,
          6,
          7,
          8,
          9,
          10,
          11,
          12,
          13,
          14,
          15,
          16,
          17,
          18,
          19,
          20,
          21,
          22,
          23
         ],
         "y": [
          5969.666666666667,
          6292.6,
          5024,
          3801,
          3123.8,
          3174.2,
          6369.2,
          10060.6,
          10247.666666666666,
          12035.4,
          11371.4,
          12057.2,
          13002.2,
          13323.6,
          14504,
          15125.8,
          14349.2,
          15626.8,
          16671,
          15103,
          13153.6,
          12624.6,
          7748.571428571428,
          7318.6
         ]
        },
        {
         "line": {
          "color": "rgba(55, 128, 191, 1.0)",
          "dash": "solid",
          "shape": "linear",
          "width": 1.3
         },
         "mode": "lines",
         "name": "1",
         "text": "",
         "type": "scatter",
         "x": [
          0,
          1,
          2,
          3,
          4,
          5,
          6,
          7,
          8,
          9,
          10,
          11,
          12,
          13,
          14,
          15,
          16,
          17,
          18,
          19,
          20,
          21,
          22,
          23
         ],
         "y": [
          3400,
          2495.4,
          1528.2,
          1086.4,
          1123.3333333333333,
          2471.6666666666665,
          5820.285714285715,
          13980.8,
          14185.166666666666,
          13211.833333333334,
          13796.8,
          13361,
          11745.166666666666,
          9922.285714285714,
          10995.142857142857,
          15573.8,
          14987.4,
          17169,
          19623.6,
          17945,
          16844.2,
          16642.2,
          10140.42857142857,
          9092.8
         ]
        },
        {
         "line": {
          "color": "rgba(50, 171, 96, 1.0)",
          "dash": "solid",
          "shape": "linear",
          "width": 1.3
         },
         "mode": "lines",
         "name": "2",
         "text": "",
         "type": "scatter",
         "x": [
          0,
          1,
          2,
          3,
          4,
          5,
          6,
          7,
          8,
          9,
          10,
          11,
          12,
          13,
          14,
          15,
          16,
          17,
          18,
          19,
          20,
          21,
          22,
          23
         ],
         "y": [
          3909.1428571428573,
          2577.8333333333335,
          1898,
          1311.6,
          1238.6666666666667,
          2991.2,
          6785.333333333333,
          14540.8,
          17473.4,
          16050.6,
          14321.4,
          14130.4,
          14779.8,
          14826.2,
          13343.5,
          11745.285714285714,
          15124.8,
          17886.8,
          20531.4,
          19629.6,
          18258.8,
          18230.4,
          16181.6,
          8860.833333333334
         ]
        },
        {
         "line": {
          "color": "rgba(128, 0, 128, 1.0)",
          "dash": "solid",
          "shape": "linear",
          "width": 1.3
         },
         "mode": "lines",
         "name": "3",
         "text": "",
         "type": "scatter",
         "x": [
          0,
          1,
          2,
          3,
          4,
          5,
          6,
          7,
          8,
          9,
          10,
          11,
          12,
          13,
          14,
          15,
          16,
          17,
          18,
          19,
          20,
          21,
          22,
          23
         ],
         "y": [
          5160.6,
          2831.2,
          1795.6,
          1202,
          1243.8,
          2265,
          5089.666666666667,
          8900,
          12665.4,
          11341.6,
          10063,
          10025.6,
          10413.4,
          10455.2,
          9422.666666666666,
          11390.6,
          10539,
          12204,
          14371,
          13875.4,
          12980,
          13254.8,
          12428.8,
          9486.6
         ]
        },
        {
         "line": {
          "color": "rgba(219, 64, 82, 1.0)",
          "dash": "solid",
          "shape": "linear",
          "width": 1.3
         },
         "mode": "lines",
         "name": "4",
         "text": "",
         "type": "scatter",
         "x": [
          0,
          1,
          2,
          3,
          4,
          5,
          6,
          7,
          8,
          9,
          10,
          11,
          12,
          13,
          14,
          15,
          16,
          17,
          18,
          19,
          20,
          21,
          22,
          23
         ],
         "y": [
          6375,
          4741,
          3081,
          2118.25,
          1879.75,
          2934,
          7626.75,
          13857,
          13423.2,
          12480.6,
          13891.25,
          11134.8,
          14831.5,
          15223.25,
          17039.75,
          16584.75,
          14950.5,
          17878.5,
          20521,
          16726.4,
          17467.5,
          17277,
          17585.5,
          16305.5
         ]
        },
        {
         "line": {
          "color": "rgba(0, 128, 128, 1.0)",
          "dash": "solid",
          "shape": "linear",
          "width": 1.3
         },
         "mode": "lines",
         "name": "5",
         "text": "",
         "type": "scatter",
         "x": [
          0,
          1,
          2,
          3,
          4,
          5,
          6,
          7,
          8,
          9,
          10,
          11,
          12,
          13,
          14,
          15,
          16,
          17,
          18,
          19,
          20,
          21,
          22,
          23
         ],
         "y": [
          10939,
          11091.75,
          8961,
          5085,
          4112.5,
          2194,
          2526.8,
          3733.2,
          5992,
          11175.75,
          13301.5,
          11720,
          15707,
          12760.6,
          15697.25,
          17317,
          16821.25,
          17878,
          19261.5,
          19232.25,
          15117,
          15000,
          16433.5,
          16675.25
         ]
        },
        {
         "line": {
          "color": "rgba(255, 255, 51, 1.0)",
          "dash": "solid",
          "shape": "linear",
          "width": 1.3
         },
         "mode": "lines",
         "name": "6",
         "text": "",
         "type": "scatter",
         "x": [
          0,
          1,
          2,
          3,
          4,
          5,
          6,
          7,
          8,
          9,
          10,
          11,
          12,
          13,
          14,
          15,
          16,
          17,
          18,
          19,
          20,
          21,
          22,
          23
         ],
         "y": [
          15060.25,
          12958.75,
          10680.5,
          7927,
          4847,
          2183.75,
          2508,
          3816,
          4788.6,
          9135.25,
          12329.5,
          14108.25,
          15875,
          15588.75,
          15558.75,
          12510.4,
          15472.75,
          15094.5,
          15131.5,
          12481,
          9028.6,
          10557.75,
          8783.75,
          7100.5
         ]
        }
       ],
       "layout": {
        "legend": {
         "bgcolor": "#F5F6F9",
         "font": {
          "color": "#4D5663"
         }
        },
        "paper_bgcolor": "#F5F6F9",
        "plot_bgcolor": "#F5F6F9",
        "template": {
         "data": {
          "bar": [
           {
            "error_x": {
             "color": "#2a3f5f"
            },
            "error_y": {
             "color": "#2a3f5f"
            },
            "marker": {
             "line": {
              "color": "#E5ECF6",
              "width": 0.5
             }
            },
            "type": "bar"
           }
          ],
          "barpolar": [
           {
            "marker": {
             "line": {
              "color": "#E5ECF6",
              "width": 0.5
             }
            },
            "type": "barpolar"
           }
          ],
          "carpet": [
           {
            "aaxis": {
             "endlinecolor": "#2a3f5f",
             "gridcolor": "white",
             "linecolor": "white",
             "minorgridcolor": "white",
             "startlinecolor": "#2a3f5f"
            },
            "baxis": {
             "endlinecolor": "#2a3f5f",
             "gridcolor": "white",
             "linecolor": "white",
             "minorgridcolor": "white",
             "startlinecolor": "#2a3f5f"
            },
            "type": "carpet"
           }
          ],
          "choropleth": [
           {
            "colorbar": {
             "outlinewidth": 0,
             "ticks": ""
            },
            "type": "choropleth"
           }
          ],
          "contour": [
           {
            "colorbar": {
             "outlinewidth": 0,
             "ticks": ""
            },
            "colorscale": [
             [
              0,
              "#0d0887"
             ],
             [
              0.1111111111111111,
              "#46039f"
             ],
             [
              0.2222222222222222,
              "#7201a8"
             ],
             [
              0.3333333333333333,
              "#9c179e"
             ],
             [
              0.4444444444444444,
              "#bd3786"
             ],
             [
              0.5555555555555556,
              "#d8576b"
             ],
             [
              0.6666666666666666,
              "#ed7953"
             ],
             [
              0.7777777777777778,
              "#fb9f3a"
             ],
             [
              0.8888888888888888,
              "#fdca26"
             ],
             [
              1,
              "#f0f921"
             ]
            ],
            "type": "contour"
           }
          ],
          "contourcarpet": [
           {
            "colorbar": {
             "outlinewidth": 0,
             "ticks": ""
            },
            "type": "contourcarpet"
           }
          ],
          "heatmap": [
           {
            "colorbar": {
             "outlinewidth": 0,
             "ticks": ""
            },
            "colorscale": [
             [
              0,
              "#0d0887"
             ],
             [
              0.1111111111111111,
              "#46039f"
             ],
             [
              0.2222222222222222,
              "#7201a8"
             ],
             [
              0.3333333333333333,
              "#9c179e"
             ],
             [
              0.4444444444444444,
              "#bd3786"
             ],
             [
              0.5555555555555556,
              "#d8576b"
             ],
             [
              0.6666666666666666,
              "#ed7953"
             ],
             [
              0.7777777777777778,
              "#fb9f3a"
             ],
             [
              0.8888888888888888,
              "#fdca26"
             ],
             [
              1,
              "#f0f921"
             ]
            ],
            "type": "heatmap"
           }
          ],
          "heatmapgl": [
           {
            "colorbar": {
             "outlinewidth": 0,
             "ticks": ""
            },
            "colorscale": [
             [
              0,
              "#0d0887"
             ],
             [
              0.1111111111111111,
              "#46039f"
             ],
             [
              0.2222222222222222,
              "#7201a8"
             ],
             [
              0.3333333333333333,
              "#9c179e"
             ],
             [
              0.4444444444444444,
              "#bd3786"
             ],
             [
              0.5555555555555556,
              "#d8576b"
             ],
             [
              0.6666666666666666,
              "#ed7953"
             ],
             [
              0.7777777777777778,
              "#fb9f3a"
             ],
             [
              0.8888888888888888,
              "#fdca26"
             ],
             [
              1,
              "#f0f921"
             ]
            ],
            "type": "heatmapgl"
           }
          ],
          "histogram": [
           {
            "marker": {
             "colorbar": {
              "outlinewidth": 0,
              "ticks": ""
             }
            },
            "type": "histogram"
           }
          ],
          "histogram2d": [
           {
            "colorbar": {
             "outlinewidth": 0,
             "ticks": ""
            },
            "colorscale": [
             [
              0,
              "#0d0887"
             ],
             [
              0.1111111111111111,
              "#46039f"
             ],
             [
              0.2222222222222222,
              "#7201a8"
             ],
             [
              0.3333333333333333,
              "#9c179e"
             ],
             [
              0.4444444444444444,
              "#bd3786"
             ],
             [
              0.5555555555555556,
              "#d8576b"
             ],
             [
              0.6666666666666666,
              "#ed7953"
             ],
             [
              0.7777777777777778,
              "#fb9f3a"
             ],
             [
              0.8888888888888888,
              "#fdca26"
             ],
             [
              1,
              "#f0f921"
             ]
            ],
            "type": "histogram2d"
           }
          ],
          "histogram2dcontour": [
           {
            "colorbar": {
             "outlinewidth": 0,
             "ticks": ""
            },
            "colorscale": [
             [
              0,
              "#0d0887"
             ],
             [
              0.1111111111111111,
              "#46039f"
             ],
             [
              0.2222222222222222,
              "#7201a8"
             ],
             [
              0.3333333333333333,
              "#9c179e"
             ],
             [
              0.4444444444444444,
              "#bd3786"
             ],
             [
              0.5555555555555556,
              "#d8576b"
             ],
             [
              0.6666666666666666,
              "#ed7953"
             ],
             [
              0.7777777777777778,
              "#fb9f3a"
             ],
             [
              0.8888888888888888,
              "#fdca26"
             ],
             [
              1,
              "#f0f921"
             ]
            ],
            "type": "histogram2dcontour"
           }
          ],
          "mesh3d": [
           {
            "colorbar": {
             "outlinewidth": 0,
             "ticks": ""
            },
            "type": "mesh3d"
           }
          ],
          "parcoords": [
           {
            "line": {
             "colorbar": {
              "outlinewidth": 0,
              "ticks": ""
             }
            },
            "type": "parcoords"
           }
          ],
          "pie": [
           {
            "automargin": true,
            "type": "pie"
           }
          ],
          "scatter": [
           {
            "marker": {
             "colorbar": {
              "outlinewidth": 0,
              "ticks": ""
             }
            },
            "type": "scatter"
           }
          ],
          "scatter3d": [
           {
            "line": {
             "colorbar": {
              "outlinewidth": 0,
              "ticks": ""
             }
            },
            "marker": {
             "colorbar": {
              "outlinewidth": 0,
              "ticks": ""
             }
            },
            "type": "scatter3d"
           }
          ],
          "scattercarpet": [
           {
            "marker": {
             "colorbar": {
              "outlinewidth": 0,
              "ticks": ""
             }
            },
            "type": "scattercarpet"
           }
          ],
          "scattergeo": [
           {
            "marker": {
             "colorbar": {
              "outlinewidth": 0,
              "ticks": ""
             }
            },
            "type": "scattergeo"
           }
          ],
          "scattergl": [
           {
            "marker": {
             "colorbar": {
              "outlinewidth": 0,
              "ticks": ""
             }
            },
            "type": "scattergl"
           }
          ],
          "scattermapbox": [
           {
            "marker": {
             "colorbar": {
              "outlinewidth": 0,
              "ticks": ""
             }
            },
            "type": "scattermapbox"
           }
          ],
          "scatterpolar": [
           {
            "marker": {
             "colorbar": {
              "outlinewidth": 0,
              "ticks": ""
             }
            },
            "type": "scatterpolar"
           }
          ],
          "scatterpolargl": [
           {
            "marker": {
             "colorbar": {
              "outlinewidth": 0,
              "ticks": ""
             }
            },
            "type": "scatterpolargl"
           }
          ],
          "scatterternary": [
           {
            "marker": {
             "colorbar": {
              "outlinewidth": 0,
              "ticks": ""
             }
            },
            "type": "scatterternary"
           }
          ],
          "surface": [
           {
            "colorbar": {
             "outlinewidth": 0,
             "ticks": ""
            },
            "colorscale": [
             [
              0,
              "#0d0887"
             ],
             [
              0.1111111111111111,
              "#46039f"
             ],
             [
              0.2222222222222222,
              "#7201a8"
             ],
             [
              0.3333333333333333,
              "#9c179e"
             ],
             [
              0.4444444444444444,
              "#bd3786"
             ],
             [
              0.5555555555555556,
              "#d8576b"
             ],
             [
              0.6666666666666666,
              "#ed7953"
             ],
             [
              0.7777777777777778,
              "#fb9f3a"
             ],
             [
              0.8888888888888888,
              "#fdca26"
             ],
             [
              1,
              "#f0f921"
             ]
            ],
            "type": "surface"
           }
          ],
          "table": [
           {
            "cells": {
             "fill": {
              "color": "#EBF0F8"
             },
             "line": {
              "color": "white"
             }
            },
            "header": {
             "fill": {
              "color": "#C8D4E3"
             },
             "line": {
              "color": "white"
             }
            },
            "type": "table"
           }
          ]
         },
         "layout": {
          "annotationdefaults": {
           "arrowcolor": "#2a3f5f",
           "arrowhead": 0,
           "arrowwidth": 1
          },
          "coloraxis": {
           "colorbar": {
            "outlinewidth": 0,
            "ticks": ""
           }
          },
          "colorscale": {
           "diverging": [
            [
             0,
             "#8e0152"
            ],
            [
             0.1,
             "#c51b7d"
            ],
            [
             0.2,
             "#de77ae"
            ],
            [
             0.3,
             "#f1b6da"
            ],
            [
             0.4,
             "#fde0ef"
            ],
            [
             0.5,
             "#f7f7f7"
            ],
            [
             0.6,
             "#e6f5d0"
            ],
            [
             0.7,
             "#b8e186"
            ],
            [
             0.8,
             "#7fbc41"
            ],
            [
             0.9,
             "#4d9221"
            ],
            [
             1,
             "#276419"
            ]
           ],
           "sequential": [
            [
             0,
             "#0d0887"
            ],
            [
             0.1111111111111111,
             "#46039f"
            ],
            [
             0.2222222222222222,
             "#7201a8"
            ],
            [
             0.3333333333333333,
             "#9c179e"
            ],
            [
             0.4444444444444444,
             "#bd3786"
            ],
            [
             0.5555555555555556,
             "#d8576b"
            ],
            [
             0.6666666666666666,
             "#ed7953"
            ],
            [
             0.7777777777777778,
             "#fb9f3a"
            ],
            [
             0.8888888888888888,
             "#fdca26"
            ],
            [
             1,
             "#f0f921"
            ]
           ],
           "sequentialminus": [
            [
             0,
             "#0d0887"
            ],
            [
             0.1111111111111111,
             "#46039f"
            ],
            [
             0.2222222222222222,
             "#7201a8"
            ],
            [
             0.3333333333333333,
             "#9c179e"
            ],
            [
             0.4444444444444444,
             "#bd3786"
            ],
            [
             0.5555555555555556,
             "#d8576b"
            ],
            [
             0.6666666666666666,
             "#ed7953"
            ],
            [
             0.7777777777777778,
             "#fb9f3a"
            ],
            [
             0.8888888888888888,
             "#fdca26"
            ],
            [
             1,
             "#f0f921"
            ]
           ]
          },
          "colorway": [
           "#636efa",
           "#EF553B",
           "#00cc96",
           "#ab63fa",
           "#FFA15A",
           "#19d3f3",
           "#FF6692",
           "#B6E880",
           "#FF97FF",
           "#FECB52"
          ],
          "font": {
           "color": "#2a3f5f"
          },
          "geo": {
           "bgcolor": "white",
           "lakecolor": "white",
           "landcolor": "#E5ECF6",
           "showlakes": true,
           "showland": true,
           "subunitcolor": "white"
          },
          "hoverlabel": {
           "align": "left"
          },
          "hovermode": "closest",
          "mapbox": {
           "style": "light"
          },
          "paper_bgcolor": "white",
          "plot_bgcolor": "#E5ECF6",
          "polar": {
           "angularaxis": {
            "gridcolor": "white",
            "linecolor": "white",
            "ticks": ""
           },
           "bgcolor": "#E5ECF6",
           "radialaxis": {
            "gridcolor": "white",
            "linecolor": "white",
            "ticks": ""
           }
          },
          "scene": {
           "xaxis": {
            "backgroundcolor": "#E5ECF6",
            "gridcolor": "white",
            "gridwidth": 2,
            "linecolor": "white",
            "showbackground": true,
            "ticks": "",
            "zerolinecolor": "white"
           },
           "yaxis": {
            "backgroundcolor": "#E5ECF6",
            "gridcolor": "white",
            "gridwidth": 2,
            "linecolor": "white",
            "showbackground": true,
            "ticks": "",
            "zerolinecolor": "white"
           },
           "zaxis": {
            "backgroundcolor": "#E5ECF6",
            "gridcolor": "white",
            "gridwidth": 2,
            "linecolor": "white",
            "showbackground": true,
            "ticks": "",
            "zerolinecolor": "white"
           }
          },
          "shapedefaults": {
           "line": {
            "color": "#2a3f5f"
           }
          },
          "ternary": {
           "aaxis": {
            "gridcolor": "white",
            "linecolor": "white",
            "ticks": ""
           },
           "baxis": {
            "gridcolor": "white",
            "linecolor": "white",
            "ticks": ""
           },
           "bgcolor": "#E5ECF6",
           "caxis": {
            "gridcolor": "white",
            "linecolor": "white",
            "ticks": ""
           }
          },
          "title": {
           "x": 0.05
          },
          "xaxis": {
           "automargin": true,
           "gridcolor": "white",
           "linecolor": "white",
           "ticks": "",
           "title": {
            "standoff": 15
           },
           "zerolinecolor": "white",
           "zerolinewidth": 2
          },
          "yaxis": {
           "automargin": true,
           "gridcolor": "white",
           "linecolor": "white",
           "ticks": "",
           "title": {
            "standoff": 15
           },
           "zerolinecolor": "white",
           "zerolinewidth": 2
          }
         }
        },
        "title": {
         "font": {
          "color": "#4D5663"
         }
        },
        "xaxis": {
         "gridcolor": "#E1E5ED",
         "showgrid": true,
         "tickfont": {
          "color": "#4D5663"
         },
         "title": {
          "font": {
           "color": "#4D5663"
          },
          "text": ""
         },
         "zerolinecolor": "#E1E5ED"
        },
        "yaxis": {
         "gridcolor": "#E1E5ED",
         "showgrid": true,
         "tickfont": {
          "color": "#4D5663"
         },
         "title": {
          "font": {
           "color": "#4D5663"
          },
          "text": ""
         },
         "zerolinecolor": "#E1E5ED"
        }
       }
      },
      "text/html": [
       "<div>\n",
       "        \n",
       "        \n",
       "            <div id=\"72056a22-4567-4bbf-8128-d8dedac274c1\" class=\"plotly-graph-div\" style=\"height:525px; width:100%;\"></div>\n",
       "            <script type=\"text/javascript\">\n",
       "                require([\"plotly\"], function(Plotly) {\n",
       "                    window.PLOTLYENV=window.PLOTLYENV || {};\n",
       "                    window.PLOTLYENV.BASE_URL='https://plot.ly';\n",
       "                    \n",
       "                if (document.getElementById(\"72056a22-4567-4bbf-8128-d8dedac274c1\")) {\n",
       "                    Plotly.newPlot(\n",
       "                        '72056a22-4567-4bbf-8128-d8dedac274c1',\n",
       "                        [{\"line\": {\"color\": \"rgba(255, 153, 51, 1.0)\", \"dash\": \"solid\", \"shape\": \"linear\", \"width\": 1.3}, \"mode\": \"lines\", \"name\": \"0\", \"text\": \"\", \"type\": \"scatter\", \"x\": [0, 1, 2, 3, 4, 5, 6, 7, 8, 9, 10, 11, 12, 13, 14, 15, 16, 17, 18, 19, 20, 21, 22, 23], \"y\": [5969.666666666667, 6292.6, 5024.0, 3801.0, 3123.8, 3174.2, 6369.2, 10060.6, 10247.666666666666, 12035.4, 11371.4, 12057.2, 13002.2, 13323.6, 14504.0, 15125.8, 14349.2, 15626.8, 16671.0, 15103.0, 13153.6, 12624.6, 7748.571428571428, 7318.6]}, {\"line\": {\"color\": \"rgba(55, 128, 191, 1.0)\", \"dash\": \"solid\", \"shape\": \"linear\", \"width\": 1.3}, \"mode\": \"lines\", \"name\": \"1\", \"text\": \"\", \"type\": \"scatter\", \"x\": [0, 1, 2, 3, 4, 5, 6, 7, 8, 9, 10, 11, 12, 13, 14, 15, 16, 17, 18, 19, 20, 21, 22, 23], \"y\": [3400.0, 2495.4, 1528.2, 1086.4, 1123.3333333333333, 2471.6666666666665, 5820.285714285715, 13980.8, 14185.166666666666, 13211.833333333334, 13796.8, 13361.0, 11745.166666666666, 9922.285714285714, 10995.142857142857, 15573.8, 14987.4, 17169.0, 19623.6, 17945.0, 16844.2, 16642.2, 10140.42857142857, 9092.8]}, {\"line\": {\"color\": \"rgba(50, 171, 96, 1.0)\", \"dash\": \"solid\", \"shape\": \"linear\", \"width\": 1.3}, \"mode\": \"lines\", \"name\": \"2\", \"text\": \"\", \"type\": \"scatter\", \"x\": [0, 1, 2, 3, 4, 5, 6, 7, 8, 9, 10, 11, 12, 13, 14, 15, 16, 17, 18, 19, 20, 21, 22, 23], \"y\": [3909.1428571428573, 2577.8333333333335, 1898.0, 1311.6, 1238.6666666666667, 2991.2, 6785.333333333333, 14540.8, 17473.4, 16050.6, 14321.4, 14130.4, 14779.8, 14826.2, 13343.5, 11745.285714285714, 15124.8, 17886.8, 20531.4, 19629.6, 18258.8, 18230.4, 16181.6, 8860.833333333334]}, {\"line\": {\"color\": \"rgba(128, 0, 128, 1.0)\", \"dash\": \"solid\", \"shape\": \"linear\", \"width\": 1.3}, \"mode\": \"lines\", \"name\": \"3\", \"text\": \"\", \"type\": \"scatter\", \"x\": [0, 1, 2, 3, 4, 5, 6, 7, 8, 9, 10, 11, 12, 13, 14, 15, 16, 17, 18, 19, 20, 21, 22, 23], \"y\": [5160.6, 2831.2, 1795.6, 1202.0, 1243.8, 2265.0, 5089.666666666667, 8900.0, 12665.4, 11341.6, 10063.0, 10025.6, 10413.4, 10455.2, 9422.666666666666, 11390.6, 10539.0, 12204.0, 14371.0, 13875.4, 12980.0, 13254.8, 12428.8, 9486.6]}, {\"line\": {\"color\": \"rgba(219, 64, 82, 1.0)\", \"dash\": \"solid\", \"shape\": \"linear\", \"width\": 1.3}, \"mode\": \"lines\", \"name\": \"4\", \"text\": \"\", \"type\": \"scatter\", \"x\": [0, 1, 2, 3, 4, 5, 6, 7, 8, 9, 10, 11, 12, 13, 14, 15, 16, 17, 18, 19, 20, 21, 22, 23], \"y\": [6375.0, 4741.0, 3081.0, 2118.25, 1879.75, 2934.0, 7626.75, 13857.0, 13423.2, 12480.6, 13891.25, 11134.8, 14831.5, 15223.25, 17039.75, 16584.75, 14950.5, 17878.5, 20521.0, 16726.4, 17467.5, 17277.0, 17585.5, 16305.5]}, {\"line\": {\"color\": \"rgba(0, 128, 128, 1.0)\", \"dash\": \"solid\", \"shape\": \"linear\", \"width\": 1.3}, \"mode\": \"lines\", \"name\": \"5\", \"text\": \"\", \"type\": \"scatter\", \"x\": [0, 1, 2, 3, 4, 5, 6, 7, 8, 9, 10, 11, 12, 13, 14, 15, 16, 17, 18, 19, 20, 21, 22, 23], \"y\": [10939.0, 11091.75, 8961.0, 5085.0, 4112.5, 2194.0, 2526.8, 3733.2, 5992.0, 11175.75, 13301.5, 11720.0, 15707.0, 12760.6, 15697.25, 17317.0, 16821.25, 17878.0, 19261.5, 19232.25, 15117.0, 15000.0, 16433.5, 16675.25]}, {\"line\": {\"color\": \"rgba(255, 255, 51, 1.0)\", \"dash\": \"solid\", \"shape\": \"linear\", \"width\": 1.3}, \"mode\": \"lines\", \"name\": \"6\", \"text\": \"\", \"type\": \"scatter\", \"x\": [0, 1, 2, 3, 4, 5, 6, 7, 8, 9, 10, 11, 12, 13, 14, 15, 16, 17, 18, 19, 20, 21, 22, 23], \"y\": [15060.25, 12958.75, 10680.5, 7927.0, 4847.0, 2183.75, 2508.0, 3816.0, 4788.6, 9135.25, 12329.5, 14108.25, 15875.0, 15588.75, 15558.75, 12510.4, 15472.75, 15094.5, 15131.5, 12481.0, 9028.6, 10557.75, 8783.75, 7100.5]}],\n",
       "                        {\"legend\": {\"bgcolor\": \"#F5F6F9\", \"font\": {\"color\": \"#4D5663\"}}, \"paper_bgcolor\": \"#F5F6F9\", \"plot_bgcolor\": \"#F5F6F9\", \"template\": {\"data\": {\"bar\": [{\"error_x\": {\"color\": \"#2a3f5f\"}, \"error_y\": {\"color\": \"#2a3f5f\"}, \"marker\": {\"line\": {\"color\": \"#E5ECF6\", \"width\": 0.5}}, \"type\": \"bar\"}], \"barpolar\": [{\"marker\": {\"line\": {\"color\": \"#E5ECF6\", \"width\": 0.5}}, \"type\": \"barpolar\"}], \"carpet\": [{\"aaxis\": {\"endlinecolor\": \"#2a3f5f\", \"gridcolor\": \"white\", \"linecolor\": \"white\", \"minorgridcolor\": \"white\", \"startlinecolor\": \"#2a3f5f\"}, \"baxis\": {\"endlinecolor\": \"#2a3f5f\", \"gridcolor\": \"white\", \"linecolor\": \"white\", \"minorgridcolor\": \"white\", \"startlinecolor\": \"#2a3f5f\"}, \"type\": \"carpet\"}], \"choropleth\": [{\"colorbar\": {\"outlinewidth\": 0, \"ticks\": \"\"}, \"type\": \"choropleth\"}], \"contour\": [{\"colorbar\": {\"outlinewidth\": 0, \"ticks\": \"\"}, \"colorscale\": [[0.0, \"#0d0887\"], [0.1111111111111111, \"#46039f\"], [0.2222222222222222, \"#7201a8\"], [0.3333333333333333, \"#9c179e\"], [0.4444444444444444, \"#bd3786\"], [0.5555555555555556, \"#d8576b\"], [0.6666666666666666, \"#ed7953\"], [0.7777777777777778, \"#fb9f3a\"], [0.8888888888888888, \"#fdca26\"], [1.0, \"#f0f921\"]], \"type\": \"contour\"}], \"contourcarpet\": [{\"colorbar\": {\"outlinewidth\": 0, \"ticks\": \"\"}, \"type\": \"contourcarpet\"}], \"heatmap\": [{\"colorbar\": {\"outlinewidth\": 0, \"ticks\": \"\"}, \"colorscale\": [[0.0, \"#0d0887\"], [0.1111111111111111, \"#46039f\"], [0.2222222222222222, \"#7201a8\"], [0.3333333333333333, \"#9c179e\"], [0.4444444444444444, \"#bd3786\"], [0.5555555555555556, \"#d8576b\"], [0.6666666666666666, \"#ed7953\"], [0.7777777777777778, \"#fb9f3a\"], [0.8888888888888888, \"#fdca26\"], [1.0, \"#f0f921\"]], \"type\": \"heatmap\"}], \"heatmapgl\": [{\"colorbar\": {\"outlinewidth\": 0, \"ticks\": \"\"}, \"colorscale\": [[0.0, \"#0d0887\"], [0.1111111111111111, \"#46039f\"], [0.2222222222222222, \"#7201a8\"], [0.3333333333333333, \"#9c179e\"], [0.4444444444444444, \"#bd3786\"], [0.5555555555555556, \"#d8576b\"], [0.6666666666666666, \"#ed7953\"], [0.7777777777777778, \"#fb9f3a\"], [0.8888888888888888, \"#fdca26\"], [1.0, \"#f0f921\"]], \"type\": \"heatmapgl\"}], \"histogram\": [{\"marker\": {\"colorbar\": {\"outlinewidth\": 0, \"ticks\": \"\"}}, \"type\": \"histogram\"}], \"histogram2d\": [{\"colorbar\": {\"outlinewidth\": 0, \"ticks\": \"\"}, \"colorscale\": [[0.0, \"#0d0887\"], [0.1111111111111111, \"#46039f\"], [0.2222222222222222, \"#7201a8\"], [0.3333333333333333, \"#9c179e\"], [0.4444444444444444, \"#bd3786\"], [0.5555555555555556, \"#d8576b\"], [0.6666666666666666, \"#ed7953\"], [0.7777777777777778, \"#fb9f3a\"], [0.8888888888888888, \"#fdca26\"], [1.0, \"#f0f921\"]], \"type\": \"histogram2d\"}], \"histogram2dcontour\": [{\"colorbar\": {\"outlinewidth\": 0, \"ticks\": \"\"}, \"colorscale\": [[0.0, \"#0d0887\"], [0.1111111111111111, \"#46039f\"], [0.2222222222222222, \"#7201a8\"], [0.3333333333333333, \"#9c179e\"], [0.4444444444444444, \"#bd3786\"], [0.5555555555555556, \"#d8576b\"], [0.6666666666666666, \"#ed7953\"], [0.7777777777777778, \"#fb9f3a\"], [0.8888888888888888, \"#fdca26\"], [1.0, \"#f0f921\"]], \"type\": \"histogram2dcontour\"}], \"mesh3d\": [{\"colorbar\": {\"outlinewidth\": 0, \"ticks\": \"\"}, \"type\": \"mesh3d\"}], \"parcoords\": [{\"line\": {\"colorbar\": {\"outlinewidth\": 0, \"ticks\": \"\"}}, \"type\": \"parcoords\"}], \"pie\": [{\"automargin\": true, \"type\": \"pie\"}], \"scatter\": [{\"marker\": {\"colorbar\": {\"outlinewidth\": 0, \"ticks\": \"\"}}, \"type\": \"scatter\"}], \"scatter3d\": [{\"line\": {\"colorbar\": {\"outlinewidth\": 0, \"ticks\": \"\"}}, \"marker\": {\"colorbar\": {\"outlinewidth\": 0, \"ticks\": \"\"}}, \"type\": \"scatter3d\"}], \"scattercarpet\": [{\"marker\": {\"colorbar\": {\"outlinewidth\": 0, \"ticks\": \"\"}}, \"type\": \"scattercarpet\"}], \"scattergeo\": [{\"marker\": {\"colorbar\": {\"outlinewidth\": 0, \"ticks\": \"\"}}, \"type\": \"scattergeo\"}], \"scattergl\": [{\"marker\": {\"colorbar\": {\"outlinewidth\": 0, \"ticks\": \"\"}}, \"type\": \"scattergl\"}], \"scattermapbox\": [{\"marker\": {\"colorbar\": {\"outlinewidth\": 0, \"ticks\": \"\"}}, \"type\": \"scattermapbox\"}], \"scatterpolar\": [{\"marker\": {\"colorbar\": {\"outlinewidth\": 0, \"ticks\": \"\"}}, \"type\": \"scatterpolar\"}], \"scatterpolargl\": [{\"marker\": {\"colorbar\": {\"outlinewidth\": 0, \"ticks\": \"\"}}, \"type\": \"scatterpolargl\"}], \"scatterternary\": [{\"marker\": {\"colorbar\": {\"outlinewidth\": 0, \"ticks\": \"\"}}, \"type\": \"scatterternary\"}], \"surface\": [{\"colorbar\": {\"outlinewidth\": 0, \"ticks\": \"\"}, \"colorscale\": [[0.0, \"#0d0887\"], [0.1111111111111111, \"#46039f\"], [0.2222222222222222, \"#7201a8\"], [0.3333333333333333, \"#9c179e\"], [0.4444444444444444, \"#bd3786\"], [0.5555555555555556, \"#d8576b\"], [0.6666666666666666, \"#ed7953\"], [0.7777777777777778, \"#fb9f3a\"], [0.8888888888888888, \"#fdca26\"], [1.0, \"#f0f921\"]], \"type\": \"surface\"}], \"table\": [{\"cells\": {\"fill\": {\"color\": \"#EBF0F8\"}, \"line\": {\"color\": \"white\"}}, \"header\": {\"fill\": {\"color\": \"#C8D4E3\"}, \"line\": {\"color\": \"white\"}}, \"type\": \"table\"}]}, \"layout\": {\"annotationdefaults\": {\"arrowcolor\": \"#2a3f5f\", \"arrowhead\": 0, \"arrowwidth\": 1}, \"coloraxis\": {\"colorbar\": {\"outlinewidth\": 0, \"ticks\": \"\"}}, \"colorscale\": {\"diverging\": [[0, \"#8e0152\"], [0.1, \"#c51b7d\"], [0.2, \"#de77ae\"], [0.3, \"#f1b6da\"], [0.4, \"#fde0ef\"], [0.5, \"#f7f7f7\"], [0.6, \"#e6f5d0\"], [0.7, \"#b8e186\"], [0.8, \"#7fbc41\"], [0.9, \"#4d9221\"], [1, \"#276419\"]], \"sequential\": [[0.0, \"#0d0887\"], [0.1111111111111111, \"#46039f\"], [0.2222222222222222, \"#7201a8\"], [0.3333333333333333, \"#9c179e\"], [0.4444444444444444, \"#bd3786\"], [0.5555555555555556, \"#d8576b\"], [0.6666666666666666, \"#ed7953\"], [0.7777777777777778, \"#fb9f3a\"], [0.8888888888888888, \"#fdca26\"], [1.0, \"#f0f921\"]], \"sequentialminus\": [[0.0, \"#0d0887\"], [0.1111111111111111, \"#46039f\"], [0.2222222222222222, \"#7201a8\"], [0.3333333333333333, \"#9c179e\"], [0.4444444444444444, \"#bd3786\"], [0.5555555555555556, \"#d8576b\"], [0.6666666666666666, \"#ed7953\"], [0.7777777777777778, \"#fb9f3a\"], [0.8888888888888888, \"#fdca26\"], [1.0, \"#f0f921\"]]}, \"colorway\": [\"#636efa\", \"#EF553B\", \"#00cc96\", \"#ab63fa\", \"#FFA15A\", \"#19d3f3\", \"#FF6692\", \"#B6E880\", \"#FF97FF\", \"#FECB52\"], \"font\": {\"color\": \"#2a3f5f\"}, \"geo\": {\"bgcolor\": \"white\", \"lakecolor\": \"white\", \"landcolor\": \"#E5ECF6\", \"showlakes\": true, \"showland\": true, \"subunitcolor\": \"white\"}, \"hoverlabel\": {\"align\": \"left\"}, \"hovermode\": \"closest\", \"mapbox\": {\"style\": \"light\"}, \"paper_bgcolor\": \"white\", \"plot_bgcolor\": \"#E5ECF6\", \"polar\": {\"angularaxis\": {\"gridcolor\": \"white\", \"linecolor\": \"white\", \"ticks\": \"\"}, \"bgcolor\": \"#E5ECF6\", \"radialaxis\": {\"gridcolor\": \"white\", \"linecolor\": \"white\", \"ticks\": \"\"}}, \"scene\": {\"xaxis\": {\"backgroundcolor\": \"#E5ECF6\", \"gridcolor\": \"white\", \"gridwidth\": 2, \"linecolor\": \"white\", \"showbackground\": true, \"ticks\": \"\", \"zerolinecolor\": \"white\"}, \"yaxis\": {\"backgroundcolor\": \"#E5ECF6\", \"gridcolor\": \"white\", \"gridwidth\": 2, \"linecolor\": \"white\", \"showbackground\": true, \"ticks\": \"\", \"zerolinecolor\": \"white\"}, \"zaxis\": {\"backgroundcolor\": \"#E5ECF6\", \"gridcolor\": \"white\", \"gridwidth\": 2, \"linecolor\": \"white\", \"showbackground\": true, \"ticks\": \"\", \"zerolinecolor\": \"white\"}}, \"shapedefaults\": {\"line\": {\"color\": \"#2a3f5f\"}}, \"ternary\": {\"aaxis\": {\"gridcolor\": \"white\", \"linecolor\": \"white\", \"ticks\": \"\"}, \"baxis\": {\"gridcolor\": \"white\", \"linecolor\": \"white\", \"ticks\": \"\"}, \"bgcolor\": \"#E5ECF6\", \"caxis\": {\"gridcolor\": \"white\", \"linecolor\": \"white\", \"ticks\": \"\"}}, \"title\": {\"x\": 0.05}, \"xaxis\": {\"automargin\": true, \"gridcolor\": \"white\", \"linecolor\": \"white\", \"ticks\": \"\", \"title\": {\"standoff\": 15}, \"zerolinecolor\": \"white\", \"zerolinewidth\": 2}, \"yaxis\": {\"automargin\": true, \"gridcolor\": \"white\", \"linecolor\": \"white\", \"ticks\": \"\", \"title\": {\"standoff\": 15}, \"zerolinecolor\": \"white\", \"zerolinewidth\": 2}}}, \"title\": {\"font\": {\"color\": \"#4D5663\"}}, \"xaxis\": {\"gridcolor\": \"#E1E5ED\", \"showgrid\": true, \"tickfont\": {\"color\": \"#4D5663\"}, \"title\": {\"font\": {\"color\": \"#4D5663\"}, \"text\": \"\"}, \"zerolinecolor\": \"#E1E5ED\"}, \"yaxis\": {\"gridcolor\": \"#E1E5ED\", \"showgrid\": true, \"tickfont\": {\"color\": \"#4D5663\"}, \"title\": {\"font\": {\"color\": \"#4D5663\"}, \"text\": \"\"}, \"zerolinecolor\": \"#E1E5ED\"}},\n",
       "                        {\"showLink\": true, \"linkText\": \"Export to plot.ly\", \"plotlyServerURL\": \"https://plot.ly\", \"responsive\": true}\n",
       "                    ).then(function(){\n",
       "                            \n",
       "var gd = document.getElementById('72056a22-4567-4bbf-8128-d8dedac274c1');\n",
       "var x = new MutationObserver(function (mutations, observer) {{\n",
       "        var display = window.getComputedStyle(gd).display;\n",
       "        if (!display || display === 'none') {{\n",
       "            console.log([gd, 'removed!']);\n",
       "            Plotly.purge(gd);\n",
       "            observer.disconnect();\n",
       "        }}\n",
       "}});\n",
       "\n",
       "// Listen for the removal of the full notebook cells\n",
       "var notebookContainer = gd.closest('#notebook-container');\n",
       "if (notebookContainer) {{\n",
       "    x.observe(notebookContainer, {childList: true});\n",
       "}}\n",
       "\n",
       "// Listen for the clearing of the current output cell\n",
       "var outputEl = gd.closest('.output');\n",
       "if (outputEl) {{\n",
       "    x.observe(outputEl, {childList: true});\n",
       "}}\n",
       "\n",
       "                        })\n",
       "                };\n",
       "                });\n",
       "            </script>\n",
       "        </div>"
      ]
     },
     "metadata": {},
     "output_type": "display_data"
    }
   ],
   "source": [
    "# same as pivot table\n",
    "df[['cnt', 'hour', 'weekday']].pivot_table('cnt', index='hour', columns='weekday', aggfunc='mean').iplot(kind='scatter')"
   ]
  },
  {
   "cell_type": "code",
   "execution_count": 35,
   "metadata": {},
   "outputs": [
    {
     "data": {
      "application/vnd.plotly.v1+json": {
       "config": {
        "linkText": "Export to plot.ly",
        "plotlyServerURL": "https://plot.ly",
        "showLink": true
       },
       "data": [
        {
         "marker": {
          "color": "rgba(255, 153, 51, 0.6)",
          "line": {
           "color": "rgba(255, 153, 51, 1.0)",
           "width": 1
          }
         },
         "name": "cnt",
         "orientation": "v",
         "text": "",
         "type": "bar",
         "x": [
          0,
          1,
          2,
          3,
          4,
          5,
          6
         ],
         "y": [
          10258.895161290322,
          10437.059259259258,
          11606.60465116279,
          8865.341463414634,
          12315.594059405941,
          11725.135922330097,
          10509.414141414141
         ]
        }
       ],
       "layout": {
        "legend": {
         "bgcolor": "#F5F6F9",
         "font": {
          "color": "#4D5663"
         }
        },
        "paper_bgcolor": "#F5F6F9",
        "plot_bgcolor": "#F5F6F9",
        "template": {
         "data": {
          "bar": [
           {
            "error_x": {
             "color": "#2a3f5f"
            },
            "error_y": {
             "color": "#2a3f5f"
            },
            "marker": {
             "line": {
              "color": "#E5ECF6",
              "width": 0.5
             }
            },
            "type": "bar"
           }
          ],
          "barpolar": [
           {
            "marker": {
             "line": {
              "color": "#E5ECF6",
              "width": 0.5
             }
            },
            "type": "barpolar"
           }
          ],
          "carpet": [
           {
            "aaxis": {
             "endlinecolor": "#2a3f5f",
             "gridcolor": "white",
             "linecolor": "white",
             "minorgridcolor": "white",
             "startlinecolor": "#2a3f5f"
            },
            "baxis": {
             "endlinecolor": "#2a3f5f",
             "gridcolor": "white",
             "linecolor": "white",
             "minorgridcolor": "white",
             "startlinecolor": "#2a3f5f"
            },
            "type": "carpet"
           }
          ],
          "choropleth": [
           {
            "colorbar": {
             "outlinewidth": 0,
             "ticks": ""
            },
            "type": "choropleth"
           }
          ],
          "contour": [
           {
            "colorbar": {
             "outlinewidth": 0,
             "ticks": ""
            },
            "colorscale": [
             [
              0,
              "#0d0887"
             ],
             [
              0.1111111111111111,
              "#46039f"
             ],
             [
              0.2222222222222222,
              "#7201a8"
             ],
             [
              0.3333333333333333,
              "#9c179e"
             ],
             [
              0.4444444444444444,
              "#bd3786"
             ],
             [
              0.5555555555555556,
              "#d8576b"
             ],
             [
              0.6666666666666666,
              "#ed7953"
             ],
             [
              0.7777777777777778,
              "#fb9f3a"
             ],
             [
              0.8888888888888888,
              "#fdca26"
             ],
             [
              1,
              "#f0f921"
             ]
            ],
            "type": "contour"
           }
          ],
          "contourcarpet": [
           {
            "colorbar": {
             "outlinewidth": 0,
             "ticks": ""
            },
            "type": "contourcarpet"
           }
          ],
          "heatmap": [
           {
            "colorbar": {
             "outlinewidth": 0,
             "ticks": ""
            },
            "colorscale": [
             [
              0,
              "#0d0887"
             ],
             [
              0.1111111111111111,
              "#46039f"
             ],
             [
              0.2222222222222222,
              "#7201a8"
             ],
             [
              0.3333333333333333,
              "#9c179e"
             ],
             [
              0.4444444444444444,
              "#bd3786"
             ],
             [
              0.5555555555555556,
              "#d8576b"
             ],
             [
              0.6666666666666666,
              "#ed7953"
             ],
             [
              0.7777777777777778,
              "#fb9f3a"
             ],
             [
              0.8888888888888888,
              "#fdca26"
             ],
             [
              1,
              "#f0f921"
             ]
            ],
            "type": "heatmap"
           }
          ],
          "heatmapgl": [
           {
            "colorbar": {
             "outlinewidth": 0,
             "ticks": ""
            },
            "colorscale": [
             [
              0,
              "#0d0887"
             ],
             [
              0.1111111111111111,
              "#46039f"
             ],
             [
              0.2222222222222222,
              "#7201a8"
             ],
             [
              0.3333333333333333,
              "#9c179e"
             ],
             [
              0.4444444444444444,
              "#bd3786"
             ],
             [
              0.5555555555555556,
              "#d8576b"
             ],
             [
              0.6666666666666666,
              "#ed7953"
             ],
             [
              0.7777777777777778,
              "#fb9f3a"
             ],
             [
              0.8888888888888888,
              "#fdca26"
             ],
             [
              1,
              "#f0f921"
             ]
            ],
            "type": "heatmapgl"
           }
          ],
          "histogram": [
           {
            "marker": {
             "colorbar": {
              "outlinewidth": 0,
              "ticks": ""
             }
            },
            "type": "histogram"
           }
          ],
          "histogram2d": [
           {
            "colorbar": {
             "outlinewidth": 0,
             "ticks": ""
            },
            "colorscale": [
             [
              0,
              "#0d0887"
             ],
             [
              0.1111111111111111,
              "#46039f"
             ],
             [
              0.2222222222222222,
              "#7201a8"
             ],
             [
              0.3333333333333333,
              "#9c179e"
             ],
             [
              0.4444444444444444,
              "#bd3786"
             ],
             [
              0.5555555555555556,
              "#d8576b"
             ],
             [
              0.6666666666666666,
              "#ed7953"
             ],
             [
              0.7777777777777778,
              "#fb9f3a"
             ],
             [
              0.8888888888888888,
              "#fdca26"
             ],
             [
              1,
              "#f0f921"
             ]
            ],
            "type": "histogram2d"
           }
          ],
          "histogram2dcontour": [
           {
            "colorbar": {
             "outlinewidth": 0,
             "ticks": ""
            },
            "colorscale": [
             [
              0,
              "#0d0887"
             ],
             [
              0.1111111111111111,
              "#46039f"
             ],
             [
              0.2222222222222222,
              "#7201a8"
             ],
             [
              0.3333333333333333,
              "#9c179e"
             ],
             [
              0.4444444444444444,
              "#bd3786"
             ],
             [
              0.5555555555555556,
              "#d8576b"
             ],
             [
              0.6666666666666666,
              "#ed7953"
             ],
             [
              0.7777777777777778,
              "#fb9f3a"
             ],
             [
              0.8888888888888888,
              "#fdca26"
             ],
             [
              1,
              "#f0f921"
             ]
            ],
            "type": "histogram2dcontour"
           }
          ],
          "mesh3d": [
           {
            "colorbar": {
             "outlinewidth": 0,
             "ticks": ""
            },
            "type": "mesh3d"
           }
          ],
          "parcoords": [
           {
            "line": {
             "colorbar": {
              "outlinewidth": 0,
              "ticks": ""
             }
            },
            "type": "parcoords"
           }
          ],
          "pie": [
           {
            "automargin": true,
            "type": "pie"
           }
          ],
          "scatter": [
           {
            "marker": {
             "colorbar": {
              "outlinewidth": 0,
              "ticks": ""
             }
            },
            "type": "scatter"
           }
          ],
          "scatter3d": [
           {
            "line": {
             "colorbar": {
              "outlinewidth": 0,
              "ticks": ""
             }
            },
            "marker": {
             "colorbar": {
              "outlinewidth": 0,
              "ticks": ""
             }
            },
            "type": "scatter3d"
           }
          ],
          "scattercarpet": [
           {
            "marker": {
             "colorbar": {
              "outlinewidth": 0,
              "ticks": ""
             }
            },
            "type": "scattercarpet"
           }
          ],
          "scattergeo": [
           {
            "marker": {
             "colorbar": {
              "outlinewidth": 0,
              "ticks": ""
             }
            },
            "type": "scattergeo"
           }
          ],
          "scattergl": [
           {
            "marker": {
             "colorbar": {
              "outlinewidth": 0,
              "ticks": ""
             }
            },
            "type": "scattergl"
           }
          ],
          "scattermapbox": [
           {
            "marker": {
             "colorbar": {
              "outlinewidth": 0,
              "ticks": ""
             }
            },
            "type": "scattermapbox"
           }
          ],
          "scatterpolar": [
           {
            "marker": {
             "colorbar": {
              "outlinewidth": 0,
              "ticks": ""
             }
            },
            "type": "scatterpolar"
           }
          ],
          "scatterpolargl": [
           {
            "marker": {
             "colorbar": {
              "outlinewidth": 0,
              "ticks": ""
             }
            },
            "type": "scatterpolargl"
           }
          ],
          "scatterternary": [
           {
            "marker": {
             "colorbar": {
              "outlinewidth": 0,
              "ticks": ""
             }
            },
            "type": "scatterternary"
           }
          ],
          "surface": [
           {
            "colorbar": {
             "outlinewidth": 0,
             "ticks": ""
            },
            "colorscale": [
             [
              0,
              "#0d0887"
             ],
             [
              0.1111111111111111,
              "#46039f"
             ],
             [
              0.2222222222222222,
              "#7201a8"
             ],
             [
              0.3333333333333333,
              "#9c179e"
             ],
             [
              0.4444444444444444,
              "#bd3786"
             ],
             [
              0.5555555555555556,
              "#d8576b"
             ],
             [
              0.6666666666666666,
              "#ed7953"
             ],
             [
              0.7777777777777778,
              "#fb9f3a"
             ],
             [
              0.8888888888888888,
              "#fdca26"
             ],
             [
              1,
              "#f0f921"
             ]
            ],
            "type": "surface"
           }
          ],
          "table": [
           {
            "cells": {
             "fill": {
              "color": "#EBF0F8"
             },
             "line": {
              "color": "white"
             }
            },
            "header": {
             "fill": {
              "color": "#C8D4E3"
             },
             "line": {
              "color": "white"
             }
            },
            "type": "table"
           }
          ]
         },
         "layout": {
          "annotationdefaults": {
           "arrowcolor": "#2a3f5f",
           "arrowhead": 0,
           "arrowwidth": 1
          },
          "coloraxis": {
           "colorbar": {
            "outlinewidth": 0,
            "ticks": ""
           }
          },
          "colorscale": {
           "diverging": [
            [
             0,
             "#8e0152"
            ],
            [
             0.1,
             "#c51b7d"
            ],
            [
             0.2,
             "#de77ae"
            ],
            [
             0.3,
             "#f1b6da"
            ],
            [
             0.4,
             "#fde0ef"
            ],
            [
             0.5,
             "#f7f7f7"
            ],
            [
             0.6,
             "#e6f5d0"
            ],
            [
             0.7,
             "#b8e186"
            ],
            [
             0.8,
             "#7fbc41"
            ],
            [
             0.9,
             "#4d9221"
            ],
            [
             1,
             "#276419"
            ]
           ],
           "sequential": [
            [
             0,
             "#0d0887"
            ],
            [
             0.1111111111111111,
             "#46039f"
            ],
            [
             0.2222222222222222,
             "#7201a8"
            ],
            [
             0.3333333333333333,
             "#9c179e"
            ],
            [
             0.4444444444444444,
             "#bd3786"
            ],
            [
             0.5555555555555556,
             "#d8576b"
            ],
            [
             0.6666666666666666,
             "#ed7953"
            ],
            [
             0.7777777777777778,
             "#fb9f3a"
            ],
            [
             0.8888888888888888,
             "#fdca26"
            ],
            [
             1,
             "#f0f921"
            ]
           ],
           "sequentialminus": [
            [
             0,
             "#0d0887"
            ],
            [
             0.1111111111111111,
             "#46039f"
            ],
            [
             0.2222222222222222,
             "#7201a8"
            ],
            [
             0.3333333333333333,
             "#9c179e"
            ],
            [
             0.4444444444444444,
             "#bd3786"
            ],
            [
             0.5555555555555556,
             "#d8576b"
            ],
            [
             0.6666666666666666,
             "#ed7953"
            ],
            [
             0.7777777777777778,
             "#fb9f3a"
            ],
            [
             0.8888888888888888,
             "#fdca26"
            ],
            [
             1,
             "#f0f921"
            ]
           ]
          },
          "colorway": [
           "#636efa",
           "#EF553B",
           "#00cc96",
           "#ab63fa",
           "#FFA15A",
           "#19d3f3",
           "#FF6692",
           "#B6E880",
           "#FF97FF",
           "#FECB52"
          ],
          "font": {
           "color": "#2a3f5f"
          },
          "geo": {
           "bgcolor": "white",
           "lakecolor": "white",
           "landcolor": "#E5ECF6",
           "showlakes": true,
           "showland": true,
           "subunitcolor": "white"
          },
          "hoverlabel": {
           "align": "left"
          },
          "hovermode": "closest",
          "mapbox": {
           "style": "light"
          },
          "paper_bgcolor": "white",
          "plot_bgcolor": "#E5ECF6",
          "polar": {
           "angularaxis": {
            "gridcolor": "white",
            "linecolor": "white",
            "ticks": ""
           },
           "bgcolor": "#E5ECF6",
           "radialaxis": {
            "gridcolor": "white",
            "linecolor": "white",
            "ticks": ""
           }
          },
          "scene": {
           "xaxis": {
            "backgroundcolor": "#E5ECF6",
            "gridcolor": "white",
            "gridwidth": 2,
            "linecolor": "white",
            "showbackground": true,
            "ticks": "",
            "zerolinecolor": "white"
           },
           "yaxis": {
            "backgroundcolor": "#E5ECF6",
            "gridcolor": "white",
            "gridwidth": 2,
            "linecolor": "white",
            "showbackground": true,
            "ticks": "",
            "zerolinecolor": "white"
           },
           "zaxis": {
            "backgroundcolor": "#E5ECF6",
            "gridcolor": "white",
            "gridwidth": 2,
            "linecolor": "white",
            "showbackground": true,
            "ticks": "",
            "zerolinecolor": "white"
           }
          },
          "shapedefaults": {
           "line": {
            "color": "#2a3f5f"
           }
          },
          "ternary": {
           "aaxis": {
            "gridcolor": "white",
            "linecolor": "white",
            "ticks": ""
           },
           "baxis": {
            "gridcolor": "white",
            "linecolor": "white",
            "ticks": ""
           },
           "bgcolor": "#E5ECF6",
           "caxis": {
            "gridcolor": "white",
            "linecolor": "white",
            "ticks": ""
           }
          },
          "title": {
           "x": 0.05
          },
          "xaxis": {
           "automargin": true,
           "gridcolor": "white",
           "linecolor": "white",
           "ticks": "",
           "title": {
            "standoff": 15
           },
           "zerolinecolor": "white",
           "zerolinewidth": 2
          },
          "yaxis": {
           "automargin": true,
           "gridcolor": "white",
           "linecolor": "white",
           "ticks": "",
           "title": {
            "standoff": 15
           },
           "zerolinecolor": "white",
           "zerolinewidth": 2
          }
         }
        },
        "title": {
         "font": {
          "color": "#4D5663"
         }
        },
        "xaxis": {
         "gridcolor": "#E1E5ED",
         "showgrid": true,
         "tickfont": {
          "color": "#4D5663"
         },
         "title": {
          "font": {
           "color": "#4D5663"
          },
          "text": ""
         },
         "zerolinecolor": "#E1E5ED"
        },
        "yaxis": {
         "gridcolor": "#E1E5ED",
         "showgrid": true,
         "tickfont": {
          "color": "#4D5663"
         },
         "title": {
          "font": {
           "color": "#4D5663"
          },
          "text": ""
         },
         "zerolinecolor": "#E1E5ED"
        }
       }
      },
      "text/html": [
       "<div>\n",
       "        \n",
       "        \n",
       "            <div id=\"77c6f8c7-517d-4983-b281-9fb8b519cc10\" class=\"plotly-graph-div\" style=\"height:525px; width:100%;\"></div>\n",
       "            <script type=\"text/javascript\">\n",
       "                require([\"plotly\"], function(Plotly) {\n",
       "                    window.PLOTLYENV=window.PLOTLYENV || {};\n",
       "                    window.PLOTLYENV.BASE_URL='https://plot.ly';\n",
       "                    \n",
       "                if (document.getElementById(\"77c6f8c7-517d-4983-b281-9fb8b519cc10\")) {\n",
       "                    Plotly.newPlot(\n",
       "                        '77c6f8c7-517d-4983-b281-9fb8b519cc10',\n",
       "                        [{\"marker\": {\"color\": \"rgba(255, 153, 51, 0.6)\", \"line\": {\"color\": \"rgba(255, 153, 51, 1.0)\", \"width\": 1}}, \"name\": \"cnt\", \"orientation\": \"v\", \"text\": \"\", \"type\": \"bar\", \"x\": [0, 1, 2, 3, 4, 5, 6], \"y\": [10258.895161290322, 10437.059259259258, 11606.60465116279, 8865.341463414634, 12315.594059405941, 11725.135922330097, 10509.414141414141]}],\n",
       "                        {\"legend\": {\"bgcolor\": \"#F5F6F9\", \"font\": {\"color\": \"#4D5663\"}}, \"paper_bgcolor\": \"#F5F6F9\", \"plot_bgcolor\": \"#F5F6F9\", \"template\": {\"data\": {\"bar\": [{\"error_x\": {\"color\": \"#2a3f5f\"}, \"error_y\": {\"color\": \"#2a3f5f\"}, \"marker\": {\"line\": {\"color\": \"#E5ECF6\", \"width\": 0.5}}, \"type\": \"bar\"}], \"barpolar\": [{\"marker\": {\"line\": {\"color\": \"#E5ECF6\", \"width\": 0.5}}, \"type\": \"barpolar\"}], \"carpet\": [{\"aaxis\": {\"endlinecolor\": \"#2a3f5f\", \"gridcolor\": \"white\", \"linecolor\": \"white\", \"minorgridcolor\": \"white\", \"startlinecolor\": \"#2a3f5f\"}, \"baxis\": {\"endlinecolor\": \"#2a3f5f\", \"gridcolor\": \"white\", \"linecolor\": \"white\", \"minorgridcolor\": \"white\", \"startlinecolor\": \"#2a3f5f\"}, \"type\": \"carpet\"}], \"choropleth\": [{\"colorbar\": {\"outlinewidth\": 0, \"ticks\": \"\"}, \"type\": \"choropleth\"}], \"contour\": [{\"colorbar\": {\"outlinewidth\": 0, \"ticks\": \"\"}, \"colorscale\": [[0.0, \"#0d0887\"], [0.1111111111111111, \"#46039f\"], [0.2222222222222222, \"#7201a8\"], [0.3333333333333333, \"#9c179e\"], [0.4444444444444444, \"#bd3786\"], [0.5555555555555556, \"#d8576b\"], [0.6666666666666666, \"#ed7953\"], [0.7777777777777778, \"#fb9f3a\"], [0.8888888888888888, \"#fdca26\"], [1.0, \"#f0f921\"]], \"type\": \"contour\"}], \"contourcarpet\": [{\"colorbar\": {\"outlinewidth\": 0, \"ticks\": \"\"}, \"type\": \"contourcarpet\"}], \"heatmap\": [{\"colorbar\": {\"outlinewidth\": 0, \"ticks\": \"\"}, \"colorscale\": [[0.0, \"#0d0887\"], [0.1111111111111111, \"#46039f\"], [0.2222222222222222, \"#7201a8\"], [0.3333333333333333, \"#9c179e\"], [0.4444444444444444, \"#bd3786\"], [0.5555555555555556, \"#d8576b\"], [0.6666666666666666, \"#ed7953\"], [0.7777777777777778, \"#fb9f3a\"], [0.8888888888888888, \"#fdca26\"], [1.0, \"#f0f921\"]], \"type\": \"heatmap\"}], \"heatmapgl\": [{\"colorbar\": {\"outlinewidth\": 0, \"ticks\": \"\"}, \"colorscale\": [[0.0, \"#0d0887\"], [0.1111111111111111, \"#46039f\"], [0.2222222222222222, \"#7201a8\"], [0.3333333333333333, \"#9c179e\"], [0.4444444444444444, \"#bd3786\"], [0.5555555555555556, \"#d8576b\"], [0.6666666666666666, \"#ed7953\"], [0.7777777777777778, \"#fb9f3a\"], [0.8888888888888888, \"#fdca26\"], [1.0, \"#f0f921\"]], \"type\": \"heatmapgl\"}], \"histogram\": [{\"marker\": {\"colorbar\": {\"outlinewidth\": 0, \"ticks\": \"\"}}, \"type\": \"histogram\"}], \"histogram2d\": [{\"colorbar\": {\"outlinewidth\": 0, \"ticks\": \"\"}, \"colorscale\": [[0.0, \"#0d0887\"], [0.1111111111111111, \"#46039f\"], [0.2222222222222222, \"#7201a8\"], [0.3333333333333333, \"#9c179e\"], [0.4444444444444444, \"#bd3786\"], [0.5555555555555556, \"#d8576b\"], [0.6666666666666666, \"#ed7953\"], [0.7777777777777778, \"#fb9f3a\"], [0.8888888888888888, \"#fdca26\"], [1.0, \"#f0f921\"]], \"type\": \"histogram2d\"}], \"histogram2dcontour\": [{\"colorbar\": {\"outlinewidth\": 0, \"ticks\": \"\"}, \"colorscale\": [[0.0, \"#0d0887\"], [0.1111111111111111, \"#46039f\"], [0.2222222222222222, \"#7201a8\"], [0.3333333333333333, \"#9c179e\"], [0.4444444444444444, \"#bd3786\"], [0.5555555555555556, \"#d8576b\"], [0.6666666666666666, \"#ed7953\"], [0.7777777777777778, \"#fb9f3a\"], [0.8888888888888888, \"#fdca26\"], [1.0, \"#f0f921\"]], \"type\": \"histogram2dcontour\"}], \"mesh3d\": [{\"colorbar\": {\"outlinewidth\": 0, \"ticks\": \"\"}, \"type\": \"mesh3d\"}], \"parcoords\": [{\"line\": {\"colorbar\": {\"outlinewidth\": 0, \"ticks\": \"\"}}, \"type\": \"parcoords\"}], \"pie\": [{\"automargin\": true, \"type\": \"pie\"}], \"scatter\": [{\"marker\": {\"colorbar\": {\"outlinewidth\": 0, \"ticks\": \"\"}}, \"type\": \"scatter\"}], \"scatter3d\": [{\"line\": {\"colorbar\": {\"outlinewidth\": 0, \"ticks\": \"\"}}, \"marker\": {\"colorbar\": {\"outlinewidth\": 0, \"ticks\": \"\"}}, \"type\": \"scatter3d\"}], \"scattercarpet\": [{\"marker\": {\"colorbar\": {\"outlinewidth\": 0, \"ticks\": \"\"}}, \"type\": \"scattercarpet\"}], \"scattergeo\": [{\"marker\": {\"colorbar\": {\"outlinewidth\": 0, \"ticks\": \"\"}}, \"type\": \"scattergeo\"}], \"scattergl\": [{\"marker\": {\"colorbar\": {\"outlinewidth\": 0, \"ticks\": \"\"}}, \"type\": \"scattergl\"}], \"scattermapbox\": [{\"marker\": {\"colorbar\": {\"outlinewidth\": 0, \"ticks\": \"\"}}, \"type\": \"scattermapbox\"}], \"scatterpolar\": [{\"marker\": {\"colorbar\": {\"outlinewidth\": 0, \"ticks\": \"\"}}, \"type\": \"scatterpolar\"}], \"scatterpolargl\": [{\"marker\": {\"colorbar\": {\"outlinewidth\": 0, \"ticks\": \"\"}}, \"type\": \"scatterpolargl\"}], \"scatterternary\": [{\"marker\": {\"colorbar\": {\"outlinewidth\": 0, \"ticks\": \"\"}}, \"type\": \"scatterternary\"}], \"surface\": [{\"colorbar\": {\"outlinewidth\": 0, \"ticks\": \"\"}, \"colorscale\": [[0.0, \"#0d0887\"], [0.1111111111111111, \"#46039f\"], [0.2222222222222222, \"#7201a8\"], [0.3333333333333333, \"#9c179e\"], [0.4444444444444444, \"#bd3786\"], [0.5555555555555556, \"#d8576b\"], [0.6666666666666666, \"#ed7953\"], [0.7777777777777778, \"#fb9f3a\"], [0.8888888888888888, \"#fdca26\"], [1.0, \"#f0f921\"]], \"type\": \"surface\"}], \"table\": [{\"cells\": {\"fill\": {\"color\": \"#EBF0F8\"}, \"line\": {\"color\": \"white\"}}, \"header\": {\"fill\": {\"color\": \"#C8D4E3\"}, \"line\": {\"color\": \"white\"}}, \"type\": \"table\"}]}, \"layout\": {\"annotationdefaults\": {\"arrowcolor\": \"#2a3f5f\", \"arrowhead\": 0, \"arrowwidth\": 1}, \"coloraxis\": {\"colorbar\": {\"outlinewidth\": 0, \"ticks\": \"\"}}, \"colorscale\": {\"diverging\": [[0, \"#8e0152\"], [0.1, \"#c51b7d\"], [0.2, \"#de77ae\"], [0.3, \"#f1b6da\"], [0.4, \"#fde0ef\"], [0.5, \"#f7f7f7\"], [0.6, \"#e6f5d0\"], [0.7, \"#b8e186\"], [0.8, \"#7fbc41\"], [0.9, \"#4d9221\"], [1, \"#276419\"]], \"sequential\": [[0.0, \"#0d0887\"], [0.1111111111111111, \"#46039f\"], [0.2222222222222222, \"#7201a8\"], [0.3333333333333333, \"#9c179e\"], [0.4444444444444444, \"#bd3786\"], [0.5555555555555556, \"#d8576b\"], [0.6666666666666666, \"#ed7953\"], [0.7777777777777778, \"#fb9f3a\"], [0.8888888888888888, \"#fdca26\"], [1.0, \"#f0f921\"]], \"sequentialminus\": [[0.0, \"#0d0887\"], [0.1111111111111111, \"#46039f\"], [0.2222222222222222, \"#7201a8\"], [0.3333333333333333, \"#9c179e\"], [0.4444444444444444, \"#bd3786\"], [0.5555555555555556, \"#d8576b\"], [0.6666666666666666, \"#ed7953\"], [0.7777777777777778, \"#fb9f3a\"], [0.8888888888888888, \"#fdca26\"], [1.0, \"#f0f921\"]]}, \"colorway\": [\"#636efa\", \"#EF553B\", \"#00cc96\", \"#ab63fa\", \"#FFA15A\", \"#19d3f3\", \"#FF6692\", \"#B6E880\", \"#FF97FF\", \"#FECB52\"], \"font\": {\"color\": \"#2a3f5f\"}, \"geo\": {\"bgcolor\": \"white\", \"lakecolor\": \"white\", \"landcolor\": \"#E5ECF6\", \"showlakes\": true, \"showland\": true, \"subunitcolor\": \"white\"}, \"hoverlabel\": {\"align\": \"left\"}, \"hovermode\": \"closest\", \"mapbox\": {\"style\": \"light\"}, \"paper_bgcolor\": \"white\", \"plot_bgcolor\": \"#E5ECF6\", \"polar\": {\"angularaxis\": {\"gridcolor\": \"white\", \"linecolor\": \"white\", \"ticks\": \"\"}, \"bgcolor\": \"#E5ECF6\", \"radialaxis\": {\"gridcolor\": \"white\", \"linecolor\": \"white\", \"ticks\": \"\"}}, \"scene\": {\"xaxis\": {\"backgroundcolor\": \"#E5ECF6\", \"gridcolor\": \"white\", \"gridwidth\": 2, \"linecolor\": \"white\", \"showbackground\": true, \"ticks\": \"\", \"zerolinecolor\": \"white\"}, \"yaxis\": {\"backgroundcolor\": \"#E5ECF6\", \"gridcolor\": \"white\", \"gridwidth\": 2, \"linecolor\": \"white\", \"showbackground\": true, \"ticks\": \"\", \"zerolinecolor\": \"white\"}, \"zaxis\": {\"backgroundcolor\": \"#E5ECF6\", \"gridcolor\": \"white\", \"gridwidth\": 2, \"linecolor\": \"white\", \"showbackground\": true, \"ticks\": \"\", \"zerolinecolor\": \"white\"}}, \"shapedefaults\": {\"line\": {\"color\": \"#2a3f5f\"}}, \"ternary\": {\"aaxis\": {\"gridcolor\": \"white\", \"linecolor\": \"white\", \"ticks\": \"\"}, \"baxis\": {\"gridcolor\": \"white\", \"linecolor\": \"white\", \"ticks\": \"\"}, \"bgcolor\": \"#E5ECF6\", \"caxis\": {\"gridcolor\": \"white\", \"linecolor\": \"white\", \"ticks\": \"\"}}, \"title\": {\"x\": 0.05}, \"xaxis\": {\"automargin\": true, \"gridcolor\": \"white\", \"linecolor\": \"white\", \"ticks\": \"\", \"title\": {\"standoff\": 15}, \"zerolinecolor\": \"white\", \"zerolinewidth\": 2}, \"yaxis\": {\"automargin\": true, \"gridcolor\": \"white\", \"linecolor\": \"white\", \"ticks\": \"\", \"title\": {\"standoff\": 15}, \"zerolinecolor\": \"white\", \"zerolinewidth\": 2}}}, \"title\": {\"font\": {\"color\": \"#4D5663\"}}, \"xaxis\": {\"gridcolor\": \"#E1E5ED\", \"showgrid\": true, \"tickfont\": {\"color\": \"#4D5663\"}, \"title\": {\"font\": {\"color\": \"#4D5663\"}, \"text\": \"\"}, \"zerolinecolor\": \"#E1E5ED\"}, \"yaxis\": {\"gridcolor\": \"#E1E5ED\", \"showgrid\": true, \"tickfont\": {\"color\": \"#4D5663\"}, \"title\": {\"font\": {\"color\": \"#4D5663\"}, \"text\": \"\"}, \"zerolinecolor\": \"#E1E5ED\"}},\n",
       "                        {\"showLink\": true, \"linkText\": \"Export to plot.ly\", \"plotlyServerURL\": \"https://plot.ly\", \"responsive\": true}\n",
       "                    ).then(function(){\n",
       "                            \n",
       "var gd = document.getElementById('77c6f8c7-517d-4983-b281-9fb8b519cc10');\n",
       "var x = new MutationObserver(function (mutations, observer) {{\n",
       "        var display = window.getComputedStyle(gd).display;\n",
       "        if (!display || display === 'none') {{\n",
       "            console.log([gd, 'removed!']);\n",
       "            Plotly.purge(gd);\n",
       "            observer.disconnect();\n",
       "        }}\n",
       "}});\n",
       "\n",
       "// Listen for the removal of the full notebook cells\n",
       "var notebookContainer = gd.closest('#notebook-container');\n",
       "if (notebookContainer) {{\n",
       "    x.observe(notebookContainer, {childList: true});\n",
       "}}\n",
       "\n",
       "// Listen for the clearing of the current output cell\n",
       "var outputEl = gd.closest('.output');\n",
       "if (outputEl) {{\n",
       "    x.observe(outputEl, {childList: true});\n",
       "}}\n",
       "\n",
       "                        })\n",
       "                };\n",
       "                });\n",
       "            </script>\n",
       "        </div>"
      ]
     },
     "metadata": {},
     "output_type": "display_data"
    }
   ],
   "source": [
    "# bar graph\n",
    "df.groupby(['weekday'])['cnt'].mean().iplot(kind='bar')"
   ]
  },
  {
   "cell_type": "markdown",
   "metadata": {},
   "source": [
    "- Friday had a highest trip numbers"
   ]
  },
  {
   "cell_type": "code",
   "execution_count": null,
   "metadata": {},
   "outputs": [],
   "source": []
  }
 ],
 "metadata": {
  "kernelspec": {
   "display_name": "Python 3",
   "language": "python",
   "name": "python3"
  },
  "language_info": {
   "codemirror_mode": {
    "name": "ipython",
    "version": 3
   },
   "file_extension": ".py",
   "mimetype": "text/x-python",
   "name": "python",
   "nbconvert_exporter": "python",
   "pygments_lexer": "ipython3",
   "version": "3.7.4"
  }
 },
 "nbformat": 4,
 "nbformat_minor": 2
}
