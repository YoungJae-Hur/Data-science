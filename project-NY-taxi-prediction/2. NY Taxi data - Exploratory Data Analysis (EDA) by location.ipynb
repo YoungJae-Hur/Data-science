{
 "cells": [
  {
   "cell_type": "markdown",
   "metadata": {},
   "source": [
    "### Data visualization(2)\n",
    "\n",
    "- EDA by location with coordinates\n",
    "- reverse geocoding: longitude & lattitude => address\n"
   ]
  },
  {
   "cell_type": "markdown",
   "metadata": {},
   "source": [
    "- Shp file\n",
    "    - saved at 'bigquery-public-data.geo_us_boundaries.zip_codes'\n",
    "    - if pickup_logitude, pickup_latitude belongs zip_code_geom, it's the location"
   ]
  },
  {
   "cell_type": "code",
   "execution_count": null,
   "metadata": {},
   "outputs": [],
   "source": []
  }
 ],
 "metadata": {
  "kernelspec": {
   "display_name": "Python 3",
   "language": "python",
   "name": "python3"
  },
  "language_info": {
   "codemirror_mode": {
    "name": "ipython",
    "version": 3
   },
   "file_extension": ".py",
   "mimetype": "text/x-python",
   "name": "python",
   "nbconvert_exporter": "python",
   "pygments_lexer": "ipython3",
   "version": "3.7.4"
  }
 },
 "nbformat": 4,
 "nbformat_minor": 2
}
