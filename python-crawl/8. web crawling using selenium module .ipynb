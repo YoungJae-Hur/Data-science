{
 "cells": [
  {
   "cell_type": "markdown",
   "metadata": {},
   "source": [
    "1. selenium 모듈 사용법 알아보기 "
   ]
  },
  {
   "cell_type": "code",
   "execution_count": 1,
   "metadata": {},
   "outputs": [],
   "source": [
    "from selenium import webdriver\n",
    "from selenium.webdriver.common.keys import Keys\n",
    "from selenium.webdriver.support.ui import WebDriverWait\n",
    "from selenium.webdriver.support import expected_conditions as EC\n",
    "from selenium.webdriver.common.by import By\n",
    "\n",
    "from webdriver_manager.chrome import ChromeDriverManager\n",
    "from selenium.webdriver.chrome.options import Options\n"
   ]
  },
  {
   "cell_type": "code",
   "execution_count": 2,
   "metadata": {},
   "outputs": [],
   "source": [
    "import requests\n",
    "from bs4 import BeautifulSoup\n",
    "import time"
   ]
  },
  {
   "cell_type": "markdown",
   "metadata": {},
   "source": [
    "selenium\n",
    "    - 웹페이지 테스트 자동화용 모듈\n",
    "    - 개발.테스트용 드라이버(웹브라우저)를 사용하여 실제 사용자가 사용하는 것처럼 동작 \n",
    "    - 실습전 확인사항 \n",
    "        - selenium 모듈 설치\n",
    "        - 크롬 드라이버 다운"
   ]
  },
  {
   "cell_type": "markdown",
   "metadata": {},
   "source": [
    "selenium 예제\n",
    "    - python.org로 이동하여 자동으로 검색해보기\n",
    "        1. python.org 사이트 오픈\n",
    "        2. input 필드를 검색하여 Key 이벤트 전달"
   ]
  },
  {
   "cell_type": "code",
   "execution_count": 7,
   "metadata": {},
   "outputs": [],
   "source": [
    "options = Options()\n",
    "options.add_argument('--headless')\n",
    "options.add_argument('--no-sandbox')\n",
    "options.add_argument('--disable-dev-shm-usage')\n",
    "driver = webdriver.Chrome('/workspace/AI_Data_Science/chromedriver', options = options)\n",
    "driver.get('https://www.python.org')\n",
    "\n",
    "search = driver.find_element_by_id('id-search-field')\n",
    "search.clear()\n",
    "time.sleep(3)\n",
    "\n",
    "search.send_keys('lambda')\n",
    "\n",
    "time.sleep(3)\n",
    "search.send_keys(Keys.RETURN)\n",
    "\n",
    "driver.close()\n",
    "#chrome_driver = '/workspace/AI_Data_Science/chromedriver'\n",
    "#driver = webdriver.Chrome(executable_path=chrome_driver)\n",
    "#webdriver.Chrome(chrome_driver)"
   ]
  },
  {
   "cell_type": "code",
   "execution_count": null,
   "metadata": {},
   "outputs": [],
   "source": []
  },
  {
   "cell_type": "code",
   "execution_count": null,
   "metadata": {},
   "outputs": [],
   "source": []
  }
 ],
 "metadata": {
  "kernelspec": {
   "display_name": "Python 3",
   "language": "python",
   "name": "python3"
  },
  "language_info": {
   "codemirror_mode": {
    "name": "ipython",
    "version": 3
   },
   "file_extension": ".py",
   "mimetype": "text/x-python",
   "name": "python",
   "nbconvert_exporter": "python",
   "pygments_lexer": "ipython3",
   "version": "3.7.4"
  }
 },
 "nbformat": 4,
 "nbformat_minor": 2
}
