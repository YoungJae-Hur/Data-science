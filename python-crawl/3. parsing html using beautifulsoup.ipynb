{
 "cells": [
  {
   "cell_type": "markdown",
   "metadata": {},
   "source": [
    "1. beautifulsoup module intro"
   ]
  },
  {
   "cell_type": "code",
   "execution_count": 1,
   "metadata": {},
   "outputs": [],
   "source": [
    "from bs4 import BeautifulSoup"
   ]
  },
  {
   "cell_type": "code",
   "execution_count": 2,
   "metadata": {},
   "outputs": [],
   "source": [
    "html = '''\n",
    "<html>\n",
    "    <head>\n",
    "        <title>BeautifulSoup test</title>\n",
    "    </head>\n",
    "    <body>\n",
    "        <div id='upper' class='test' custom='good'>\n",
    "            <h3 title='Good Content Title'>Contents Title</h3>\n",
    "            <p>Test contents</p>\n",
    "        </div>\n",
    "        <div id='lower' class ='test' custom='nice'>\n",
    "            <p>Test test test 1 </p>\n",
    "            <p>Test test test 1 </p>\n",
    "            <p>Test test test 1 </p>\n",
    "        </div>\n",
    "    </body>\n",
    "</html>'''"
   ]
  },
  {
   "cell_type": "markdown",
   "metadata": {},
   "source": [
    "find 함수 \n",
    "    - 특정 html tag를 검색 \n",
    "    - 검색 조건을 명시하여 찾고자하는 tag를 검색 "
   ]
  },
  {
   "cell_type": "code",
   "execution_count": 3,
   "metadata": {},
   "outputs": [
    {
     "data": {
      "text/plain": [
       "<h3 title=\"Good Content Title\">Contents Title</h3>"
      ]
     },
     "execution_count": 3,
     "metadata": {},
     "output_type": "execute_result"
    }
   ],
   "source": [
    "soup = BeautifulSoup(html)\n",
    "soup.find('h3')"
   ]
  },
  {
   "cell_type": "code",
   "execution_count": 4,
   "metadata": {},
   "outputs": [
    {
     "data": {
      "text/plain": [
       "<p>Test contents</p>"
      ]
     },
     "execution_count": 4,
     "metadata": {},
     "output_type": "execute_result"
    }
   ],
   "source": [
    "soup.find('p')"
   ]
  },
  {
   "cell_type": "code",
   "execution_count": 5,
   "metadata": {},
   "outputs": [
    {
     "data": {
      "text/plain": [
       "<div class=\"test\" custom=\"good\" id=\"upper\">\n",
       "<h3 title=\"Good Content Title\">Contents Title</h3>\n",
       "<p>Test contents</p>\n",
       "</div>"
      ]
     },
     "execution_count": 5,
     "metadata": {},
     "output_type": "execute_result"
    }
   ],
   "source": [
    "soup.find('div', class_='test')"
   ]
  },
  {
   "cell_type": "code",
   "execution_count": 6,
   "metadata": {},
   "outputs": [],
   "source": [
    "attrs = {'id': 'upper', 'class':'test2'}\n",
    "soup.find('div', attrs=attrs)"
   ]
  },
  {
   "cell_type": "markdown",
   "metadata": {},
   "source": [
    "find_all method \n",
    " - find가 조건에 만족하는 하나의 tag만 검색한다면, find_all은 조건에 맞는 모든 tag를 리스트로 반환"
   ]
  },
  {
   "cell_type": "code",
   "execution_count": 7,
   "metadata": {},
   "outputs": [
    {
     "data": {
      "text/plain": [
       "[<div class=\"test\" custom=\"good\" id=\"upper\">\n",
       " <h3 title=\"Good Content Title\">Contents Title</h3>\n",
       " <p>Test contents</p>\n",
       " </div>, <div class=\"test\" custom=\"nice\" id=\"lower\">\n",
       " <p>Test test test 1 </p>\n",
       " <p>Test test test 1 </p>\n",
       " <p>Test test test 1 </p>\n",
       " </div>]"
      ]
     },
     "execution_count": 7,
     "metadata": {},
     "output_type": "execute_result"
    }
   ],
   "source": [
    "soup.find_all('div', class_='test')"
   ]
  },
  {
   "cell_type": "code",
   "execution_count": 8,
   "metadata": {},
   "outputs": [
    {
     "name": "stdout",
     "output_type": "stream",
     "text": [
      "<div class=\"test\" custom=\"good\" id=\"upper\">\n",
      "<h3 title=\"Good Content Title\">Contents Title</h3>\n",
      "<p>Test contents</p>\n",
      "</div>\n"
     ]
    },
    {
     "data": {
      "text/plain": [
       "'Contents Title\\nTest contents'"
      ]
     },
     "execution_count": 8,
     "metadata": {},
     "output_type": "execute_result"
    }
   ],
   "source": [
    "tag = soup.find('div', id = 'upper')\n",
    "print(tag)\n",
    "tag.get_text().strip()"
   ]
  },
  {
   "cell_type": "markdown",
   "metadata": {},
   "source": [
    "attribute 값 추출하기 \n",
    "    - 경우에따라 추출하고자 하는 값이 attiribute에도 존재함 \n",
    "    - 이경우에는 검색한 tag에 attribute 이름을 []연산을 통해 추출가능 \n",
    "    - 예) div.find('h3')['title']"
   ]
  },
  {
   "cell_type": "code",
   "execution_count": 11,
   "metadata": {},
   "outputs": [
    {
     "name": "stdout",
     "output_type": "stream",
     "text": [
      "<h3 title=\"Good Content Title\">Contents Title</h3>\n"
     ]
    }
   ],
   "source": [
    "tag = soup.find('h3')\n",
    "print(tag)\n"
   ]
  },
  {
   "cell_type": "code",
   "execution_count": 12,
   "metadata": {},
   "outputs": [
    {
     "data": {
      "text/plain": [
       "'Contents Title'"
      ]
     },
     "execution_count": 12,
     "metadata": {},
     "output_type": "execute_result"
    }
   ],
   "source": [
    "tag.get_text()"
   ]
  },
  {
   "cell_type": "code",
   "execution_count": 13,
   "metadata": {},
   "outputs": [
    {
     "data": {
      "text/plain": [
       "'Good Content Title'"
      ]
     },
     "execution_count": 13,
     "metadata": {},
     "output_type": "execute_result"
    }
   ],
   "source": [
    "tag['title']"
   ]
  },
  {
   "cell_type": "code",
   "execution_count": null,
   "metadata": {},
   "outputs": [],
   "source": []
  }
 ],
 "metadata": {
  "kernelspec": {
   "display_name": "Python 3",
   "language": "python",
   "name": "python3"
  },
  "language_info": {
   "codemirror_mode": {
    "name": "ipython",
    "version": 3
   },
   "file_extension": ".py",
   "mimetype": "text/x-python",
   "name": "python",
   "nbconvert_exporter": "python",
   "pygments_lexer": "ipython3",
   "version": "3.7.4"
  }
 },
 "nbformat": 4,
 "nbformat_minor": 2
}
