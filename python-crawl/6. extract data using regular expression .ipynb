{
 "cells": [
  {
   "cell_type": "markdown",
   "metadata": {},
   "source": [
    "- 정규표현식으로 tag 찾기 "
   ]
  },
  {
   "cell_type": "code",
   "execution_count": 1,
   "metadata": {},
   "outputs": [],
   "source": [
    "import re"
   ]
  },
  {
   "cell_type": "code",
   "execution_count": 2,
   "metadata": {},
   "outputs": [],
   "source": [
    "import requests\n",
    "from bs4 import BeautifulSoup\n",
    "\n",
    "url = 'https://news.v.daum.net/v/20200418160228343'\n",
    "resp = requests.get(url)\n",
    "soup = BeautifulSoup(resp.text)"
   ]
  },
  {
   "cell_type": "code",
   "execution_count": 3,
   "metadata": {},
   "outputs": [
    {
     "data": {
      "text/plain": [
       "[<h1> <a class=\"link_daum\" href=\"https://www.daum.net/\"> <img alt=\"Daum\" class=\"thumb_g\" height=\"19\" src=\"//t1.daumcdn.net/media/news/news2016/retina/logo_daum.jpg\" width=\"45\"/> </a> <a href=\"https://news.daum.net/\" id=\"kakaoServiceLogo\"><span class=\"ir_wa\">뉴스</span></a> </h1>]"
      ]
     },
     "execution_count": 3,
     "metadata": {},
     "output_type": "execute_result"
    }
   ],
   "source": [
    "soup.find_all('h1')"
   ]
  },
  {
   "cell_type": "code",
   "execution_count": 4,
   "metadata": {},
   "outputs": [
    {
     "data": {
      "text/plain": [
       "[<h1> <a class=\"link_daum\" href=\"https://www.daum.net/\"> <img alt=\"Daum\" class=\"thumb_g\" height=\"19\" src=\"//t1.daumcdn.net/media/news/news2016/retina/logo_daum.jpg\" width=\"45\"/> </a> <a href=\"https://news.daum.net/\" id=\"kakaoServiceLogo\"><span class=\"ir_wa\">뉴스</span></a> </h1>,\n",
       " <h2 class=\"screen_out\">검색</h2>,\n",
       " <h2 class=\"screen_out\">뉴스 메인메뉴</h2>,\n",
       " <h2 class=\"screen_out\" id=\"kakaoBody\">정치</h2>,\n",
       " <h3 class=\"tit_view\" data-translation=\"\">軍 \"논산훈련소 코로나 확진 신천지교인 2명 귀가조치\"(종합)</h3>,\n",
       " <h3 class=\"txt_newsview\" data-reactid=\".17oqh9y30gw.0\">많이본 뉴스</h3>,\n",
       " <h3 class=\"txt_newsview\">포토&amp;TV</h3>,\n",
       " <h3 class=\"txt_newsview\">이 시각 추천뉴스</h3>,\n",
       " <h3 class=\"txt_newsview\">실시간 주요이슈</h3>,\n",
       " <h2 class=\"tit_direct\">바로가기</h2>,\n",
       " <h2 class=\"screen_out\">서비스 이용정보</h2>]"
      ]
     },
     "execution_count": 4,
     "metadata": {},
     "output_type": "execute_result"
    }
   ],
   "source": [
    "soup.find_all(re.compile('h\\d'))"
   ]
  },
  {
   "cell_type": "code",
   "execution_count": 5,
   "metadata": {},
   "outputs": [
    {
     "data": {
      "text/plain": [
       "[<img alt=\"Daum\" class=\"thumb_g\" height=\"19\" src=\"//t1.daumcdn.net/media/news/news2016/retina/logo_daum.jpg\" width=\"45\"/>,\n",
       " <img alt=\"연합뉴스\" class=\"thumb_g\" src=\"https://t1.daumcdn.net/media/news/news2016/cp/cp_yonhap.gif\"/>,\n",
       " <img alt=\"군 장병들의 코로나19 방역활동 [연합뉴스 자료사진]\" class=\"thumb_g_article\" dmcf-mid=\"juYpFf2fj1\" dmcf-mtype=\"image\" height=\"auto\" src=\"https://img1.daumcdn.net/thumb/R658x0.q70/?fname=https://t1.daumcdn.net/news/202004/18/yonhap/20200418210220730cdau.jpg\" width=\"658\"/>,\n",
       " <img alt=\"GKL, 코로나19 장기화에 휴장 또 연장..5월 6일까지\" class=\"thumb_g\" src=\"https://img1.daumcdn.net/thumb/S288x280.q70/?fname=https://t1.daumcdn.net/news/202004/19/yonhap/20200419190344871jccn.jpg\"/>,\n",
       " <img alt=\"확진자 두 달 만에 한자릿수 증가..5월 5일까지 거리두기 연장\" class=\"thumb_g\" src=\"https://img1.daumcdn.net/thumb/S288x280.q70/?fname=https://t1.daumcdn.net/news/202004/19/mbn/20200419194032601gjwf.jpg\"/>,\n",
       " <img alt=\"\" class=\"thumb_g\" height=\"54\" src=\"https://img1.daumcdn.net/thumb/S168x108.q70/?fname=https://t1.daumcdn.net/news/202004/19/newsis/20200419193236732wrhl.jpg\" width=\"84\"/>,\n",
       " <img alt=\"\" class=\"thumb_g\" height=\"54\" src=\"https://img1.daumcdn.net/thumb/S168x108.q70/?fname=https://t1.daumcdn.net/news/202004/19/JTBC/20200419193015853ecvb.jpg\" width=\"84\"/>,\n",
       " <img alt=\"\" class=\"thumb_g\" height=\"54\" src=\"https://img1.daumcdn.net/thumb/S168x108.q70/?fname=https://t1.daumcdn.net/news/202004/19/NEWS1/20200419180715859axcc.jpg\" width=\"84\"/>]"
      ]
     },
     "execution_count": 5,
     "metadata": {},
     "output_type": "execute_result"
    }
   ],
   "source": [
    "soup.find_all('img')"
   ]
  },
  {
   "cell_type": "code",
   "execution_count": 11,
   "metadata": {},
   "outputs": [
    {
     "data": {
      "text/plain": [
       "[<img alt=\"Daum\" class=\"thumb_g\" height=\"19\" src=\"//t1.daumcdn.net/media/news/news2016/retina/logo_daum.jpg\" width=\"45\"/>,\n",
       " <img alt=\"군 장병들의 코로나19 방역활동 [연합뉴스 자료사진]\" class=\"thumb_g_article\" dmcf-mid=\"juYpFf2fj1\" dmcf-mtype=\"image\" height=\"auto\" src=\"https://img1.daumcdn.net/thumb/R658x0.q70/?fname=https://t1.daumcdn.net/news/202004/18/yonhap/20200418210220730cdau.jpg\" width=\"658\"/>,\n",
       " <img alt=\"GKL, 코로나19 장기화에 휴장 또 연장..5월 6일까지\" class=\"thumb_g\" src=\"https://img1.daumcdn.net/thumb/S288x280.q70/?fname=https://t1.daumcdn.net/news/202004/19/yonhap/20200419190344871jccn.jpg\"/>,\n",
       " <img alt=\"확진자 두 달 만에 한자릿수 증가..5월 5일까지 거리두기 연장\" class=\"thumb_g\" src=\"https://img1.daumcdn.net/thumb/S288x280.q70/?fname=https://t1.daumcdn.net/news/202004/19/mbn/20200419194032601gjwf.jpg\"/>,\n",
       " <img alt=\"\" class=\"thumb_g\" height=\"54\" src=\"https://img1.daumcdn.net/thumb/S168x108.q70/?fname=https://t1.daumcdn.net/news/202004/19/newsis/20200419193236732wrhl.jpg\" width=\"84\"/>,\n",
       " <img alt=\"\" class=\"thumb_g\" height=\"54\" src=\"https://img1.daumcdn.net/thumb/S168x108.q70/?fname=https://t1.daumcdn.net/news/202004/19/JTBC/20200419193015853ecvb.jpg\" width=\"84\"/>,\n",
       " <img alt=\"\" class=\"thumb_g\" height=\"54\" src=\"https://img1.daumcdn.net/thumb/S168x108.q70/?fname=https://t1.daumcdn.net/news/202004/19/NEWS1/20200419180715859axcc.jpg\" width=\"84\"/>]"
      ]
     },
     "execution_count": 11,
     "metadata": {},
     "output_type": "execute_result"
    }
   ],
   "source": [
    "soup.find_all('img', attrs={'src': re.compile('.+\\.jpg')})"
   ]
  },
  {
   "cell_type": "code",
   "execution_count": 13,
   "metadata": {},
   "outputs": [
    {
     "data": {
      "text/plain": [
       "[<h3 class=\"tit_view\" data-translation=\"\">軍 \"논산훈련소 코로나 확진 신천지교인 2명 귀가조치\"(종합)</h3>]"
      ]
     },
     "execution_count": 13,
     "metadata": {},
     "output_type": "execute_result"
    }
   ],
   "source": [
    "soup.find_all('h3', class_ = 'tit_view')"
   ]
  },
  {
   "cell_type": "code",
   "execution_count": 14,
   "metadata": {},
   "outputs": [
    {
     "data": {
      "text/plain": [
       "[<h3 class=\"txt_newsview\" data-reactid=\".17oqh9y30gw.0\">많이본 뉴스</h3>,\n",
       " <h3 class=\"txt_newsview\">포토&amp;TV</h3>,\n",
       " <h3 class=\"txt_newsview\">이 시각 추천뉴스</h3>,\n",
       " <h3 class=\"txt_newsview\">실시간 주요이슈</h3>]"
      ]
     },
     "execution_count": 14,
     "metadata": {},
     "output_type": "execute_result"
    }
   ],
   "source": [
    "soup.find_all('h3', class_ = re.compile('.+newsview$'))"
   ]
  },
  {
   "cell_type": "code",
   "execution_count": null,
   "metadata": {},
   "outputs": [],
   "source": []
  }
 ],
 "metadata": {
  "kernelspec": {
   "display_name": "Python 3",
   "language": "python",
   "name": "python3"
  },
  "language_info": {
   "codemirror_mode": {
    "name": "ipython",
    "version": 3
   },
   "file_extension": ".py",
   "mimetype": "text/x-python",
   "name": "python",
   "nbconvert_exporter": "python",
   "pygments_lexer": "ipython3",
   "version": "3.7.4"
  }
 },
 "nbformat": 4,
 "nbformat_minor": 2
}
