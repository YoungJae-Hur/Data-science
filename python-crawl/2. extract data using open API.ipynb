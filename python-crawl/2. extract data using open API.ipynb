{
 "cells": [
  {
   "cell_type": "markdown",
   "metadata": {},
   "source": [
    "endpoint checking \n",
    "    - API가 서비스되는 서버의 IP or domain address"
   ]
  },
  {
   "cell_type": "code",
   "execution_count": 8,
   "metadata": {},
   "outputs": [
    {
     "name": "stdout",
     "output_type": "stream",
     "text": [
      "http://api.visitkorea.or.kr/openapi/service/rest/EngService/areaCode?serviceKey=Jspy6s3E6WHu3QC6M2svf4hXTZ2e%2FLaj1Hvt0kE6v97eASjR9T%2Brf9%2BRceZBfggiRS9jSQ4BepEKNzTIMpdk%2Bg%3D%3D&numOfRows=10&pageSize=10&pageNo=1&MobileOS=ETC&MobileApp=AppTest&_type=json\n"
     ]
    }
   ],
   "source": [
    "endpoint = 'http://api.visitkorea.or.kr/openapi/service/rest/EngService/areaCode?serviceKey={}&numOfRows=10&pageSize=10&pageNo=1&MobileOS=ETC&MobileApp=AppTest&_type=json'.format(serviceKey)\n",
    "print(endpoint)"
   ]
  },
  {
   "cell_type": "markdown",
   "metadata": {},
   "source": [
    "check the key value\n",
    "    - 서비스 호출 트래킹할 목적이나 악의적인 사용을 금지할 목적으로 주로 사용\n",
    "    - 새로 발급받은 키는 1시간 이후 사용가능"
   ]
  },
  {
   "cell_type": "code",
   "execution_count": 7,
   "metadata": {},
   "outputs": [],
   "source": [
    "serviceKey = 'Jspy6s3E6WHu3QC6M2svf4hXTZ2e%2FLaj1Hvt0kE6v97eASjR9T%2Brf9%2BRceZBfggiRS9jSQ4BepEKNzTIMpdk%2Bg%3D%3D'"
   ]
  },
  {
   "cell_type": "markdown",
   "metadata": {},
   "source": [
    "parameter 확인하기 \n",
    "  - API 호출에 필요한 parameter 값 확인 및 구성"
   ]
  },
  {
   "cell_type": "code",
   "execution_count": 15,
   "metadata": {},
   "outputs": [
    {
     "name": "stdout",
     "output_type": "stream",
     "text": [
      "200\n",
      "{\"response\":{\"header\":{\"resultCode\":\"0000\",\"resultMsg\":\"OK\"},\"body\":{\"items\":{\"item\":[{\"code\":1,\"name\":\"Seoul\",\"rnum\":1},{\"code\":2,\"name\":\"Incheon\",\"rnum\":2},{\"code\":3,\"name\":\"Daejeon\",\"rnum\":3},{\"code\":4,\"name\":\"Daegu\",\"rnum\":4},{\"code\":5,\"name\":\"Gwangju\",\"rnum\":5},{\"code\":6,\"name\":\"Busan\",\"rnum\":6},{\"code\":7,\"name\":\"Ulsan\",\"rnum\":7},{\"code\":8,\"name\":\"Sejong\",\"rnum\":8},{\"code\":31,\"name\":\"Gyeonggi-do\",\"rnum\":9},{\"code\":32,\"name\":\"Gangwon-do\",\"rnum\":10}]},\"numOfRows\":10,\"pageNo\":1,\"totalCount\":17}}}\n",
      "<class 'dict'>\n",
      "{'code': 1, 'name': 'Seoul', 'rnum': 1}\n"
     ]
    }
   ],
   "source": [
    "import requests\n",
    "endpoint = 'http://api.visitkorea.or.kr/openapi/service/rest/EngService/areaCode?serviceKey={}&numOfRows=10&pageSize=10&pageNo={}&MobileOS=ETC&MobileApp=AppTest&_type=json'.format(serviceKey,1)\n",
    "\n",
    "response = requests.get(endpoint)\n",
    "print(response.status_code)\n",
    "print(response.text)\n",
    "data = response.json()\n",
    "print(type(data))\n",
    "\n",
    "\n",
    "print(data['response']['body']['items']['item'][0])"
   ]
  },
  {
   "cell_type": "code",
   "execution_count": null,
   "metadata": {},
   "outputs": [],
   "source": [
    "print(data)"
   ]
  }
 ],
 "metadata": {
  "kernelspec": {
   "display_name": "Python 3",
   "language": "python",
   "name": "python3"
  },
  "language_info": {
   "codemirror_mode": {
    "name": "ipython",
    "version": 3
   },
   "file_extension": ".py",
   "mimetype": "text/x-python",
   "name": "python",
   "nbconvert_exporter": "python",
   "pygments_lexer": "ipython3",
   "version": "3.7.4"
  }
 },
 "nbformat": 4,
 "nbformat_minor": 2
}
