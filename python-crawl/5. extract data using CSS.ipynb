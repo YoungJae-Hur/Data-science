{
 "cells": [
  {
   "cell_type": "code",
   "execution_count": 1,
   "metadata": {},
   "outputs": [],
   "source": [
    "import requests\n",
    "from bs4 import BeautifulSoup\n",
    "\n",
    "url = 'https://news.v.daum.net/v/20200418160228343'\n",
    "resp = requests.get(url)\n",
    "soup = BeautifulSoup(resp.text)"
   ]
  },
  {
   "cell_type": "code",
   "execution_count": 2,
   "metadata": {},
   "outputs": [
    {
     "data": {
      "text/plain": [
       "[<h3 class=\"tit_view\" data-translation=\"\">軍 \"논산훈련소 코로나 확진 신천지교인 2명 귀가조치\"(종합)</h3>,\n",
       " <h3 class=\"txt_newsview\" data-reactid=\".ndbebxpj4c.0\">많이본 뉴스</h3>,\n",
       " <h3 class=\"txt_newsview\">포토&amp;TV</h3>,\n",
       " <h3 class=\"txt_newsview\">이 시각 추천뉴스</h3>,\n",
       " <h3 class=\"txt_newsview\">실시간 주요이슈</h3>]"
      ]
     },
     "execution_count": 2,
     "metadata": {},
     "output_type": "execute_result"
    }
   ],
   "source": [
    "soup.select('h3')"
   ]
  },
  {
   "cell_type": "code",
   "execution_count": 3,
   "metadata": {},
   "outputs": [
    {
     "data": {
      "text/plain": [
       "[<p class=\"link_figure\"><img alt=\"군 장병들의 코로나19 방역활동 [연합뉴스 자료사진]\" class=\"thumb_g_article\" dmcf-mid=\"juYpFf2fj1\" dmcf-mtype=\"image\" height=\"auto\" src=\"https://img4.daumcdn.net/thumb/R658x0.q70/?fname=https://t1.daumcdn.net/news/202004/18/yonhap/20200418210220730cdau.jpg\" width=\"658\"/></p>,\n",
       " <p dmcf-pid=\"j5UnbiehkZ\" dmcf-ptype=\"general\">(서울=연합뉴스) 이준삼 기자 = 군당국은 18일 신종 코로나바이러스 감염증(코로나19) 확진판정을 받은 논산 육군훈련소 입소자 2명에 대해 '귀가조치'했다고 밝혔다.</p>,\n",
       " <p dmcf-pid=\"jg3L4x1gZQ\" dmcf-ptype=\"general\">육군은 이날 \"육군훈련소 입소 과정에서 대구지역에 거주하는 신천지 교인으로 확인돼 예방적 격리 중이던 입영 장정 2명이 지난 17일 나온 PCR(유전자 증폭) 검사 결과에서 확진 판정을 받았다\"며 이같이 전했다.</p>,\n",
       " <p dmcf-pid=\"jyMCQukF3o\" dmcf-ptype=\"general\">이들 2명은 이날 오전 주소지 의료기관인 대구 동산병원으로 이송됐다.</p>,\n",
       " <p dmcf-pid=\"j2SHQvvXLa\" dmcf-ptype=\"general\">육군은 또 확진자들과 동일한 격리 공간에 있었던 접촉자 38명은 별도의 1인실에서 PCR 검사를 받았고 모두 음성 판정을 받았다고 밝혔다.</p>,\n",
       " <p dmcf-pid=\"j8rK6SOFxz\" dmcf-ptype=\"general\">이어 \"이번에 확진 판정을 받은 2명은 앞서 확진된 경남 창원 거주 인원과 함께 입대했다\"며 \"역학적 연관성 등을 고려해 예방적 격리된 상태에서 PCR 검사를 실시했다\"고 설명했다.</p>,\n",
       " <p dmcf-pid=\"jxgUC2XM9A\" dmcf-ptype=\"general\">논산 육군훈련소에서 발생한 확진자는 지금까지 모두 3명으로, 앞서 경남 창원에 거주하는 남성(22)이 지난 16일 양성 판정을 받고 퇴소했다. 이 남성 역시 신천지 교인으로 확인됐다.</p>,\n",
       " <p dmcf-pid=\"jRMgZjtw7G\" dmcf-ptype=\"general\">한편, 국방부에 따르면 이날 오전 10시 기준으로 군내 코로나19 누적 확진자는 총 39명(현 3명·완치 36명)이며 추가 확진자는 발생하지 않았다.</p>,\n",
       " <p dmcf-pid=\"jKNbBUJa6q\" dmcf-ptype=\"general\">군별로 보면 육군 21명(완치 19명), 해군 1명, 해병 2명(완치 2명), 공군 14명(완치 14명), 국방부 직할부대 1명(완치 1명) 등이다.</p>,\n",
       " <p dmcf-pid=\"jePdPVfOBL\" dmcf-ptype=\"general\">보건당국 기준 격리자는 3명이며 군 기준 예방적 격리자는 1천350여 명이다.</p>,\n",
       " <p dmcf-pid=\"jR9gd15dzV\" dmcf-ptype=\"general\">육군훈련소 확진자 3명은 정식 입소 전에 발병 사실이 확인돼 '군내 확진자' 집계에는 포함되지 않았다.</p>,\n",
       " <p dmcf-pid=\"jiiQXkkuES\" dmcf-ptype=\"general\">jslee@yna.co.kr</p>]"
      ]
     },
     "execution_count": 3,
     "metadata": {},
     "output_type": "execute_result"
    }
   ],
   "source": [
    "soup.select('#harmonyContainer p')"
   ]
  },
  {
   "cell_type": "code",
   "execution_count": 4,
   "metadata": {},
   "outputs": [
    {
     "data": {
      "text/plain": [
       "[<h3 class=\"tit_view\" data-translation=\"\">軍 \"논산훈련소 코로나 확진 신천지교인 2명 귀가조치\"(종합)</h3>,\n",
       " <h3 class=\"txt_newsview\" data-reactid=\".ndbebxpj4c.0\">많이본 뉴스</h3>,\n",
       " <h3 class=\"txt_newsview\">포토&amp;TV</h3>,\n",
       " <h3 class=\"txt_newsview\">이 시각 추천뉴스</h3>,\n",
       " <h3 class=\"txt_newsview\">실시간 주요이슈</h3>]"
      ]
     },
     "execution_count": 4,
     "metadata": {},
     "output_type": "execute_result"
    }
   ],
   "source": [
    "soup.select('h3')"
   ]
  },
  {
   "cell_type": "code",
   "execution_count": 5,
   "metadata": {},
   "outputs": [
    {
     "data": {
      "text/plain": [
       "[<h3 class=\"tit_view\" data-translation=\"\">軍 \"논산훈련소 코로나 확진 신천지교인 2명 귀가조치\"(종합)</h3>]"
      ]
     },
     "execution_count": 5,
     "metadata": {},
     "output_type": "execute_result"
    }
   ],
   "source": [
    "soup.select('.tit_view')"
   ]
  },
  {
   "cell_type": "code",
   "execution_count": 6,
   "metadata": {},
   "outputs": [
    {
     "data": {
      "text/plain": [
       "[<h3 class=\"tit_view\" data-translation=\"\">軍 \"논산훈련소 코로나 확진 신천지교인 2명 귀가조치\"(종합)</h3>]"
      ]
     },
     "execution_count": 6,
     "metadata": {},
     "output_type": "execute_result"
    }
   ],
   "source": [
    "soup.select('h3[class=\"tit_view\"]')"
   ]
  },
  {
   "cell_type": "markdown",
   "metadata": {},
   "source": [
    "'^='는 t로 시작하는 모든것을 찾을 때"
   ]
  },
  {
   "cell_type": "code",
   "execution_count": 7,
   "metadata": {},
   "outputs": [
    {
     "data": {
      "text/plain": [
       "[<h3 class=\"tit_view\" data-translation=\"\">軍 \"논산훈련소 코로나 확진 신천지교인 2명 귀가조치\"(종합)</h3>,\n",
       " <h3 class=\"txt_newsview\" data-reactid=\".ndbebxpj4c.0\">많이본 뉴스</h3>,\n",
       " <h3 class=\"txt_newsview\">포토&amp;TV</h3>,\n",
       " <h3 class=\"txt_newsview\">이 시각 추천뉴스</h3>,\n",
       " <h3 class=\"txt_newsview\">실시간 주요이슈</h3>]"
      ]
     },
     "execution_count": 7,
     "metadata": {},
     "output_type": "execute_result"
    }
   ],
   "source": [
    "soup.select('h3[class^=\"t\"]')"
   ]
  },
  {
   "cell_type": "markdown",
   "metadata": {},
   "source": [
    "'$='는 _view로 끝나는 모든것을 찾을 때"
   ]
  },
  {
   "cell_type": "code",
   "execution_count": 8,
   "metadata": {},
   "outputs": [
    {
     "data": {
      "text/plain": [
       "[<h3 class=\"tit_view\" data-translation=\"\">軍 \"논산훈련소 코로나 확진 신천지교인 2명 귀가조치\"(종합)</h3>]"
      ]
     },
     "execution_count": 8,
     "metadata": {},
     "output_type": "execute_result"
    }
   ],
   "source": [
    "soup.select('h3[class$=\"_view\"]')"
   ]
  },
  {
   "cell_type": "markdown",
   "metadata": {},
   "source": [
    "'*=' 중간에 '_'를 포함하는 것의 모든것을 찾을때"
   ]
  },
  {
   "cell_type": "code",
   "execution_count": 9,
   "metadata": {},
   "outputs": [
    {
     "data": {
      "text/plain": [
       "[<h3 class=\"tit_view\" data-translation=\"\">軍 \"논산훈련소 코로나 확진 신천지교인 2명 귀가조치\"(종합)</h3>,\n",
       " <h3 class=\"txt_newsview\" data-reactid=\".ndbebxpj4c.0\">많이본 뉴스</h3>,\n",
       " <h3 class=\"txt_newsview\">포토&amp;TV</h3>,\n",
       " <h3 class=\"txt_newsview\">이 시각 추천뉴스</h3>,\n",
       " <h3 class=\"txt_newsview\">실시간 주요이슈</h3>]"
      ]
     },
     "execution_count": 9,
     "metadata": {},
     "output_type": "execute_result"
    }
   ],
   "source": [
    "soup.select('h3[class*=\"_\"]')"
   ]
  },
  {
   "cell_type": "markdown",
   "metadata": {},
   "source": [
    "- 아이디 찾기 #id\n",
    "- 클래스 찾기 .class\n",
    "- 속성값 찾기 [name='test']\n",
    "    - 속성값 prefix 찾기 [name ^= 'test']\n",
    "    - 속성값 suffix 찾기 [name $= 'test']\n",
    "    - 속성값 substring 찾기 [name *= 'test']\n",
    "- n번째 자식 tag 찾기 :nth-child(n)"
   ]
  },
  {
   "cell_type": "code",
   "execution_count": 10,
   "metadata": {},
   "outputs": [
    {
     "data": {
      "text/plain": [
       "<span class=\"txt_info\">이준삼</span>"
      ]
     },
     "execution_count": 10,
     "metadata": {},
     "output_type": "execute_result"
    }
   ],
   "source": [
    "soup.select('span.txt_info')[0]"
   ]
  },
  {
   "cell_type": "code",
   "execution_count": 11,
   "metadata": {},
   "outputs": [
    {
     "data": {
      "text/plain": [
       "[<span class=\"txt_info\">이준삼</span>]"
      ]
     },
     "execution_count": 11,
     "metadata": {},
     "output_type": "execute_result"
    }
   ],
   "source": [
    "\n",
    "soup.select('span.txt_info:nth-child(1)')"
   ]
  },
  {
   "cell_type": "code",
   "execution_count": 12,
   "metadata": {},
   "outputs": [
    {
     "data": {
      "text/plain": [
       "[<span class=\"txt_info\">입력 2020.04.18. 16:02</span>]"
      ]
     },
     "execution_count": 12,
     "metadata": {},
     "output_type": "execute_result"
    }
   ],
   "source": [
    "soup.select('span.txt_info:nth-child(2)')"
   ]
  },
  {
   "cell_type": "code",
   "execution_count": 13,
   "metadata": {},
   "outputs": [
    {
     "data": {
      "text/plain": [
       "[<span class=\"txt_info\">입력 2020.04.18. 16:02</span>]"
      ]
     },
     "execution_count": 13,
     "metadata": {},
     "output_type": "execute_result"
    }
   ],
   "source": [
    "soup.select('span.txt_info:nth-child(2)')"
   ]
  },
  {
   "cell_type": "code",
   "execution_count": 14,
   "metadata": {},
   "outputs": [
    {
     "data": {
      "text/plain": [
       "[<span class=\"txt_info\">이준삼</span>]"
      ]
     },
     "execution_count": 14,
     "metadata": {},
     "output_type": "execute_result"
    }
   ],
   "source": [
    "soup.select('span.txt_info:nth-child(1)')"
   ]
  },
  {
   "cell_type": "code",
   "execution_count": null,
   "metadata": {},
   "outputs": [],
   "source": []
  }
 ],
 "metadata": {
  "kernelspec": {
   "display_name": "Python 3",
   "language": "python",
   "name": "python3"
  },
  "language_info": {
   "codemirror_mode": {
    "name": "ipython",
    "version": 3
   },
   "file_extension": ".py",
   "mimetype": "text/x-python",
   "name": "python",
   "nbconvert_exporter": "python",
   "pygments_lexer": "ipython3",
   "version": "3.7.4"
  }
 },
 "nbformat": 4,
 "nbformat_minor": 2
}
